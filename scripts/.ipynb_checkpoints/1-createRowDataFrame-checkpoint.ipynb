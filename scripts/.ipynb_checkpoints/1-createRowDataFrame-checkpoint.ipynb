{
 "cells": [
  {
   "cell_type": "markdown",
   "id": "5ed8b390-22a0-46fc-8752-0b27544bcdae",
   "metadata": {},
   "source": []
  },
  {
   "cell_type": "markdown",
   "id": "9be73765-9637-40a3-904c-65d77fee665f",
   "metadata": {},
   "source": [
    "# rowDataからdataframeを作る"
   ]
  },
  {
   "cell_type": "code",
   "execution_count": 1,
   "id": "28f2eadc-a179-45c0-a698-66a0e6f2a7ae",
   "metadata": {},
   "outputs": [],
   "source": [
    "import pandas as pd\n",
    "import re\n",
    "\n",
    "DATA_ACK_SREP = '../../data/original/edgelist-ack_srep'\n",
    "\n",
    "DATA_ACK_PLOS = '../../data/original/edgelist-ack_plos_17'\n",
    "DATA_ACK_PLOS21 = '../../data/original/edgelist-ack_plos_21'\n",
    "FILES = ['compbiology', 'biology', 'medicine', 'genetics', 'ntds', 'pathogenes']\n",
    "\n",
    "# SAVE_PATH = '../../data/treatedEdgeList-ack'\n",
    "SAVE_PATH21 = '../../data/treatedEdgeList-ack_MAG'"
   ]
  },
  {
   "cell_type": "markdown",
   "id": "4c69029f-91aa-49e8-a629-3f658e7deff1",
   "metadata": {},
   "source": [
    "# Read Raw Data"
   ]
  },
  {
   "cell_type": "markdown",
   "id": "211b3d1e-37e7-4a3c-9a82-ef847e60c0d9",
   "metadata": {},
   "source": [
    "### srep"
   ]
  },
  {
   "cell_type": "code",
   "execution_count": 2,
   "id": "793a3dba-d329-42a1-8103-cf6798d2cc9b",
   "metadata": {},
   "outputs": [],
   "source": [
    "# srep\n",
    "df_srep = pd.DataFrame()\n",
    "for year in range(2011, 2022):\n",
    "    _df = pd.read_csv(f'{DATA_ACK_SREP}/edgelist_{year}.txt',\n",
    "                 sep=' ',\n",
    "                 names=['paperId', 'date', 'author', 'acknow', 'n_author'])\n",
    "    _df = _df.dropna()\n",
    "    df_srep = pd.concat([df_srep, _df])"
   ]
  },
  {
   "cell_type": "markdown",
   "id": "64c68afe-f9f9-4e6f-b7d8-7043e8926691",
   "metadata": {},
   "source": [
    "### plos に関しては2017までのもの"
   ]
  },
  {
   "cell_type": "code",
   "execution_count": 3,
   "id": "cbfba2d8-d5d4-4754-87cf-0f0d872c75f7",
   "metadata": {
    "tags": []
   },
   "outputs": [],
   "source": [
    "# plos\n",
    "dfs = {}\n",
    "# FILESの分野\n",
    "n_files = 0\n",
    "for file in FILES:\n",
    "    _df = pd.read_csv(f'{DATA_ACK_PLOS}/Network1_{file}.txt',\n",
    "                 sep=' ',\n",
    "                 names=['paperId', 'date', 'author', 'acknow', 'n_author'])\n",
    "    dfs[file] = _df\n",
    "\n",
    "# plosone\n",
    "df_plosone = pd.DataFrame()\n",
    "for file in range(1, 21):\n",
    "    _df = pd.read_csv(f'{DATA_ACK_PLOS}/Network1_Set{file}.txt',\n",
    "                 sep=' ',\n",
    "                 names=['paperId', 'date', 'author', 'acknow', 'n_author'])\n",
    "    # drop na\n",
    "    _df = _df.dropna()\n",
    "    df_plosone = pd.concat([df_plosone, _df])\n",
    "dfs['plosone'] = df_plosone"
   ]
  },
  {
   "cell_type": "markdown",
   "id": "1784bb36-1bbb-40cc-9b0b-d137c705bc27",
   "metadata": {},
   "source": [
    "### plosに関して2017-2021のデータ"
   ]
  },
  {
   "cell_type": "code",
   "execution_count": 4,
   "id": "0e83a01a-7da2-42d9-8c6b-3ebf213d6ca6",
   "metadata": {
    "collapsed": true,
    "jupyter": {
     "outputs_hidden": true
    },
    "tags": []
   },
   "outputs": [
    {
     "name": "stdout",
     "output_type": "stream",
     "text": [
      "21\n",
      "31656\n",
      "22\n",
      "105845\n",
      "23\n",
      "172411\n",
      "24\n",
      "261852\n",
      "25\n",
      "326451\n",
      "26\n",
      "398868\n",
      "27\n",
      "473156\n",
      "28\n",
      "536940\n",
      "29\n",
      "609520\n",
      "30\n",
      "673473\n",
      "31\n",
      "749902\n",
      "32\n",
      "819539\n",
      "33\n",
      "885674\n",
      "34\n",
      "946250\n",
      "35\n",
      "1004612\n"
     ]
    }
   ],
   "source": [
    "# plos\n",
    "dfs21 = {}\n",
    "# FILESの分野\n",
    "n_files = 0\n",
    "for file in FILES:\n",
    "    if file == 'compbiology': # robots.txtに記載がなかったため\n",
    "        continue\n",
    "    _df = pd.read_csv(f'{DATA_ACK_PLOS21}/{file}_2021.txt',\n",
    "                 sep=' ',\n",
    "                 names=['paperId', 'date', 'author', 'acknow', 'n_author'])\n",
    "    dfs21[file] = _df\n",
    "\n",
    "# plosone\n",
    "df_plosone21 = pd.DataFrame()\n",
    "for file in range(21,36):\n",
    "    print(file)\n",
    "    _df = pd.read_csv(f'{DATA_ACK_PLOS21}/plosone_set{file}.txt',\n",
    "                 sep=' ',\n",
    "                 names=['paperId', 'date', 'author', 'acknow', 'n_author'])\n",
    "    # drop na\n",
    "    _df = _df.dropna()\n",
    "    df_plosone21 = pd.concat([df_plosone21, _df])\n",
    "    print(len(df_plosone21))\n",
    "dfs21['plosone'] = df_plosone21"
   ]
  },
  {
   "cell_type": "code",
   "execution_count": 8,
   "id": "dc4c7134-2c0d-4b4b-9eda-bc7cca53cad7",
   "metadata": {
    "tags": []
   },
   "outputs": [
    {
     "name": "stdout",
     "output_type": "stream",
     "text": [
      "286701\n",
      "== duplicated row == \n",
      "111994\n",
      "=======\n",
      "\n",
      "311522\n",
      "== duplicated row == \n",
      "137664\n",
      "=======\n",
      "\n",
      "573539\n",
      "== duplicated row == \n",
      "190342\n",
      "=======\n",
      "\n",
      "442119\n",
      "== duplicated row == \n",
      "218382\n",
      "=======\n",
      "\n",
      "499104\n",
      "== duplicated row == \n",
      "220202\n",
      "=======\n",
      "\n",
      "6215878\n",
      "== duplicated row == \n",
      "2009224\n",
      "=======\n",
      "\n"
     ]
    }
   ],
   "source": [
    "for file in FILES + ['plosone']:\n",
    "    if file == 'compbiology': # robots.txtに記載がなかったため\n",
    "        continue\n",
    "    print(len(dfs[file]) + len(dfs21[file]))\n",
    "    dfs[file]['date'] = dfs[file]['date'].apply(lambda x: str(x))\n",
    "    dfs21[file]['date'] = dfs21[file]['date'].apply(lambda x: str(x))\n",
    "    \n",
    "    dfs[file] = pd.concat([dfs[file], dfs21[file]]).reset_index(drop=True).drop_duplicates() # after concatination, drop duplicated rows\n",
    "\n",
    "    print(len(dfs[file]))\n",
    "    print('=======\\n')"
   ]
  },
  {
   "cell_type": "code",
   "execution_count": 6,
   "id": "2b2bcce5-b9ed-4939-821e-5f8fc18d8063",
   "metadata": {},
   "outputs": [
    {
     "name": "stdout",
     "output_type": "stream",
     "text": [
      "compbiology\n",
      "0\n",
      "biology\n",
      "0\n",
      "medicine\n",
      "0\n",
      "genetics\n",
      "0\n",
      "ntds\n",
      "0\n",
      "pathogenes\n",
      "0\n"
     ]
    }
   ],
   "source": [
    "for file in FILES:\n",
    "    print(file)\n",
    "    print(dfs[file].duplicated().sum())"
   ]
  },
  {
   "cell_type": "code",
   "execution_count": 22,
   "id": "9940ec04-a69e-438b-ab55-2fae5af08a55",
   "metadata": {},
   "outputs": [
    {
     "data": {
      "text/html": [
       "<div>\n",
       "<style scoped>\n",
       "    .dataframe tbody tr th:only-of-type {\n",
       "        vertical-align: middle;\n",
       "    }\n",
       "\n",
       "    .dataframe tbody tr th {\n",
       "        vertical-align: top;\n",
       "    }\n",
       "\n",
       "    .dataframe thead th {\n",
       "        text-align: right;\n",
       "    }\n",
       "</style>\n",
       "<table border=\"1\" class=\"dataframe\">\n",
       "  <thead>\n",
       "    <tr style=\"text-align: right;\">\n",
       "      <th></th>\n",
       "      <th>paperId</th>\n",
       "      <th>date</th>\n",
       "      <th>author</th>\n",
       "      <th>acknow</th>\n",
       "      <th>n_author</th>\n",
       "    </tr>\n",
       "  </thead>\n",
       "  <tbody>\n",
       "    <tr>\n",
       "      <th>0</th>\n",
       "      <td>10.1371/journal.pbio.0000001</td>\n",
       "      <td>2003</td>\n",
       "      <td>Alfred_Ian_Lee</td>\n",
       "      <td>C._M._Radding</td>\n",
       "      <td>6</td>\n",
       "    </tr>\n",
       "    <tr>\n",
       "      <th>1</th>\n",
       "      <td>10.1371/journal.pbio.0000001</td>\n",
       "      <td>2003</td>\n",
       "      <td>Alfred_Ian_Lee</td>\n",
       "      <td>N._D._Grindley</td>\n",
       "      <td>6</td>\n",
       "    </tr>\n",
       "    <tr>\n",
       "      <th>2</th>\n",
       "      <td>10.1371/journal.pbio.0000001</td>\n",
       "      <td>2003</td>\n",
       "      <td>Alfred_Ian_Lee</td>\n",
       "      <td>N._H._Ruddle</td>\n",
       "      <td>6</td>\n",
       "    </tr>\n",
       "    <tr>\n",
       "      <th>3</th>\n",
       "      <td>10.1371/journal.pbio.0000001</td>\n",
       "      <td>2003</td>\n",
       "      <td>David_G_Schatz</td>\n",
       "      <td>C._M._Radding</td>\n",
       "      <td>6</td>\n",
       "    </tr>\n",
       "    <tr>\n",
       "      <th>4</th>\n",
       "      <td>10.1371/journal.pbio.0000001</td>\n",
       "      <td>2003</td>\n",
       "      <td>David_G_Schatz</td>\n",
       "      <td>N._D._Grindley</td>\n",
       "      <td>6</td>\n",
       "    </tr>\n",
       "    <tr>\n",
       "      <th>...</th>\n",
       "      <td>...</td>\n",
       "      <td>...</td>\n",
       "      <td>...</td>\n",
       "      <td>...</td>\n",
       "      <td>...</td>\n",
       "    </tr>\n",
       "    <tr>\n",
       "      <th>175193</th>\n",
       "      <td>10.1371/journal.pbio.3000564</td>\n",
       "      <td>Jul_23,_2020</td>\n",
       "      <td>Alexander_G._Bobylev</td>\n",
       "      <td>A._A._Rubel</td>\n",
       "      <td>20</td>\n",
       "    </tr>\n",
       "    <tr>\n",
       "      <th>175194</th>\n",
       "      <td>10.1371/journal.pbio.3000564</td>\n",
       "      <td>Jul_23,_2020</td>\n",
       "      <td>Konstantin_S._Usachev</td>\n",
       "      <td>A._A._Rubel</td>\n",
       "      <td>20</td>\n",
       "    </tr>\n",
       "    <tr>\n",
       "      <th>175195</th>\n",
       "      <td>10.1371/journal.pbio.3000564</td>\n",
       "      <td>Jul_23,_2020</td>\n",
       "      <td>Oleg._N._Demidov</td>\n",
       "      <td>A._A._Rubel</td>\n",
       "      <td>20</td>\n",
       "    </tr>\n",
       "    <tr>\n",
       "      <th>175196</th>\n",
       "      <td>10.1371/journal.pbio.3000564</td>\n",
       "      <td>Jul_23,_2020</td>\n",
       "      <td>Igor_A._Tikhonovich</td>\n",
       "      <td>A._A._Rubel</td>\n",
       "      <td>20</td>\n",
       "    </tr>\n",
       "    <tr>\n",
       "      <th>175197</th>\n",
       "      <td>10.1371/journal.pbio.3000564</td>\n",
       "      <td>Jul_23,_2020</td>\n",
       "      <td>Anton_A._Nizhnikov</td>\n",
       "      <td>A._A._Rubel</td>\n",
       "      <td>20</td>\n",
       "    </tr>\n",
       "  </tbody>\n",
       "</table>\n",
       "<p>174707 rows × 5 columns</p>\n",
       "</div>"
      ],
      "text/plain": [
       "                             paperId          date                 author  \\\n",
       "0       10.1371/journal.pbio.0000001          2003         Alfred_Ian_Lee   \n",
       "1       10.1371/journal.pbio.0000001          2003         Alfred_Ian_Lee   \n",
       "2       10.1371/journal.pbio.0000001          2003         Alfred_Ian_Lee   \n",
       "3       10.1371/journal.pbio.0000001          2003         David_G_Schatz   \n",
       "4       10.1371/journal.pbio.0000001          2003         David_G_Schatz   \n",
       "...                              ...           ...                    ...   \n",
       "175193  10.1371/journal.pbio.3000564  Jul_23,_2020   Alexander_G._Bobylev   \n",
       "175194  10.1371/journal.pbio.3000564  Jul_23,_2020  Konstantin_S._Usachev   \n",
       "175195  10.1371/journal.pbio.3000564  Jul_23,_2020       Oleg._N._Demidov   \n",
       "175196  10.1371/journal.pbio.3000564  Jul_23,_2020    Igor_A._Tikhonovich   \n",
       "175197  10.1371/journal.pbio.3000564  Jul_23,_2020     Anton_A._Nizhnikov   \n",
       "\n",
       "                acknow  n_author  \n",
       "0        C._M._Radding         6  \n",
       "1       N._D._Grindley         6  \n",
       "2         N._H._Ruddle         6  \n",
       "3        C._M._Radding         6  \n",
       "4       N._D._Grindley         6  \n",
       "...                ...       ...  \n",
       "175193     A._A._Rubel        20  \n",
       "175194     A._A._Rubel        20  \n",
       "175195     A._A._Rubel        20  \n",
       "175196     A._A._Rubel        20  \n",
       "175197     A._A._Rubel        20  \n",
       "\n",
       "[174707 rows x 5 columns]"
      ]
     },
     "execution_count": 22,
     "metadata": {},
     "output_type": "execute_result"
    }
   ],
   "source": [
    "file = 'biology'\n",
    "dfs[file]"
   ]
  },
  {
   "cell_type": "code",
   "execution_count": 24,
   "id": "94ad348b-66c7-4890-8ad0-c7d09017f65d",
   "metadata": {},
   "outputs": [],
   "source": [
    "file = 'plosone'\n",
    "dfs[file].to_csv(f\"{SAVE_PATH21}/{file}.csv\", index=False)\n",
    "\n",
    "# save as csv \n",
    "# plos\n",
    "for file in FILES:\n",
    "    dfs[file].to_csv(f\"{SAVE_PATH21}/{file}.csv\", index=False)"
   ]
  },
  {
   "cell_type": "markdown",
   "id": "2f399084-a4c9-452d-9c77-7c30045b35a2",
   "metadata": {},
   "source": [
    "## srepのhtmlで数字で表されている名前をアルファベットに変換します"
   ]
  },
  {
   "cell_type": "code",
   "execution_count": 25,
   "id": "fd32a318-0630-4348-aa7e-281058709229",
   "metadata": {},
   "outputs": [],
   "source": [
    "def correct_name(name):\n",
    "    \n",
    "#     name = '&#225;Carlos_Gracia-L&#225;zaro-L&#225;zaro'\n",
    "    names = name.split('&')\n",
    "\n",
    "    list_original_names = []\n",
    "    for ele in names:\n",
    "        if len(ele) > 0:\n",
    "            eles = ele.split(';')\n",
    "            # change int to str \n",
    "            for i in eles:\n",
    "                try:\n",
    "                    list_original_names.append(chr(int(i[1:]))) # convert here\n",
    "                except:\n",
    "                    list_original_names.append(i)\n",
    "\n",
    "    original_name = ''.join([str(elem) for elem in list_original_names])\n",
    "    return original_name"
   ]
  },
  {
   "cell_type": "code",
   "execution_count": 27,
   "id": "c669f9aa-4364-4e6d-9ce9-77820a3ae898",
   "metadata": {},
   "outputs": [],
   "source": [
    "df_srep['author'] = df_srep['author'].apply(correct_name)"
   ]
  },
  {
   "cell_type": "code",
   "execution_count": 28,
   "id": "f7c1dcd7-01a6-402c-847b-e4f0a115d03f",
   "metadata": {},
   "outputs": [
    {
     "data": {
      "text/html": [
       "<div>\n",
       "<style scoped>\n",
       "    .dataframe tbody tr th:only-of-type {\n",
       "        vertical-align: middle;\n",
       "    }\n",
       "\n",
       "    .dataframe tbody tr th {\n",
       "        vertical-align: top;\n",
       "    }\n",
       "\n",
       "    .dataframe thead th {\n",
       "        text-align: right;\n",
       "    }\n",
       "</style>\n",
       "<table border=\"1\" class=\"dataframe\">\n",
       "  <thead>\n",
       "    <tr style=\"text-align: right;\">\n",
       "      <th></th>\n",
       "      <th>paperId</th>\n",
       "      <th>date</th>\n",
       "      <th>author</th>\n",
       "      <th>acknow</th>\n",
       "      <th>n_author</th>\n",
       "    </tr>\n",
       "  </thead>\n",
       "  <tbody>\n",
       "    <tr>\n",
       "      <th>446</th>\n",
       "      <td>article/2012/srep00325</td>\n",
       "      <td>21_March_2012</td>\n",
       "      <td>Carlos_Gracia-Lázaro</td>\n",
       "      <td>Comunidad_de_Aragón</td>\n",
       "      <td>4</td>\n",
       "    </tr>\n",
       "    <tr>\n",
       "      <th>447</th>\n",
       "      <td>article/2012/srep00325</td>\n",
       "      <td>21_March_2012</td>\n",
       "      <td>José_A._Cuesta</td>\n",
       "      <td>Comunidad_de_Aragón</td>\n",
       "      <td>4</td>\n",
       "    </tr>\n",
       "    <tr>\n",
       "      <th>448</th>\n",
       "      <td>article/2012/srep00325</td>\n",
       "      <td>21_March_2012</td>\n",
       "      <td>Angel_Sánchez</td>\n",
       "      <td>Comunidad_de_Aragón</td>\n",
       "      <td>4</td>\n",
       "    </tr>\n",
       "    <tr>\n",
       "      <th>449</th>\n",
       "      <td>article/2012/srep00325</td>\n",
       "      <td>21_March_2012</td>\n",
       "      <td>Yamir_Moreno</td>\n",
       "      <td>Comunidad_de_Aragón</td>\n",
       "      <td>4</td>\n",
       "    </tr>\n",
       "  </tbody>\n",
       "</table>\n",
       "</div>"
      ],
      "text/plain": [
       "                    paperId           date                author  \\\n",
       "446  article/2012/srep00325  21_March_2012  Carlos_Gracia-Lázaro   \n",
       "447  article/2012/srep00325  21_March_2012        José_A._Cuesta   \n",
       "448  article/2012/srep00325  21_March_2012         Angel_Sánchez   \n",
       "449  article/2012/srep00325  21_March_2012          Yamir_Moreno   \n",
       "\n",
       "                  acknow  n_author  \n",
       "446  Comunidad_de_Aragón         4  \n",
       "447  Comunidad_de_Aragón         4  \n",
       "448  Comunidad_de_Aragón         4  \n",
       "449  Comunidad_de_Aragón         4  "
      ]
     },
     "execution_count": 28,
     "metadata": {},
     "output_type": "execute_result"
    }
   ],
   "source": [
    "df_srep[df_srep['paperId'] == 'article/2012/srep00325']"
   ]
  },
  {
   "cell_type": "markdown",
   "id": "b1e00404-80e2-42a4-b0f2-561b057858fc",
   "metadata": {},
   "source": [
    "### srepのdoiを変更します"
   ]
  },
  {
   "cell_type": "code",
   "execution_count": 35,
   "id": "76d8a351-4663-4128-b730-adfaf69c4671",
   "metadata": {},
   "outputs": [],
   "source": [
    "# change srep's doi\n",
    "df_srep['paperId'] = df_srep['paperId'].apply(lambda x: '10.1038/'+x.split('/')[-1]).tolist()"
   ]
  },
  {
   "cell_type": "code",
   "execution_count": 40,
   "id": "eb74b40a-92eb-49f3-b674-84bbdcb0c34c",
   "metadata": {},
   "outputs": [],
   "source": [
    "# srep\n",
    "df_srep.to_csv(f\"{SAVE_PATH21}/srep.csv\", index=False)"
   ]
  },
  {
   "cell_type": "code",
   "execution_count": null,
   "id": "a1bbbe13-043e-46a3-9278-6b3f65e1ae4e",
   "metadata": {},
   "outputs": [],
   "source": []
  }
 ],
 "metadata": {
  "kernelspec": {
   "display_name": "Python 3 (ipykernel)",
   "language": "python",
   "name": "python3"
  },
  "language_info": {
   "codemirror_mode": {
    "name": "ipython",
    "version": 3
   },
   "file_extension": ".py",
   "mimetype": "text/x-python",
   "name": "python",
   "nbconvert_exporter": "python",
   "pygments_lexer": "ipython3",
   "version": "3.9.6"
  }
 },
 "nbformat": 4,
 "nbformat_minor": 5
}
