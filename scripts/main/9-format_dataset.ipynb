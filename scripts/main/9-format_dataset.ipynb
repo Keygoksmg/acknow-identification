{
 "cells": [
  {
   "cell_type": "markdown",
   "id": "793ac3c2-fabb-4ef6-9f40-80b7b3e306d6",
   "metadata": {},
   "source": [
    "# The resulting dataset is formatted to be public"
   ]
  },
  {
   "cell_type": "code",
   "execution_count": 5,
   "id": "0c7211b8-fab6-4623-9cf8-f677d7bcbab5",
   "metadata": {},
   "outputs": [],
   "source": [
    "import pandas as pd\n",
    "import numpy as np\n",
    "import os.path\n",
    "from pathlib import Path\n",
    "\n",
    "FILES = ['compbiology', 'biology', 'medicine', 'genetics', 'ntds', 'pathogenes', 'plosone', 'srep']\n",
    "\n",
    "# Path to data\n",
    "PATH_SAVED_CSV = '../../data-computed-MAG'\n",
    "PATH_MAG = '../../data-MAG/'\n",
    "PATH_ROW_ACKNOW = '../../data/TreatedEdgeList21'\n",
    "\n",
    "# Path to data to save\n",
    "PATH_SAVE = '../../data-computed/final_csvs'\n",
    "Path(PATH_SAVE).mkdir(parents=True, exist_ok=True) # create save dir if not exists"
   ]
  },
  {
   "cell_type": "markdown",
   "id": "e1c67ce2-42f8-46b7-834f-e275501a6754",
   "metadata": {},
   "source": [
    "# Result dataset"
   ]
  },
  {
   "cell_type": "code",
   "execution_count": 6,
   "id": "cd495b7c-f2e0-4fb6-8b72-8931e6d3cedc",
   "metadata": {},
   "outputs": [
    {
     "data": {
      "text/html": [
       "<div>\n",
       "<style scoped>\n",
       "    .dataframe tbody tr th:only-of-type {\n",
       "        vertical-align: middle;\n",
       "    }\n",
       "\n",
       "    .dataframe tbody tr th {\n",
       "        vertical-align: top;\n",
       "    }\n",
       "\n",
       "    .dataframe thead th {\n",
       "        text-align: right;\n",
       "    }\n",
       "</style>\n",
       "<table border=\"1\" class=\"dataframe\">\n",
       "  <thead>\n",
       "    <tr style=\"text-align: right;\">\n",
       "      <th></th>\n",
       "      <th>pid</th>\n",
       "      <th>acknow</th>\n",
       "      <th>DetermindedAcknowId</th>\n",
       "      <th>ReferencedAuthorIds</th>\n",
       "      <th>acknowId</th>\n",
       "    </tr>\n",
       "  </thead>\n",
       "  <tbody>\n",
       "    <tr>\n",
       "      <th>0</th>\n",
       "      <td>2145218186</td>\n",
       "      <td>Aviv Regev</td>\n",
       "      <td>1.893730e+09</td>\n",
       "      <td>NaN</td>\n",
       "      <td>1893730172</td>\n",
       "    </tr>\n",
       "    <tr>\n",
       "      <th>2</th>\n",
       "      <td>2105003357</td>\n",
       "      <td>Aviv Regev</td>\n",
       "      <td>1.893730e+09</td>\n",
       "      <td>NaN</td>\n",
       "      <td>1893730172</td>\n",
       "    </tr>\n",
       "    <tr>\n",
       "      <th>4</th>\n",
       "      <td>2168608639</td>\n",
       "      <td>Aviv Regev</td>\n",
       "      <td>1.893730e+09</td>\n",
       "      <td>NaN</td>\n",
       "      <td>1893730172</td>\n",
       "    </tr>\n",
       "    <tr>\n",
       "      <th>15</th>\n",
       "      <td>2105898083</td>\n",
       "      <td>Aviv Regev</td>\n",
       "      <td>1.893730e+09</td>\n",
       "      <td>NaN</td>\n",
       "      <td>1893730172</td>\n",
       "    </tr>\n",
       "    <tr>\n",
       "      <th>28</th>\n",
       "      <td>2145218186</td>\n",
       "      <td>Dalit May</td>\n",
       "      <td>2.800119e+09</td>\n",
       "      <td>NaN</td>\n",
       "      <td>2800119218</td>\n",
       "    </tr>\n",
       "  </tbody>\n",
       "</table>\n",
       "</div>"
      ],
      "text/plain": [
       "           pid      acknow  DetermindedAcknowId  ReferencedAuthorIds  \\\n",
       "0   2145218186  Aviv Regev         1.893730e+09                  NaN   \n",
       "2   2105003357  Aviv Regev         1.893730e+09                  NaN   \n",
       "4   2168608639  Aviv Regev         1.893730e+09                  NaN   \n",
       "15  2105898083  Aviv Regev         1.893730e+09                  NaN   \n",
       "28  2145218186   Dalit May         2.800119e+09                  NaN   \n",
       "\n",
       "      acknowId  \n",
       "0   1893730172  \n",
       "2   1893730172  \n",
       "4   1893730172  \n",
       "15  1893730172  \n",
       "28  2800119218  "
      ]
     },
     "execution_count": 6,
     "metadata": {},
     "output_type": "execute_result"
    }
   ],
   "source": [
    "# collaboration identifier\n",
    "df_determinedAcknow_oneId = pd.read_csv('../../data-computed-MAG/d1Collaboration_result.csv')\n",
    "\n",
    "# Reference identifier\n",
    "df_result_cited = pd.read_csv('../../data-computed-MAG/references_result.csv')\n",
    "\n",
    "# merge them\n",
    "df_acknowId_d1collab_ref_merged = pd.merge(df_determinedAcknow_oneId, df_result_cited,  \n",
    "          how='outer', on=['pid', 'acknow'])\n",
    "# drop duplicated row\n",
    "df_acknowId_d1collab_ref_merged = df_acknowId_d1collab_ref_merged.drop_duplicates(subset=['pid', 'acknow'])\n",
    "\n",
    "# Acknoweldged scholars identified only by collaboration approach\n",
    "df_acknowId_from_d1Collab = df_acknowId_d1collab_ref_merged[df_acknowId_d1collab_ref_merged['ReferencedAuthorIds'].isnull()]\n",
    "# Acknoweldged scholars identified only by citation approach\n",
    "df_acknowId_from_ref = df_acknowId_d1collab_ref_merged[df_acknowId_d1collab_ref_merged['DetermindedAcknowId'].isnull()]\n",
    "# Acknoweldged scholars identified by both collaboration and citation approach\n",
    "df_acknowId_from_both = df_acknowId_d1collab_ref_merged[df_acknowId_d1collab_ref_merged['DetermindedAcknowId'] == df_acknowId_d1collab_ref_merged['ReferencedAuthorIds']]\n",
    "\n",
    "# IDs of acknowledged scholars\n",
    "df_acknowId = pd.concat([df_acknowId_from_d1Collab, df_acknowId_from_ref, df_acknowId_from_both])\n",
    "\n",
    "# make new acknowId col\n",
    "df_acknowId['acknowId'] = [ int(row['DetermindedAcknowId']) if np.isnan(row['ReferencedAuthorIds']) else (row['ReferencedAuthorIds']) for i, row in df_acknowId.iterrows()]\n",
    "df_acknowId['acknowId'] = df_acknowId['acknowId'].astype(int)\n",
    "df_acknowId.head()"
   ]
  },
  {
   "cell_type": "markdown",
   "id": "12a83d61-6b1e-426a-931a-143255fca5dd",
   "metadata": {},
   "source": [
    "# Divide by journals"
   ]
  },
  {
   "cell_type": "markdown",
   "id": "f4f90ed1-58aa-4b88-932a-f9e25f102847",
   "metadata": {},
   "source": [
    "# Read doi data in order to tell result in terms of journals"
   ]
  },
  {
   "cell_type": "code",
   "execution_count": 140,
   "id": "e19ab003-b358-4e55-9b7f-96617f1e0efd",
   "metadata": {},
   "outputs": [
    {
     "data": {
      "text/html": [
       "<div>\n",
       "<style scoped>\n",
       "    .dataframe tbody tr th:only-of-type {\n",
       "        vertical-align: middle;\n",
       "    }\n",
       "\n",
       "    .dataframe tbody tr th {\n",
       "        vertical-align: top;\n",
       "    }\n",
       "\n",
       "    .dataframe thead th {\n",
       "        text-align: right;\n",
       "    }\n",
       "</style>\n",
       "<table border=\"1\" class=\"dataframe\">\n",
       "  <thead>\n",
       "    <tr style=\"text-align: right;\">\n",
       "      <th></th>\n",
       "      <th>pid</th>\n",
       "      <th>doi</th>\n",
       "    </tr>\n",
       "  </thead>\n",
       "  <tbody>\n",
       "    <tr>\n",
       "      <th>0</th>\n",
       "      <td>1966827022</td>\n",
       "      <td>10.1371/journal.pcbi.1002887</td>\n",
       "    </tr>\n",
       "    <tr>\n",
       "      <th>1</th>\n",
       "      <td>1970867439</td>\n",
       "      <td>10.1371/journal.pone.0040555</td>\n",
       "    </tr>\n",
       "    <tr>\n",
       "      <th>2</th>\n",
       "      <td>1974609334</td>\n",
       "      <td>10.1371/journal.pmed.1000202</td>\n",
       "    </tr>\n",
       "    <tr>\n",
       "      <th>3</th>\n",
       "      <td>1985768873</td>\n",
       "      <td>10.1371/journal.pcbi.1000731</td>\n",
       "    </tr>\n",
       "    <tr>\n",
       "      <th>4</th>\n",
       "      <td>1991290371</td>\n",
       "      <td>10.1371/journal.pone.0090052</td>\n",
       "    </tr>\n",
       "  </tbody>\n",
       "</table>\n",
       "</div>"
      ],
      "text/plain": [
       "          pid                           doi\n",
       "0  1966827022  10.1371/journal.pcbi.1002887\n",
       "1  1970867439  10.1371/journal.pone.0040555\n",
       "2  1974609334  10.1371/journal.pmed.1000202\n",
       "3  1985768873  10.1371/journal.pcbi.1000731\n",
       "4  1991290371  10.1371/journal.pone.0090052"
      ]
     },
     "execution_count": 140,
     "metadata": {},
     "output_type": "execute_result"
    }
   ],
   "source": [
    "# read paper id data\n",
    "df_magpaper_id_doi_plos = pd.read_table(f'{PATH_MAG}/papers_plos.txt', sep=' ', names=['pid', 'doi'])\n",
    "df_magpaper_id_doi_srep = pd.read_table(f'{PATH_MAG}/papers_srep.txt', sep=' ', names=['pid', 'doi'])\n",
    "df_magpaper_id_doi = pd.concat([df_magpaper_id_doi_plos, df_magpaper_id_doi_srep])\n",
    "\n",
    "# change doi to lower case\n",
    "df_magpaper_id_doi[\"doi\"] = df_magpaper_id_doi[\"doi\"].str.lower()\n",
    "\n",
    "# clear error row: Eliminate cases where multiple paper ids are assigned to a single doi.\n",
    "s_vs = df_magpaper_id_doi['doi'].value_counts()\n",
    "mag_available_dois = set(s_vs[s_vs.values == 1].index)\n",
    "df_magpaper_id_doi2 = df_magpaper_id_doi[df_magpaper_id_doi['doi'].isin(mag_available_dois)]\n",
    "\n",
    "df_magpaper_id_doi2.head()"
   ]
  },
  {
   "cell_type": "code",
   "execution_count": 12,
   "id": "b0fb589b-7191-4690-a1f5-de5943fe244d",
   "metadata": {},
   "outputs": [
    {
     "name": "stderr",
     "output_type": "stream",
     "text": [
      "/Users/keigokusumegi/.anyenv/envs/pyenv/versions/miniforge3-4.10/envs/network-analysis/lib/python3.9/site-packages/IPython/core/interactiveshell.py:3441: DtypeWarning: Columns (1) have mixed types.Specify dtype option on import or set low_memory=False.\n",
      "  exec(code_obj, self.user_global_ns, self.user_ns)\n"
     ]
    },
    {
     "data": {
      "text/html": [
       "<div>\n",
       "<style scoped>\n",
       "    .dataframe tbody tr th:only-of-type {\n",
       "        vertical-align: middle;\n",
       "    }\n",
       "\n",
       "    .dataframe tbody tr th {\n",
       "        vertical-align: top;\n",
       "    }\n",
       "\n",
       "    .dataframe thead th {\n",
       "        text-align: right;\n",
       "    }\n",
       "</style>\n",
       "<table border=\"1\" class=\"dataframe\">\n",
       "  <thead>\n",
       "    <tr style=\"text-align: right;\">\n",
       "      <th></th>\n",
       "      <th>paperId</th>\n",
       "      <th>author</th>\n",
       "      <th>acknow</th>\n",
       "    </tr>\n",
       "  </thead>\n",
       "  <tbody>\n",
       "    <tr>\n",
       "      <th>0</th>\n",
       "      <td>10.1371/journal.pcbi.0010001</td>\n",
       "      <td>Hanah_Margalit</td>\n",
       "      <td>Aviv_Regev</td>\n",
       "    </tr>\n",
       "    <tr>\n",
       "      <th>1</th>\n",
       "      <td>10.1371/journal.pcbi.0010001</td>\n",
       "      <td>Hanah_Margalit</td>\n",
       "      <td>Benjamin_Gordon</td>\n",
       "    </tr>\n",
       "    <tr>\n",
       "      <th>2</th>\n",
       "      <td>10.1371/journal.pcbi.0010001</td>\n",
       "      <td>Hanah_Margalit</td>\n",
       "      <td>Dalit_May</td>\n",
       "    </tr>\n",
       "    <tr>\n",
       "      <th>3</th>\n",
       "      <td>10.1371/journal.pcbi.0010001</td>\n",
       "      <td>Hanah_Margalit</td>\n",
       "      <td>Ernest_Fraenkel</td>\n",
       "    </tr>\n",
       "    <tr>\n",
       "      <th>4</th>\n",
       "      <td>10.1371/journal.pcbi.0010001</td>\n",
       "      <td>Hanah_Margalit</td>\n",
       "      <td>Lena_Nekludova</td>\n",
       "    </tr>\n",
       "  </tbody>\n",
       "</table>\n",
       "</div>"
      ],
      "text/plain": [
       "                        paperId          author           acknow\n",
       "0  10.1371/journal.pcbi.0010001  Hanah_Margalit       Aviv_Regev\n",
       "1  10.1371/journal.pcbi.0010001  Hanah_Margalit  Benjamin_Gordon\n",
       "2  10.1371/journal.pcbi.0010001  Hanah_Margalit        Dalit_May\n",
       "3  10.1371/journal.pcbi.0010001  Hanah_Margalit  Ernest_Fraenkel\n",
       "4  10.1371/journal.pcbi.0010001  Hanah_Margalit   Lena_Nekludova"
      ]
     },
     "execution_count": 12,
     "metadata": {},
     "output_type": "execute_result"
    }
   ],
   "source": [
    "# read acknow files\n",
    "# concat all dfs\n",
    "dfs = {}\n",
    "dfs_all = pd.DataFrame()\n",
    "for file in FILES:\n",
    "#     print(f\"read file: {file}\")\n",
    "    dfs[file] = pd.read_csv(f'{PATH_ROW_ACKNOW}/{file}.csv')[['paperId', 'author', 'acknow']]\n",
    "    dfs_all = pd.concat([dfs_all, dfs[file]])\n",
    "dfs_all.head()"
   ]
  },
  {
   "cell_type": "markdown",
   "id": "cc3ba921-8851-4f41-9120-dad82f6c3556",
   "metadata": {},
   "source": [
    "# read original collected files"
   ]
  },
  {
   "cell_type": "markdown",
   "id": "bcb68fd7-7add-4d33-9ed8-1ed2d0594564",
   "metadata": {},
   "source": [
    "# Add DOI "
   ]
  },
  {
   "cell_type": "code",
   "execution_count": 30,
   "id": "b355e9f7-4a6d-4e5d-80cd-3a5c5fe59d83",
   "metadata": {},
   "outputs": [],
   "source": [
    "# merge doi\n",
    "df_acknowId_wDOI = pd.merge(df_acknowId, df_magpaper_id_doi2,  \n",
    "          how='inner', on='pid')\n",
    "\n",
    "# rename columns\n",
    "df_acknowId_wDOI = df_acknowId_wDOI.rename({\"pid\": \"PaperId\",\n",
    "                                            \"acknow\": \"AcknowledgedName\",\n",
    "                                            \"DetermindedAcknowId\": \"CollaborationApproach\",\n",
    "                                            \"ReferencedAuthorIds\": \"CitationApproach\",\n",
    "                                            \"acknowId\": \"AcknowledgedId\",\n",
    "                                            \"doi\": \"Doi\",\n",
    "                                            }, axis=1)\n",
    "\n",
    "# conver to boolean\n",
    "df_acknowId_wDOI.fillna(False)\n",
    "df_acknowId_wDOI['CollaborationApproach'] = df_acknowId_wDOI['CollaborationApproach'].apply(lambda x: False if np.isnan(x) else True)\n",
    "df_acknowId_wDOI['CitationApproach'] = df_acknowId_wDOI['CitationApproach'].apply(lambda x: False if np.isnan(x) else True)"
   ]
  },
  {
   "cell_type": "code",
   "execution_count": 31,
   "id": "45fcbd01-8d1f-41f3-b02a-74deb66f30e0",
   "metadata": {},
   "outputs": [
    {
     "data": {
      "text/html": [
       "<div>\n",
       "<style scoped>\n",
       "    .dataframe tbody tr th:only-of-type {\n",
       "        vertical-align: middle;\n",
       "    }\n",
       "\n",
       "    .dataframe tbody tr th {\n",
       "        vertical-align: top;\n",
       "    }\n",
       "\n",
       "    .dataframe thead th {\n",
       "        text-align: right;\n",
       "    }\n",
       "</style>\n",
       "<table border=\"1\" class=\"dataframe\">\n",
       "  <thead>\n",
       "    <tr style=\"text-align: right;\">\n",
       "      <th></th>\n",
       "      <th>Doi</th>\n",
       "      <th>PaperId</th>\n",
       "      <th>AcknowledgedName</th>\n",
       "      <th>AcknowledgedId</th>\n",
       "      <th>CollaborationApproach</th>\n",
       "      <th>CitationApproach</th>\n",
       "    </tr>\n",
       "  </thead>\n",
       "  <tbody>\n",
       "    <tr>\n",
       "      <th>0</th>\n",
       "      <td>10.1371/journal.pcbi.0010001</td>\n",
       "      <td>2145218186</td>\n",
       "      <td>Aviv Regev</td>\n",
       "      <td>1893730172</td>\n",
       "      <td>True</td>\n",
       "      <td>False</td>\n",
       "    </tr>\n",
       "    <tr>\n",
       "      <th>1</th>\n",
       "      <td>10.1371/journal.pcbi.0010001</td>\n",
       "      <td>2145218186</td>\n",
       "      <td>Dalit May</td>\n",
       "      <td>2800119218</td>\n",
       "      <td>True</td>\n",
       "      <td>False</td>\n",
       "    </tr>\n",
       "    <tr>\n",
       "      <th>2</th>\n",
       "      <td>10.1371/journal.pcbi.0010001</td>\n",
       "      <td>2145218186</td>\n",
       "      <td>Ruth Hershberg</td>\n",
       "      <td>2155149074</td>\n",
       "      <td>True</td>\n",
       "      <td>False</td>\n",
       "    </tr>\n",
       "    <tr>\n",
       "      <th>3</th>\n",
       "      <td>10.1371/journal.pcbi.0010001</td>\n",
       "      <td>2145218186</td>\n",
       "      <td>Yael Altuvia</td>\n",
       "      <td>221285518</td>\n",
       "      <td>True</td>\n",
       "      <td>False</td>\n",
       "    </tr>\n",
       "    <tr>\n",
       "      <th>4</th>\n",
       "      <td>10.1371/journal.pcbi.0010001</td>\n",
       "      <td>2145218186</td>\n",
       "      <td>Lena Nekludova</td>\n",
       "      <td>1991417625</td>\n",
       "      <td>False</td>\n",
       "      <td>True</td>\n",
       "    </tr>\n",
       "    <tr>\n",
       "      <th>...</th>\n",
       "      <td>...</td>\n",
       "      <td>...</td>\n",
       "      <td>...</td>\n",
       "      <td>...</td>\n",
       "      <td>...</td>\n",
       "      <td>...</td>\n",
       "    </tr>\n",
       "    <tr>\n",
       "      <th>235561</th>\n",
       "      <td>10.1038/s41598-020-80660-z</td>\n",
       "      <td>3118328364</td>\n",
       "      <td>Zhaoyang Wang</td>\n",
       "      <td>2596801132</td>\n",
       "      <td>True</td>\n",
       "      <td>True</td>\n",
       "    </tr>\n",
       "    <tr>\n",
       "      <th>235562</th>\n",
       "      <td>10.1038/s41598-020-79271-5</td>\n",
       "      <td>3118331071</td>\n",
       "      <td>Masayoshi Nishiyama</td>\n",
       "      <td>2187044629</td>\n",
       "      <td>True</td>\n",
       "      <td>True</td>\n",
       "    </tr>\n",
       "    <tr>\n",
       "      <th>235563</th>\n",
       "      <td>10.1038/s41598-021-81652-3</td>\n",
       "      <td>3127263314</td>\n",
       "      <td>Andrea Berton</td>\n",
       "      <td>1974123948</td>\n",
       "      <td>True</td>\n",
       "      <td>True</td>\n",
       "    </tr>\n",
       "    <tr>\n",
       "      <th>235564</th>\n",
       "      <td>10.1038/s41598-021-82174-8</td>\n",
       "      <td>3127584525</td>\n",
       "      <td>Hans Keppler</td>\n",
       "      <td>2099200267</td>\n",
       "      <td>True</td>\n",
       "      <td>True</td>\n",
       "    </tr>\n",
       "    <tr>\n",
       "      <th>235565</th>\n",
       "      <td>10.1038/s41598-021-82174-8</td>\n",
       "      <td>3127584525</td>\n",
       "      <td>Federica Schiavi</td>\n",
       "      <td>2301209342</td>\n",
       "      <td>True</td>\n",
       "      <td>True</td>\n",
       "    </tr>\n",
       "  </tbody>\n",
       "</table>\n",
       "<p>235566 rows × 6 columns</p>\n",
       "</div>"
      ],
      "text/plain": [
       "                                 Doi     PaperId     AcknowledgedName  \\\n",
       "0       10.1371/journal.pcbi.0010001  2145218186           Aviv Regev   \n",
       "1       10.1371/journal.pcbi.0010001  2145218186            Dalit May   \n",
       "2       10.1371/journal.pcbi.0010001  2145218186       Ruth Hershberg   \n",
       "3       10.1371/journal.pcbi.0010001  2145218186         Yael Altuvia   \n",
       "4       10.1371/journal.pcbi.0010001  2145218186       Lena Nekludova   \n",
       "...                              ...         ...                  ...   \n",
       "235561    10.1038/s41598-020-80660-z  3118328364        Zhaoyang Wang   \n",
       "235562    10.1038/s41598-020-79271-5  3118331071  Masayoshi Nishiyama   \n",
       "235563    10.1038/s41598-021-81652-3  3127263314        Andrea Berton   \n",
       "235564    10.1038/s41598-021-82174-8  3127584525         Hans Keppler   \n",
       "235565    10.1038/s41598-021-82174-8  3127584525     Federica Schiavi   \n",
       "\n",
       "        AcknowledgedId  CollaborationApproach  CitationApproach  \n",
       "0           1893730172                   True             False  \n",
       "1           2800119218                   True             False  \n",
       "2           2155149074                   True             False  \n",
       "3            221285518                   True             False  \n",
       "4           1991417625                  False              True  \n",
       "...                ...                    ...               ...  \n",
       "235561      2596801132                   True              True  \n",
       "235562      2187044629                   True              True  \n",
       "235563      1974123948                   True              True  \n",
       "235564      2099200267                   True              True  \n",
       "235565      2301209342                   True              True  \n",
       "\n",
       "[235566 rows x 6 columns]"
      ]
     },
     "execution_count": 31,
     "metadata": {},
     "output_type": "execute_result"
    }
   ],
   "source": [
    "final_df = df_acknowId_wDOI[['Doi', 'PaperId', 'AcknowledgedName', 'AcknowledgedId', 'CollaborationApproach', 'CitationApproach']]\n",
    "final_df"
   ]
  },
  {
   "cell_type": "code",
   "execution_count": 35,
   "id": "8588fb86-3b41-4e5c-a9f6-1e2e1722cc03",
   "metadata": {},
   "outputs": [
    {
     "data": {
      "text/plain": [
       "235566"
      ]
     },
     "execution_count": 35,
     "metadata": {},
     "output_type": "execute_result"
    }
   ],
   "source": [
    "len(final_df)"
   ]
  },
  {
   "cell_type": "code",
   "execution_count": 36,
   "id": "32730134-5b5c-4132-a1e7-c6169b1e28da",
   "metadata": {},
   "outputs": [],
   "source": [
    "final_dfs = {}\n",
    "for file in FILES:\n",
    "    if file == 'srep':\n",
    "        final_dfs[file] = final_df[final_df['PaperId'].isin(df_magpaper_id_doi_srep.pid.tolist())]\n",
    "        continue\n",
    "    final_dfs[file] = final_df[final_df['Doi'].isin(dfs[file].paperId.tolist())]"
   ]
  },
  {
   "cell_type": "code",
   "execution_count": 37,
   "id": "7024c80e-399f-4a0c-8a5e-aa68f089c75f",
   "metadata": {},
   "outputs": [
    {
     "data": {
      "text/plain": [
       "True"
      ]
     },
     "execution_count": 37,
     "metadata": {},
     "output_type": "execute_result"
    }
   ],
   "source": [
    "s = 0\n",
    "for file in FILES:\n",
    "    s += len(final_dfs[file])\n",
    "    \n",
    "s == len(final_df)"
   ]
  },
  {
   "cell_type": "markdown",
   "id": "b250038d-4431-4d2b-8796-250f3bb07236",
   "metadata": {},
   "source": [
    "# save for each file"
   ]
  },
  {
   "cell_type": "code",
   "execution_count": 203,
   "id": "a83a8bb0-ec7e-484f-bda8-56ccf0886bc8",
   "metadata": {},
   "outputs": [],
   "source": [
    "# for file in FILES:\n",
    "#     final_dfs[file].to_csv(f\"{PATH_SAVE}/{file}.csv\", index=False)"
   ]
  },
  {
   "cell_type": "code",
   "execution_count": null,
   "id": "d8e44d26-d162-4c79-a869-31128a63d025",
   "metadata": {},
   "outputs": [],
   "source": []
  }
 ],
 "metadata": {
  "kernelspec": {
   "display_name": "Python 3 (ipykernel)",
   "language": "python",
   "name": "python3"
  },
  "language_info": {
   "codemirror_mode": {
    "name": "ipython",
    "version": 3
   },
   "file_extension": ".py",
   "mimetype": "text/x-python",
   "name": "python",
   "nbconvert_exporter": "python",
   "pygments_lexer": "ipython3",
   "version": "3.9.6"
  }
 },
 "nbformat": 4,
 "nbformat_minor": 5
}
