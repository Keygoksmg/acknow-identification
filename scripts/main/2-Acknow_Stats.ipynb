{
 "cells": [
  {
   "cell_type": "markdown",
   "id": "3c458595-236a-471e-b003-139831b68a54",
   "metadata": {},
   "source": [
    "# Descriptive statitics for dataset after extraction by coreNLP"
   ]
  },
  {
   "cell_type": "code",
   "execution_count": 25,
   "id": "f0117183-630c-4901-a4c4-df71455495ba",
   "metadata": {},
   "outputs": [],
   "source": [
    "import pandas as pd\n",
    "import numpy as np\n",
    "\n",
    "FILES = ['compbiology', 'biology', 'medicine', 'genetics', 'ntds', 'pathogenes', 'plosone', 'srep']\n",
    "\n",
    "# edgelist acknow.\n",
    "PATH_ROW_ACKNOW = '../../data/TreatedEdgeList21'"
   ]
  },
  {
   "cell_type": "markdown",
   "id": "7f5ccbe3-08cb-4d38-bc43-6ba9a977a2d2",
   "metadata": {},
   "source": [
    "## Collected files after the extraction by coreNLP"
   ]
  },
  {
   "cell_type": "code",
   "execution_count": 37,
   "id": "414d96cc-f09c-4d55-a6ac-59a127bc316f",
   "metadata": {},
   "outputs": [
    {
     "name": "stderr",
     "output_type": "stream",
     "text": [
      "/Users/keigokusumegi/.anyenv/envs/pyenv/versions/miniforge3-4.10/envs/network-analysis/lib/python3.9/site-packages/IPython/core/interactiveshell.py:3441: DtypeWarning: Columns (1) have mixed types.Specify dtype option on import or set low_memory=False.\n",
      "  exec(code_obj, self.user_global_ns, self.user_ns)\n"
     ]
    },
    {
     "data": {
      "text/html": [
       "<div>\n",
       "<style scoped>\n",
       "    .dataframe tbody tr th:only-of-type {\n",
       "        vertical-align: middle;\n",
       "    }\n",
       "\n",
       "    .dataframe tbody tr th {\n",
       "        vertical-align: top;\n",
       "    }\n",
       "\n",
       "    .dataframe thead th {\n",
       "        text-align: right;\n",
       "    }\n",
       "</style>\n",
       "<table border=\"1\" class=\"dataframe\">\n",
       "  <thead>\n",
       "    <tr style=\"text-align: right;\">\n",
       "      <th></th>\n",
       "      <th>paperId</th>\n",
       "      <th>date</th>\n",
       "      <th>author</th>\n",
       "      <th>acknow</th>\n",
       "      <th>n_author</th>\n",
       "    </tr>\n",
       "  </thead>\n",
       "  <tbody>\n",
       "    <tr>\n",
       "      <th>0</th>\n",
       "      <td>10.1038/srep00001</td>\n",
       "      <td>14_June_2011</td>\n",
       "      <td>Upasana_Ray</td>\n",
       "      <td>Akio_Nomoto</td>\n",
       "      <td>2</td>\n",
       "    </tr>\n",
       "    <tr>\n",
       "      <th>1</th>\n",
       "      <td>10.1038/srep00001</td>\n",
       "      <td>14_June_2011</td>\n",
       "      <td>Upasana_Ray</td>\n",
       "      <td>Itai_Benhar</td>\n",
       "      <td>2</td>\n",
       "    </tr>\n",
       "    <tr>\n",
       "      <th>2</th>\n",
       "      <td>10.1038/srep00001</td>\n",
       "      <td>14_June_2011</td>\n",
       "      <td>Upasana_Ray</td>\n",
       "      <td>Ralf_Bartenschlager</td>\n",
       "      <td>2</td>\n",
       "    </tr>\n",
       "    <tr>\n",
       "      <th>3</th>\n",
       "      <td>10.1038/srep00001</td>\n",
       "      <td>14_June_2011</td>\n",
       "      <td>Upasana_Ray</td>\n",
       "      <td>Takaji_Wakita</td>\n",
       "      <td>2</td>\n",
       "    </tr>\n",
       "    <tr>\n",
       "      <th>4</th>\n",
       "      <td>10.1038/srep00001</td>\n",
       "      <td>14_June_2011</td>\n",
       "      <td>Upasana_Ray</td>\n",
       "      <td>Stanley_Lemon</td>\n",
       "      <td>2</td>\n",
       "    </tr>\n",
       "  </tbody>\n",
       "</table>\n",
       "</div>"
      ],
      "text/plain": [
       "             paperId          date       author               acknow  n_author\n",
       "0  10.1038/srep00001  14_June_2011  Upasana_Ray          Akio_Nomoto         2\n",
       "1  10.1038/srep00001  14_June_2011  Upasana_Ray          Itai_Benhar         2\n",
       "2  10.1038/srep00001  14_June_2011  Upasana_Ray  Ralf_Bartenschlager         2\n",
       "3  10.1038/srep00001  14_June_2011  Upasana_Ray        Takaji_Wakita         2\n",
       "4  10.1038/srep00001  14_June_2011  Upasana_Ray        Stanley_Lemon         2"
      ]
     },
     "execution_count": 37,
     "metadata": {},
     "output_type": "execute_result"
    }
   ],
   "source": [
    "for file in FILES:\n",
    "    dfs[file] = pd.read_csv(f'{PATH_ROW_ACKNOW}/{file}.csv')\n",
    "dfs[file].head()"
   ]
  },
  {
   "cell_type": "markdown",
   "id": "bd09fb07-1676-4406-bae7-9739bf514486",
   "metadata": {},
   "source": [
    "## Number of papers w/ acknowledgements"
   ]
  },
  {
   "cell_type": "code",
   "execution_count": 38,
   "id": "ab598775-5530-4e30-bc35-fcb954087a36",
   "metadata": {
    "tags": []
   },
   "outputs": [],
   "source": [
    "n_papers = []\n",
    "min_years = []\n",
    "max_years = []\n",
    "n_acknows = []\n",
    "\n",
    "for file in FILES:\n",
    "    # years\n",
    "    years = dfs[file]['date'].unique()\n",
    "    years_fixed = sorted({int(i) if len(str(i)) == 4 else int(str(i).split('_')[-1]) for i in years}) # extract years\n",
    "    min_years.append(min(years_fixed))\n",
    "    max_years.append(max(years_fixed))\n",
    "    \n",
    "    # number of papers\n",
    "    n_papers.append(dfs[file].paperId.nunique())\n",
    "    \n",
    "n_papers.append(dfs_all.paperId.nunique())\n",
    "min_years.append(0)\n",
    "max_years.append(0)"
   ]
  },
  {
   "cell_type": "code",
   "execution_count": 40,
   "id": "7df9ee30-3645-4b5e-a1dd-56f30c3500d1",
   "metadata": {},
   "outputs": [
    {
     "data": {
      "text/html": [
       "<div>\n",
       "<style scoped>\n",
       "    .dataframe tbody tr th:only-of-type {\n",
       "        vertical-align: middle;\n",
       "    }\n",
       "\n",
       "    .dataframe tbody tr th {\n",
       "        vertical-align: top;\n",
       "    }\n",
       "\n",
       "    .dataframe thead th {\n",
       "        text-align: right;\n",
       "    }\n",
       "</style>\n",
       "<table border=\"1\" class=\"dataframe\">\n",
       "  <thead>\n",
       "    <tr style=\"text-align: right;\">\n",
       "      <th></th>\n",
       "      <th>n_papers</th>\n",
       "      <th>min_year</th>\n",
       "      <th>max_year</th>\n",
       "    </tr>\n",
       "    <tr>\n",
       "      <th>file</th>\n",
       "      <th></th>\n",
       "      <th></th>\n",
       "      <th></th>\n",
       "    </tr>\n",
       "  </thead>\n",
       "  <tbody>\n",
       "    <tr>\n",
       "      <th>compbiology</th>\n",
       "      <td>2440</td>\n",
       "      <td>2005</td>\n",
       "      <td>2017</td>\n",
       "    </tr>\n",
       "    <tr>\n",
       "      <th>biology</th>\n",
       "      <td>3383</td>\n",
       "      <td>2003</td>\n",
       "      <td>2021</td>\n",
       "    </tr>\n",
       "    <tr>\n",
       "      <th>medicine</th>\n",
       "      <td>1544</td>\n",
       "      <td>2004</td>\n",
       "      <td>2021</td>\n",
       "    </tr>\n",
       "    <tr>\n",
       "      <th>genetics</th>\n",
       "      <td>6831</td>\n",
       "      <td>2005</td>\n",
       "      <td>2021</td>\n",
       "    </tr>\n",
       "    <tr>\n",
       "      <th>ntds</th>\n",
       "      <td>4914</td>\n",
       "      <td>2007</td>\n",
       "      <td>2021</td>\n",
       "    </tr>\n",
       "    <tr>\n",
       "      <th>pathogenes</th>\n",
       "      <td>6281</td>\n",
       "      <td>2005</td>\n",
       "      <td>2021</td>\n",
       "    </tr>\n",
       "    <tr>\n",
       "      <th>plosone</th>\n",
       "      <td>136343</td>\n",
       "      <td>2006</td>\n",
       "      <td>2021</td>\n",
       "    </tr>\n",
       "    <tr>\n",
       "      <th>srep</th>\n",
       "      <td>41692</td>\n",
       "      <td>2011</td>\n",
       "      <td>2021</td>\n",
       "    </tr>\n",
       "    <tr>\n",
       "      <th>total</th>\n",
       "      <td>203428</td>\n",
       "      <td>0</td>\n",
       "      <td>0</td>\n",
       "    </tr>\n",
       "  </tbody>\n",
       "</table>\n",
       "</div>"
      ],
      "text/plain": [
       "             n_papers  min_year  max_year\n",
       "file                                     \n",
       "compbiology      2440      2005      2017\n",
       "biology          3383      2003      2021\n",
       "medicine         1544      2004      2021\n",
       "genetics         6831      2005      2021\n",
       "ntds             4914      2007      2021\n",
       "pathogenes       6281      2005      2021\n",
       "plosone        136343      2006      2021\n",
       "srep            41692      2011      2021\n",
       "total          203428         0         0"
      ]
     },
     "execution_count": 40,
     "metadata": {},
     "output_type": "execute_result"
    }
   ],
   "source": [
    "stats = pd.DataFrame.from_dict({'n_papers': n_papers,\n",
    "                  'min_year': min_years,\n",
    "                  'max_year': max_years,\n",
    "                  'file': FILES+['total']}).set_index('file')\n",
    "stats"
   ]
  },
  {
   "cell_type": "code",
   "execution_count": null,
   "id": "25e61196-1b72-48ac-816a-fb3efe64893c",
   "metadata": {},
   "outputs": [],
   "source": []
  }
 ],
 "metadata": {
  "kernelspec": {
   "display_name": "Python 3 (ipykernel)",
   "language": "python",
   "name": "python3"
  },
  "language_info": {
   "codemirror_mode": {
    "name": "ipython",
    "version": 3
   },
   "file_extension": ".py",
   "mimetype": "text/x-python",
   "name": "python",
   "nbconvert_exporter": "python",
   "pygments_lexer": "ipython3",
   "version": "3.9.6"
  }
 },
 "nbformat": 4,
 "nbformat_minor": 5
}
