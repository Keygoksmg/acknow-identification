{
 "cells": [
  {
   "cell_type": "markdown",
   "id": "3c458595-236a-471e-b003-139831b68a54",
   "metadata": {},
   "source": [
    "# 処理される前のRowDataの情報"
   ]
  },
  {
   "cell_type": "code",
   "execution_count": 1,
   "id": "f0117183-630c-4901-a4c4-df71455495ba",
   "metadata": {},
   "outputs": [],
   "source": [
    "import pandas as pd\n",
    "\n",
    "FILES = ['compbiology', 'biology', 'medicine', 'genetics', 'ntds', 'pathogenes', 'plosone', 'srep']\n",
    "\n",
    "# edgelist acknow.\n",
    "PATH_ROW_ACKNOW = '../../data/treatedEdgeList-ack_MAG'"
   ]
  },
  {
   "cell_type": "code",
   "execution_count": 4,
   "id": "c4aeec1d-8879-4e32-a90c-4e668e339b30",
   "metadata": {
    "collapsed": true,
    "jupyter": {
     "outputs_hidden": true
    },
    "tags": []
   },
   "outputs": [
    {
     "name": "stdout",
     "output_type": "stream",
     "text": [
      "read file: compbiology\n",
      "2440\n",
      "read file: biology\n",
      "3383\n",
      "read file: medicine\n",
      "1544\n",
      "read file: genetics\n"
     ]
    },
    {
     "name": "stderr",
     "output_type": "stream",
     "text": [
      "/Users/keigokusumegi/.anyenv/envs/pyenv/versions/miniforge3-4.10/envs/network-analysis/lib/python3.9/site-packages/IPython/core/magics/execution.py:1321: DtypeWarning: Columns (1) have mixed types.Specify dtype option on import or set low_memory=False.\n",
      "  exec(code, glob, local_ns)\n"
     ]
    },
    {
     "name": "stdout",
     "output_type": "stream",
     "text": [
      "6831\n",
      "read file: ntds\n",
      "4914\n",
      "read file: pathogenes\n",
      "6281\n",
      "read file: plosone\n",
      "136343\n",
      "read file: srep\n",
      "41692\n",
      "CPU times: user 3.71 s, sys: 346 ms, total: 4.05 s\n",
      "Wall time: 4.14 s\n"
     ]
    },
    {
     "data": {
      "text/html": [
       "<div>\n",
       "<style scoped>\n",
       "    .dataframe tbody tr th:only-of-type {\n",
       "        vertical-align: middle;\n",
       "    }\n",
       "\n",
       "    .dataframe tbody tr th {\n",
       "        vertical-align: top;\n",
       "    }\n",
       "\n",
       "    .dataframe thead th {\n",
       "        text-align: right;\n",
       "    }\n",
       "</style>\n",
       "<table border=\"1\" class=\"dataframe\">\n",
       "  <thead>\n",
       "    <tr style=\"text-align: right;\">\n",
       "      <th></th>\n",
       "      <th>paperId</th>\n",
       "      <th>author</th>\n",
       "      <th>acknow</th>\n",
       "    </tr>\n",
       "  </thead>\n",
       "  <tbody>\n",
       "    <tr>\n",
       "      <th>0</th>\n",
       "      <td>10.1371/journal.pcbi.0010001</td>\n",
       "      <td>Hanah_Margalit</td>\n",
       "      <td>Aviv_Regev</td>\n",
       "    </tr>\n",
       "    <tr>\n",
       "      <th>1</th>\n",
       "      <td>10.1371/journal.pcbi.0010001</td>\n",
       "      <td>Hanah_Margalit</td>\n",
       "      <td>Benjamin_Gordon</td>\n",
       "    </tr>\n",
       "    <tr>\n",
       "      <th>2</th>\n",
       "      <td>10.1371/journal.pcbi.0010001</td>\n",
       "      <td>Hanah_Margalit</td>\n",
       "      <td>Dalit_May</td>\n",
       "    </tr>\n",
       "    <tr>\n",
       "      <th>3</th>\n",
       "      <td>10.1371/journal.pcbi.0010001</td>\n",
       "      <td>Hanah_Margalit</td>\n",
       "      <td>Ernest_Fraenkel</td>\n",
       "    </tr>\n",
       "    <tr>\n",
       "      <th>4</th>\n",
       "      <td>10.1371/journal.pcbi.0010001</td>\n",
       "      <td>Hanah_Margalit</td>\n",
       "      <td>Lena_Nekludova</td>\n",
       "    </tr>\n",
       "  </tbody>\n",
       "</table>\n",
       "</div>"
      ],
      "text/plain": [
       "                        paperId          author           acknow\n",
       "0  10.1371/journal.pcbi.0010001  Hanah_Margalit       Aviv_Regev\n",
       "1  10.1371/journal.pcbi.0010001  Hanah_Margalit  Benjamin_Gordon\n",
       "2  10.1371/journal.pcbi.0010001  Hanah_Margalit        Dalit_May\n",
       "3  10.1371/journal.pcbi.0010001  Hanah_Margalit  Ernest_Fraenkel\n",
       "4  10.1371/journal.pcbi.0010001  Hanah_Margalit   Lena_Nekludova"
      ]
     },
     "execution_count": 4,
     "metadata": {},
     "output_type": "execute_result"
    }
   ],
   "source": [
    "%%time\n",
    "# concat all dfs\n",
    "dfs = {}\n",
    "dfs_all = pd.DataFrame()\n",
    "for file in FILES:\n",
    "    print(f\"read file: {file}\")\n",
    "    dfs[file] = pd.read_csv(f'{PATH_ROW_ACKNOW}/{file}.csv')[['paperId', 'author', 'acknow']]\n",
    "    print(dfs[file].paperId.nunique())\n",
    "    dfs_all = pd.concat([dfs_all, dfs[file]])\n",
    "\n",
    "dfs_all.head()"
   ]
  },
  {
   "cell_type": "code",
   "execution_count": 6,
   "id": "fb07ad24-af93-4cf1-bb6c-d370ae93f244",
   "metadata": {},
   "outputs": [
    {
     "name": "stdout",
     "output_type": "stream",
     "text": [
      "# papers : 203428\n"
     ]
    }
   ],
   "source": [
    "print(f\"# papers : {dfs_all.paperId.nunique()}\")"
   ]
  },
  {
   "cell_type": "code",
   "execution_count": 12,
   "id": "447e56f8-0ce7-44ff-9e8f-f7e6f7d950ab",
   "metadata": {},
   "outputs": [
    {
     "name": "stdout",
     "output_type": "stream",
     "text": [
      "# acknow: 847086\n"
     ]
    }
   ],
   "source": [
    "dfs_all['pid_acknow'] = dfs_all['paperId'] + '__' + dfs_all['acknow']\n",
    "print(f\"# acknow: {dfs_all['pid_acknow'].nunique()}\")"
   ]
  },
  {
   "cell_type": "code",
   "execution_count": 5,
   "id": "73122d58-513b-46e4-b083-aba197075d7e",
   "metadata": {},
   "outputs": [
    {
     "name": "stdout",
     "output_type": "stream",
     "text": [
      "203428\n"
     ]
    }
   ],
   "source": [
    "print(dfs_all.paperId.nunique())"
   ]
  },
  {
   "cell_type": "code",
   "execution_count": null,
   "id": "8ec6e6ec-9a7b-4c21-b3e5-91a5dd15a5e6",
   "metadata": {},
   "outputs": [],
   "source": []
  },
  {
   "cell_type": "markdown",
   "id": "3e12b5d9-dd54-4f15-834a-ffbb02504ce3",
   "metadata": {},
   "source": [
    "# check year"
   ]
  },
  {
   "cell_type": "code",
   "execution_count": 30,
   "id": "c0103213-e1d0-4055-bbb4-d33f6e9a6873",
   "metadata": {
    "tags": []
   },
   "outputs": [
    {
     "name": "stdout",
     "output_type": "stream",
     "text": [
      "read file: compbiology\n",
      "read file: biology\n",
      "read file: medicine\n",
      "read file: genetics\n",
      "read file: ntds\n",
      "read file: pathogenes\n",
      "read file: plosone\n",
      "read file: srep\n",
      "CPU times: user 3.33 s, sys: 321 ms, total: 3.65 s\n",
      "Wall time: 3.66 s\n"
     ]
    }
   ],
   "source": [
    "%%time\n",
    "# concat all dfs\n",
    "df_years = {}\n",
    "for file in FILES:\n",
    "    print(f\"read file: {file}\")\n",
    "    df = pd.read_csv(f'{PATH_ROW_ACKNOW}/{file}.csv')\n",
    "    df_years[file] = df['date'].unique()"
   ]
  },
  {
   "cell_type": "code",
   "execution_count": 46,
   "id": "11554225-b430-4bd1-ad9b-3dd6f4a19562",
   "metadata": {},
   "outputs": [
    {
     "name": "stdout",
     "output_type": "stream",
     "text": [
      "CPU times: user 10.6 ms, sys: 247 µs, total: 10.8 ms\n",
      "Wall time: 10.8 ms\n"
     ]
    }
   ],
   "source": [
    "%%time\n",
    "results = {}\n",
    "for file in FILES:\n",
    "    results[file] = sorted({int(i) if len(str(i)) == 4 else int(str(i).split('_')[-1]) for i in df_years[file]})"
   ]
  },
  {
   "cell_type": "code",
   "execution_count": 47,
   "id": "2dd1453f-94c9-4c07-ad96-6d39914282a6",
   "metadata": {},
   "outputs": [
    {
     "name": "stdout",
     "output_type": "stream",
     "text": [
      "compbiology\n",
      "[2005, 2006, 2007, 2008, 2009, 2010, 2011, 2012, 2013, 2014, 2015, 2016, 2017] \n",
      "\n",
      "biology\n",
      "[2003, 2004, 2005, 2006, 2007, 2008, 2009, 2010, 2011, 2012, 2013, 2014, 2015, 2016, 2017, 2018, 2019, 2020, 2021] \n",
      "\n",
      "medicine\n",
      "[2004, 2005, 2006, 2007, 2008, 2009, 2010, 2011, 2012, 2013, 2014, 2015, 2016, 2017, 2018, 2019, 2020, 2021] \n",
      "\n",
      "genetics\n",
      "[2005, 2006, 2007, 2008, 2009, 2010, 2011, 2012, 2013, 2014, 2015, 2016, 2017, 2018, 2019, 2020, 2021] \n",
      "\n",
      "ntds\n",
      "[2007, 2008, 2009, 2010, 2011, 2012, 2013, 2014, 2015, 2016, 2017, 2018, 2019, 2020, 2021] \n",
      "\n",
      "pathogenes\n",
      "[2005, 2006, 2007, 2008, 2009, 2010, 2011, 2012, 2013, 2014, 2015, 2016, 2017, 2018, 2019, 2020, 2021] \n",
      "\n",
      "plosone\n",
      "[2006, 2007, 2008, 2009, 2010, 2011, 2012, 2013, 2014, 2015, 2016, 2017, 2018, 2019, 2020, 2021] \n",
      "\n",
      "srep\n",
      "[2011, 2012, 2013, 2014, 2015, 2016, 2017, 2018, 2019, 2020, 2021] \n",
      "\n"
     ]
    }
   ],
   "source": [
    "for file in FILES:\n",
    "    print(file)\n",
    "    print(results[file], '\\n')"
   ]
  },
  {
   "cell_type": "code",
   "execution_count": 48,
   "id": "45df2f05-f8ae-4200-98da-0ed7a8363767",
   "metadata": {},
   "outputs": [
    {
     "data": {
      "text/plain": [
       "array(['14_June_2011', '27_September_2011', '04_October_2011', ...,\n",
       "       '04_March_2021', '26_February_2021', '17_February_2021'],\n",
       "      dtype=object)"
      ]
     },
     "execution_count": 48,
     "metadata": {},
     "output_type": "execute_result"
    }
   ],
   "source": [
    "df_years['srep']"
   ]
  },
  {
   "cell_type": "code",
   "execution_count": 36,
   "id": "ddcc4e17-0c1c-4cd1-84be-4802d1b291b4",
   "metadata": {},
   "outputs": [
    {
     "data": {
      "text/plain": [
       "12"
      ]
     },
     "execution_count": 36,
     "metadata": {},
     "output_type": "execute_result"
    }
   ],
   "source": [
    "len(str(df_years['srep'][0]))"
   ]
  },
  {
   "cell_type": "code",
   "execution_count": null,
   "id": "94620eac-8e14-47af-97f1-f01e98f79407",
   "metadata": {},
   "outputs": [],
   "source": []
  }
 ],
 "metadata": {
  "kernelspec": {
   "display_name": "Python 3 (ipykernel)",
   "language": "python",
   "name": "python3"
  },
  "language_info": {
   "codemirror_mode": {
    "name": "ipython",
    "version": 3
   },
   "file_extension": ".py",
   "mimetype": "text/x-python",
   "name": "python",
   "nbconvert_exporter": "python",
   "pygments_lexer": "ipython3",
   "version": "3.9.6"
  }
 },
 "nbformat": 4,
 "nbformat_minor": 5
}
