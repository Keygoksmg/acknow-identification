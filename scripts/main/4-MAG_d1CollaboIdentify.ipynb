{
 "cells": [
  {
   "cell_type": "markdown",
   "id": "fc139472-a1c2-4fc4-ba37-a09d05c8e5f2",
   "metadata": {},
   "source": [
    "# Create an edgelist of identified acknowledged scholar from collaboration approach\n",
    "We wiil see that an acknowledged individual name is registered in MAG and collaborated with acknowledging authors"
   ]
  },
  {
   "cell_type": "code",
   "execution_count": 37,
   "id": "447b8f4a-03f9-48a8-af2e-116ec16c9518",
   "metadata": {},
   "outputs": [],
   "source": [
    "import ast\n",
    "import pandas as pd\n",
    "import vaex\n",
    "import os.path\n",
    "from ast import literal_eval\n",
    "\n",
    "FILES = ['compbiology', 'biology', 'medicine', 'genetics', 'ntds', 'pathogenes', 'plosone', 'srep']\n",
    "\n",
    "# Path to data\n",
    "PATH_ROW_ACKNOW = '../../data/TreatedEdgeList21'\n",
    "PATH_MAG = '../../data-MAG/'\n",
    "\n",
    "# Path to data to save\n",
    "PATH_SAVE = '../../data-computed-MAG'\n",
    "Path(PATH_SAVE).mkdir(parents=True, exist_ok=True) # create save dir if not exists"
   ]
  },
  {
   "cell_type": "code",
   "execution_count": 11,
   "id": "9d8513c8-511e-45d8-9b07-12e93f9ea325",
   "metadata": {
    "tags": []
   },
   "outputs": [],
   "source": [
    "def see(var):\n",
    "    \"\"\"funtion to check the contents of variable (dict or set)\"\"\"\n",
    "    print(type(var))\n",
    "    if type(var) == dict:\n",
    "        for i, (k, v) in enumerate(var.items()):\n",
    "            print(k, \":\", v)\n",
    "            if i == 4:\n",
    "                break\n",
    "    if type(var) == set:\n",
    "        print(list(var)[:5])\n",
    "        \n",
    "        \n",
    "def read_vaex(file_path):\n",
    "    \"\"\"\n",
    "    It may take times to read files for the first time.\n",
    "    From second time, the loading time will be shorter.\n",
    "    \"\"\"\n",
    "    if os.path.exists(file_path):\n",
    "        print('file exists')\n",
    "        return vaex.open(file_path+'.hdf5')\n",
    "    return vaex.from_csv(file_path, convert=True, chunk_size=10_000_000)"
   ]
  },
  {
   "cell_type": "markdown",
   "id": "c2496a7a-ecc5-4ad1-8952-1de988d014e5",
   "metadata": {},
   "source": [
    "# Read Acknow data (PLOS and SciRep)"
   ]
  },
  {
   "cell_type": "code",
   "execution_count": 4,
   "id": "c634216f-01f0-41ae-ba3b-fdcca8cbfa7f",
   "metadata": {
    "tags": []
   },
   "outputs": [
    {
     "name": "stderr",
     "output_type": "stream",
     "text": [
      "/Users/keigokusumegi/.anyenv/envs/pyenv/versions/miniforge3-4.10/envs/network-analysis/lib/python3.9/site-packages/IPython/core/magics/execution.py:1321: DtypeWarning: Columns (1) have mixed types.Specify dtype option on import or set low_memory=False.\n",
      "  exec(code, glob, local_ns)\n"
     ]
    },
    {
     "name": "stdout",
     "output_type": "stream",
     "text": [
      "CPU times: user 3.35 s, sys: 285 ms, total: 3.63 s\n",
      "Wall time: 3.65 s\n"
     ]
    },
    {
     "data": {
      "text/html": [
       "<div>\n",
       "<style scoped>\n",
       "    .dataframe tbody tr th:only-of-type {\n",
       "        vertical-align: middle;\n",
       "    }\n",
       "\n",
       "    .dataframe tbody tr th {\n",
       "        vertical-align: top;\n",
       "    }\n",
       "\n",
       "    .dataframe thead th {\n",
       "        text-align: right;\n",
       "    }\n",
       "</style>\n",
       "<table border=\"1\" class=\"dataframe\">\n",
       "  <thead>\n",
       "    <tr style=\"text-align: right;\">\n",
       "      <th></th>\n",
       "      <th>paperId</th>\n",
       "      <th>author</th>\n",
       "      <th>acknow</th>\n",
       "    </tr>\n",
       "  </thead>\n",
       "  <tbody>\n",
       "    <tr>\n",
       "      <th>0</th>\n",
       "      <td>10.1371/journal.pcbi.0010001</td>\n",
       "      <td>Hanah_Margalit</td>\n",
       "      <td>Aviv_Regev</td>\n",
       "    </tr>\n",
       "    <tr>\n",
       "      <th>1</th>\n",
       "      <td>10.1371/journal.pcbi.0010001</td>\n",
       "      <td>Hanah_Margalit</td>\n",
       "      <td>Benjamin_Gordon</td>\n",
       "    </tr>\n",
       "    <tr>\n",
       "      <th>2</th>\n",
       "      <td>10.1371/journal.pcbi.0010001</td>\n",
       "      <td>Hanah_Margalit</td>\n",
       "      <td>Dalit_May</td>\n",
       "    </tr>\n",
       "    <tr>\n",
       "      <th>3</th>\n",
       "      <td>10.1371/journal.pcbi.0010001</td>\n",
       "      <td>Hanah_Margalit</td>\n",
       "      <td>Ernest_Fraenkel</td>\n",
       "    </tr>\n",
       "    <tr>\n",
       "      <th>4</th>\n",
       "      <td>10.1371/journal.pcbi.0010001</td>\n",
       "      <td>Hanah_Margalit</td>\n",
       "      <td>Lena_Nekludova</td>\n",
       "    </tr>\n",
       "  </tbody>\n",
       "</table>\n",
       "</div>"
      ],
      "text/plain": [
       "                        paperId          author           acknow\n",
       "0  10.1371/journal.pcbi.0010001  Hanah_Margalit       Aviv_Regev\n",
       "1  10.1371/journal.pcbi.0010001  Hanah_Margalit  Benjamin_Gordon\n",
       "2  10.1371/journal.pcbi.0010001  Hanah_Margalit        Dalit_May\n",
       "3  10.1371/journal.pcbi.0010001  Hanah_Margalit  Ernest_Fraenkel\n",
       "4  10.1371/journal.pcbi.0010001  Hanah_Margalit   Lena_Nekludova"
      ]
     },
     "execution_count": 4,
     "metadata": {},
     "output_type": "execute_result"
    }
   ],
   "source": [
    "%%time\n",
    "# concat all dfs\n",
    "dfs = {}\n",
    "dfs_all = pd.DataFrame()\n",
    "for file in FILES:\n",
    "    dfs[file] = pd.read_csv(f'{PATH_ROW_ACKNOW}/{file}.csv')[['paperId', 'author', 'acknow']]\n",
    "    dfs_all = pd.concat([dfs_all, dfs[file]])\n",
    "dfs_all.head()"
   ]
  },
  {
   "cell_type": "markdown",
   "id": "eb91f845-fbec-4c3b-ba5e-2d26f394ff28",
   "metadata": {},
   "source": [
    "# Read MAG data (Paper & PaperAuthorAffil) and put pid from MAG"
   ]
  },
  {
   "cell_type": "markdown",
   "id": "9d42f154-4ade-4c3b-bbbf-728fb1fb1f83",
   "metadata": {},
   "source": [
    "### read MAG Paper with the doi of collected data"
   ]
  },
  {
   "cell_type": "code",
   "execution_count": 5,
   "id": "0a0aca33-8e7e-4878-a8ab-fa98751b074f",
   "metadata": {},
   "outputs": [
    {
     "data": {
      "text/html": [
       "<div>\n",
       "<style scoped>\n",
       "    .dataframe tbody tr th:only-of-type {\n",
       "        vertical-align: middle;\n",
       "    }\n",
       "\n",
       "    .dataframe tbody tr th {\n",
       "        vertical-align: top;\n",
       "    }\n",
       "\n",
       "    .dataframe thead th {\n",
       "        text-align: right;\n",
       "    }\n",
       "</style>\n",
       "<table border=\"1\" class=\"dataframe\">\n",
       "  <thead>\n",
       "    <tr style=\"text-align: right;\">\n",
       "      <th></th>\n",
       "      <th>pid</th>\n",
       "      <th>doi</th>\n",
       "    </tr>\n",
       "  </thead>\n",
       "  <tbody>\n",
       "    <tr>\n",
       "      <th>0</th>\n",
       "      <td>1966827022</td>\n",
       "      <td>10.1371/journal.pcbi.1002887</td>\n",
       "    </tr>\n",
       "    <tr>\n",
       "      <th>1</th>\n",
       "      <td>1970867439</td>\n",
       "      <td>10.1371/journal.pone.0040555</td>\n",
       "    </tr>\n",
       "    <tr>\n",
       "      <th>2</th>\n",
       "      <td>1974609334</td>\n",
       "      <td>10.1371/journal.pmed.1000202</td>\n",
       "    </tr>\n",
       "    <tr>\n",
       "      <th>3</th>\n",
       "      <td>1985768873</td>\n",
       "      <td>10.1371/journal.pcbi.1000731</td>\n",
       "    </tr>\n",
       "    <tr>\n",
       "      <th>4</th>\n",
       "      <td>1991290371</td>\n",
       "      <td>10.1371/journal.pone.0090052</td>\n",
       "    </tr>\n",
       "  </tbody>\n",
       "</table>\n",
       "</div>"
      ],
      "text/plain": [
       "          pid                           doi\n",
       "0  1966827022  10.1371/journal.pcbi.1002887\n",
       "1  1970867439  10.1371/journal.pone.0040555\n",
       "2  1974609334  10.1371/journal.pmed.1000202\n",
       "3  1985768873  10.1371/journal.pcbi.1000731\n",
       "4  1991290371  10.1371/journal.pone.0090052"
      ]
     },
     "execution_count": 5,
     "metadata": {},
     "output_type": "execute_result"
    }
   ],
   "source": [
    "# read paper id data\n",
    "df_magpaper_id_doi_plos = pd.read_table(f'{PATH_MAG}/papers_plos.txt', sep=' ', names=['pid', 'doi'])\n",
    "df_magpaper_id_doi_srep = pd.read_table(f'{PATH_MAG}/papers_srep.txt', sep=' ', names=['pid', 'doi'])\n",
    "df_magpaper_id_doi = pd.concat([df_magpaper_id_doi_plos, df_magpaper_id_doi_srep])\n",
    "\n",
    "# change doi to lower case\n",
    "df_magpaper_id_doi[\"doi\"] = df_magpaper_id_doi[\"doi\"].str.lower()\n",
    "\n",
    "# clear error row: Eliminate cases where multiple paper ids are assigned to a single doi.\n",
    "s_vs = df_magpaper_id_doi['doi'].value_counts()\n",
    "mag_available_dois = set(s_vs[s_vs.values == 1].index)\n",
    "df_magpaper_id_doi2 = df_magpaper_id_doi[df_magpaper_id_doi['doi'].isin(mag_available_dois)]\n",
    "\n",
    "df_magpaper_id_doi2.head()"
   ]
  },
  {
   "cell_type": "markdown",
   "id": "26295653-998f-4bb7-8323-29a256abe9d9",
   "metadata": {},
   "source": [
    "### replace acknow paper's doi to papaerID of MAG"
   ]
  },
  {
   "cell_type": "code",
   "execution_count": 6,
   "id": "92e66ce2-0e96-46fa-9f06-e5fa63a27cb4",
   "metadata": {},
   "outputs": [
    {
     "data": {
      "text/html": [
       "<div>\n",
       "<style scoped>\n",
       "    .dataframe tbody tr th:only-of-type {\n",
       "        vertical-align: middle;\n",
       "    }\n",
       "\n",
       "    .dataframe tbody tr th {\n",
       "        vertical-align: top;\n",
       "    }\n",
       "\n",
       "    .dataframe thead th {\n",
       "        text-align: right;\n",
       "    }\n",
       "</style>\n",
       "<table border=\"1\" class=\"dataframe\">\n",
       "  <thead>\n",
       "    <tr style=\"text-align: right;\">\n",
       "      <th></th>\n",
       "      <th>paperId</th>\n",
       "      <th>author</th>\n",
       "      <th>acknow</th>\n",
       "      <th>pid</th>\n",
       "      <th>doi</th>\n",
       "    </tr>\n",
       "  </thead>\n",
       "  <tbody>\n",
       "    <tr>\n",
       "      <th>0</th>\n",
       "      <td>10.1371/journal.pcbi.0010001</td>\n",
       "      <td>Hanah_Margalit</td>\n",
       "      <td>Aviv_Regev</td>\n",
       "      <td>2145218186</td>\n",
       "      <td>10.1371/journal.pcbi.0010001</td>\n",
       "    </tr>\n",
       "    <tr>\n",
       "      <th>1</th>\n",
       "      <td>10.1371/journal.pcbi.0010001</td>\n",
       "      <td>Hanah_Margalit</td>\n",
       "      <td>Benjamin_Gordon</td>\n",
       "      <td>2145218186</td>\n",
       "      <td>10.1371/journal.pcbi.0010001</td>\n",
       "    </tr>\n",
       "    <tr>\n",
       "      <th>2</th>\n",
       "      <td>10.1371/journal.pcbi.0010001</td>\n",
       "      <td>Hanah_Margalit</td>\n",
       "      <td>Dalit_May</td>\n",
       "      <td>2145218186</td>\n",
       "      <td>10.1371/journal.pcbi.0010001</td>\n",
       "    </tr>\n",
       "    <tr>\n",
       "      <th>3</th>\n",
       "      <td>10.1371/journal.pcbi.0010001</td>\n",
       "      <td>Hanah_Margalit</td>\n",
       "      <td>Ernest_Fraenkel</td>\n",
       "      <td>2145218186</td>\n",
       "      <td>10.1371/journal.pcbi.0010001</td>\n",
       "    </tr>\n",
       "    <tr>\n",
       "      <th>4</th>\n",
       "      <td>10.1371/journal.pcbi.0010001</td>\n",
       "      <td>Hanah_Margalit</td>\n",
       "      <td>Lena_Nekludova</td>\n",
       "      <td>2145218186</td>\n",
       "      <td>10.1371/journal.pcbi.0010001</td>\n",
       "    </tr>\n",
       "  </tbody>\n",
       "</table>\n",
       "</div>"
      ],
      "text/plain": [
       "                        paperId          author           acknow         pid  \\\n",
       "0  10.1371/journal.pcbi.0010001  Hanah_Margalit       Aviv_Regev  2145218186   \n",
       "1  10.1371/journal.pcbi.0010001  Hanah_Margalit  Benjamin_Gordon  2145218186   \n",
       "2  10.1371/journal.pcbi.0010001  Hanah_Margalit        Dalit_May  2145218186   \n",
       "3  10.1371/journal.pcbi.0010001  Hanah_Margalit  Ernest_Fraenkel  2145218186   \n",
       "4  10.1371/journal.pcbi.0010001  Hanah_Margalit   Lena_Nekludova  2145218186   \n",
       "\n",
       "                            doi  \n",
       "0  10.1371/journal.pcbi.0010001  \n",
       "1  10.1371/journal.pcbi.0010001  \n",
       "2  10.1371/journal.pcbi.0010001  \n",
       "3  10.1371/journal.pcbi.0010001  \n",
       "4  10.1371/journal.pcbi.0010001  "
      ]
     },
     "execution_count": 6,
     "metadata": {},
     "output_type": "execute_result"
    }
   ],
   "source": [
    "dfs_all_w_pid = pd.merge(dfs_all, df_magpaper_id_doi2,  \n",
    "          how='inner',left_on ='paperId',right_on='doi')\n",
    "dfs_all_w_pid.head()"
   ]
  },
  {
   "cell_type": "markdown",
   "id": "2311de09-556b-4ea6-bac5-99c3bcb73012",
   "metadata": {},
   "source": [
    "### replace authorName of row data into authorId of MAG"
   ]
  },
  {
   "cell_type": "code",
   "execution_count": 24,
   "id": "ef143ddd-2e23-48a0-a537-70d6aceb0a30",
   "metadata": {},
   "outputs": [
    {
     "name": "stdout",
     "output_type": "stream",
     "text": [
      "file exists\n"
     ]
    }
   ],
   "source": [
    "# read PaperAuthorAffiliations.csv\n",
    "vaex_mag_pauthorAffil = read_vaex(f'{PATH_MAG}/PaperAuthorAffiliations/PaperAuthorAffiliations.txt')"
   ]
  },
  {
   "cell_type": "code",
   "execution_count": 25,
   "id": "ffa9d51e-5438-42bc-8dac-1d4db401860e",
   "metadata": {
    "tags": []
   },
   "outputs": [
    {
     "data": {
      "text/html": [
       "<div>\n",
       "<style scoped>\n",
       "    .dataframe tbody tr th:only-of-type {\n",
       "        vertical-align: middle;\n",
       "    }\n",
       "\n",
       "    .dataframe tbody tr th {\n",
       "        vertical-align: top;\n",
       "    }\n",
       "\n",
       "    .dataframe thead th {\n",
       "        text-align: right;\n",
       "    }\n",
       "</style>\n",
       "<table border=\"1\" class=\"dataframe\">\n",
       "  <thead>\n",
       "    <tr style=\"text-align: right;\">\n",
       "      <th></th>\n",
       "      <th>PaperId</th>\n",
       "      <th>AuthorId</th>\n",
       "    </tr>\n",
       "  </thead>\n",
       "  <tbody>\n",
       "    <tr>\n",
       "      <th>0</th>\n",
       "      <td>11386834</td>\n",
       "      <td>[1399976251, 2010425313, 2129111168]</td>\n",
       "    </tr>\n",
       "    <tr>\n",
       "      <th>1</th>\n",
       "      <td>23277314</td>\n",
       "      <td>[1777294175, 1777294175, 2127422046, 215886216...</td>\n",
       "    </tr>\n",
       "    <tr>\n",
       "      <th>2</th>\n",
       "      <td>28776219</td>\n",
       "      <td>[2030885370, 2409662761]</td>\n",
       "    </tr>\n",
       "    <tr>\n",
       "      <th>3</th>\n",
       "      <td>30683393</td>\n",
       "      <td>[2020286370, 2030482327, 2118626585, 211862658...</td>\n",
       "    </tr>\n",
       "    <tr>\n",
       "      <th>4</th>\n",
       "      <td>33210814</td>\n",
       "      <td>[2064773457, 2194711037]</td>\n",
       "    </tr>\n",
       "  </tbody>\n",
       "</table>\n",
       "</div>"
      ],
      "text/plain": [
       "    PaperId                                           AuthorId\n",
       "0  11386834               [1399976251, 2010425313, 2129111168]\n",
       "1  23277314  [1777294175, 1777294175, 2127422046, 215886216...\n",
       "2  28776219                           [2030885370, 2409662761]\n",
       "3  30683393  [2020286370, 2030482327, 2118626585, 211862658...\n",
       "4  33210814                           [2064773457, 2194711037]"
      ]
     },
     "execution_count": 25,
     "metadata": {},
     "output_type": "execute_result"
    }
   ],
   "source": [
    "# pid of row data\n",
    "row_pids = dfs_all_w_pid.pid.tolist()\n",
    "\n",
    "# authorIds of paperId from AuthorAffil.csv\n",
    "vaex_row_paperinfo = vaex_mag_pauthorAffil[vaex_mag_pauthorAffil.PaperId.isin(row_pids)]\n",
    "# vaex_row_paperinfo.head()\n",
    "\n",
    "# group authors by paperID before merging to dfs_all\n",
    "df_row_paperinfo = vaex_row_paperinfo.to_pandas_df().rename({' AuthorId': 'AuthorId'}, axis=1)\n",
    "df_row_paperinfo_groupby_paper = df_row_paperinfo.groupby('PaperId')['AuthorId'].apply(list).reset_index()\n",
    "df_row_paperinfo_groupby_paper.head()"
   ]
  },
  {
   "cell_type": "markdown",
   "id": "dc5c0b3c-0524-48c5-b3c9-94a5b3a3d151",
   "metadata": {},
   "source": [
    "### merge to dfs_all authorId data and recreate edgelist using AuthorIds"
   ]
  },
  {
   "cell_type": "code",
   "execution_count": 11,
   "id": "ba605f7e-dc2f-4f59-9471-5f1b147d76d6",
   "metadata": {},
   "outputs": [
    {
     "data": {
      "text/html": [
       "<div>\n",
       "<style scoped>\n",
       "    .dataframe tbody tr th:only-of-type {\n",
       "        vertical-align: middle;\n",
       "    }\n",
       "\n",
       "    .dataframe tbody tr th {\n",
       "        vertical-align: top;\n",
       "    }\n",
       "\n",
       "    .dataframe thead th {\n",
       "        text-align: right;\n",
       "    }\n",
       "</style>\n",
       "<table border=\"1\" class=\"dataframe\">\n",
       "  <thead>\n",
       "    <tr style=\"text-align: right;\">\n",
       "      <th></th>\n",
       "      <th>pid</th>\n",
       "      <th>acknow</th>\n",
       "      <th>AuthorId</th>\n",
       "    </tr>\n",
       "  </thead>\n",
       "  <tbody>\n",
       "    <tr>\n",
       "      <th>0</th>\n",
       "      <td>2145218186</td>\n",
       "      <td>Aviv_Regev</td>\n",
       "      <td>1219376531</td>\n",
       "    </tr>\n",
       "    <tr>\n",
       "      <th>0</th>\n",
       "      <td>2145218186</td>\n",
       "      <td>Aviv_Regev</td>\n",
       "      <td>2079978182</td>\n",
       "    </tr>\n",
       "    <tr>\n",
       "      <th>0</th>\n",
       "      <td>2145218186</td>\n",
       "      <td>Aviv_Regev</td>\n",
       "      <td>2125555973</td>\n",
       "    </tr>\n",
       "    <tr>\n",
       "      <th>1</th>\n",
       "      <td>2145218186</td>\n",
       "      <td>Benjamin_Gordon</td>\n",
       "      <td>1219376531</td>\n",
       "    </tr>\n",
       "    <tr>\n",
       "      <th>1</th>\n",
       "      <td>2145218186</td>\n",
       "      <td>Benjamin_Gordon</td>\n",
       "      <td>2079978182</td>\n",
       "    </tr>\n",
       "  </tbody>\n",
       "</table>\n",
       "</div>"
      ],
      "text/plain": [
       "          pid           acknow    AuthorId\n",
       "0  2145218186       Aviv_Regev  1219376531\n",
       "0  2145218186       Aviv_Regev  2079978182\n",
       "0  2145218186       Aviv_Regev  2125555973\n",
       "1  2145218186  Benjamin_Gordon  1219376531\n",
       "1  2145218186  Benjamin_Gordon  2079978182"
      ]
     },
     "execution_count": 11,
     "metadata": {},
     "output_type": "execute_result"
    }
   ],
   "source": [
    "# use only pid and acknow columns\n",
    "dfs_all_pid_acknow = dfs_all_w_pid[['pid', 'acknow']].drop_duplicates()\n",
    "\n",
    "# merge authorIds and explode them\n",
    "dfs_all_w_pid_tmp = pd.merge(dfs_all_pid_acknow, df_row_paperinfo_groupby_paper,  \n",
    "          how='inner',left_on ='pid',right_on='PaperId')\n",
    "replaced_dfs_all = dfs_all_w_pid_tmp[['pid', 'acknow', 'AuthorId']].explode('AuthorId')\n",
    "replaced_dfs_all.head()"
   ]
  },
  {
   "cell_type": "code",
   "execution_count": 26,
   "id": "ee028167-eb23-4106-a56b-87fc75d397bb",
   "metadata": {},
   "outputs": [
    {
     "data": {
      "text/html": [
       "<div>\n",
       "<style scoped>\n",
       "    .dataframe tbody tr th:only-of-type {\n",
       "        vertical-align: middle;\n",
       "    }\n",
       "\n",
       "    .dataframe tbody tr th {\n",
       "        vertical-align: top;\n",
       "    }\n",
       "\n",
       "    .dataframe thead th {\n",
       "        text-align: right;\n",
       "    }\n",
       "</style>\n",
       "<table border=\"1\" class=\"dataframe\">\n",
       "  <thead>\n",
       "    <tr style=\"text-align: right;\">\n",
       "      <th></th>\n",
       "      <th>pid</th>\n",
       "      <th>acknow</th>\n",
       "      <th>AuthorId</th>\n",
       "    </tr>\n",
       "  </thead>\n",
       "  <tbody>\n",
       "    <tr>\n",
       "      <th>0</th>\n",
       "      <td>2145218186</td>\n",
       "      <td>Aviv_Regev</td>\n",
       "      <td>1219376531</td>\n",
       "    </tr>\n",
       "    <tr>\n",
       "      <th>0</th>\n",
       "      <td>2145218186</td>\n",
       "      <td>Aviv_Regev</td>\n",
       "      <td>2079978182</td>\n",
       "    </tr>\n",
       "    <tr>\n",
       "      <th>0</th>\n",
       "      <td>2145218186</td>\n",
       "      <td>Aviv_Regev</td>\n",
       "      <td>2125555973</td>\n",
       "    </tr>\n",
       "    <tr>\n",
       "      <th>1</th>\n",
       "      <td>2145218186</td>\n",
       "      <td>Benjamin_Gordon</td>\n",
       "      <td>1219376531</td>\n",
       "    </tr>\n",
       "    <tr>\n",
       "      <th>1</th>\n",
       "      <td>2145218186</td>\n",
       "      <td>Benjamin_Gordon</td>\n",
       "      <td>2079978182</td>\n",
       "    </tr>\n",
       "  </tbody>\n",
       "</table>\n",
       "</div>"
      ],
      "text/plain": [
       "          pid           acknow    AuthorId\n",
       "0  2145218186       Aviv_Regev  1219376531\n",
       "0  2145218186       Aviv_Regev  2079978182\n",
       "0  2145218186       Aviv_Regev  2125555973\n",
       "1  2145218186  Benjamin_Gordon  1219376531\n",
       "1  2145218186  Benjamin_Gordon  2079978182"
      ]
     },
     "execution_count": 26,
     "metadata": {},
     "output_type": "execute_result"
    }
   ],
   "source": [
    "# use only pid and acknow columns\n",
    "dfs_all_pid_acknow = dfs_all_w_pid[['pid', 'acknow']].drop_duplicates()\n",
    "\n",
    "# merge authorIds and explode them\n",
    "dfs_all_w_pid_tmp = pd.merge(dfs_all_pid_acknow, df_row_paperinfo_groupby_paper,  \n",
    "          how='inner',left_on ='pid',right_on='PaperId')\n",
    "replaced_dfs_all = dfs_all_w_pid_tmp[['pid', 'acknow', 'AuthorId']].explode('AuthorId')\n",
    "replaced_dfs_all.head()"
   ]
  },
  {
   "cell_type": "markdown",
   "id": "06f0e486-64ce-40a7-8d04-b4d23da460f7",
   "metadata": {},
   "source": [
    "# Extract a set of papers with acknowledged name"
   ]
  },
  {
   "cell_type": "code",
   "execution_count": 14,
   "id": "c1fac4e7-d2f2-44e6-9213-886ecae27474",
   "metadata": {},
   "outputs": [
    {
     "name": "stdout",
     "output_type": "stream",
     "text": [
      "file exists\n"
     ]
    }
   ],
   "source": [
    "# read Authors.csv\n",
    "vaex_mag_authors = read_vaex(f'{PATH_MAG}/Authors/Authors.csv')"
   ]
  },
  {
   "cell_type": "code",
   "execution_count": 34,
   "id": "4f4fdd2a-9242-48f2-b373-3e6b3d6505de",
   "metadata": {
    "tags": []
   },
   "outputs": [
    {
     "name": "stdout",
     "output_type": "stream",
     "text": [
      "CPU times: user 2min 54s, sys: 26.3 s, total: 3min 20s\n",
      "Wall time: 1min\n"
     ]
    },
    {
     "data": {
      "text/html": [
       "<table>\n",
       "<thead>\n",
       "<tr><th>#                            </th><th style=\"text-align: right;\">  PaperId</th><th style=\"text-align: right;\">  AuthorId</th></tr>\n",
       "</thead>\n",
       "<tbody>\n",
       "<tr><td><i style='opacity: 0.6'>0</i></td><td style=\"text-align: right;\">      125</td><td style=\"text-align: right;\">2250382311</td></tr>\n",
       "<tr><td><i style='opacity: 0.6'>1</i></td><td style=\"text-align: right;\">      285</td><td style=\"text-align: right;\">2970207820</td></tr>\n",
       "<tr><td><i style='opacity: 0.6'>2</i></td><td style=\"text-align: right;\">      348</td><td style=\"text-align: right;\">3075130288</td></tr>\n",
       "<tr><td><i style='opacity: 0.6'>3</i></td><td style=\"text-align: right;\">      504</td><td style=\"text-align: right;\">2419810751</td></tr>\n",
       "<tr><td><i style='opacity: 0.6'>4</i></td><td style=\"text-align: right;\">      587</td><td style=\"text-align: right;\">2145458040</td></tr>\n",
       "<tr><td><i style='opacity: 0.6'>5</i></td><td style=\"text-align: right;\">     1193</td><td style=\"text-align: right;\">2628638280</td></tr>\n",
       "<tr><td><i style='opacity: 0.6'>6</i></td><td style=\"text-align: right;\">     1273</td><td style=\"text-align: right;\">2250460279</td></tr>\n",
       "<tr><td><i style='opacity: 0.6'>7</i></td><td style=\"text-align: right;\">     1273</td><td style=\"text-align: right;\">2690401570</td></tr>\n",
       "<tr><td><i style='opacity: 0.6'>8</i></td><td style=\"text-align: right;\">     1314</td><td style=\"text-align: right;\">2627395902</td></tr>\n",
       "<tr><td><i style='opacity: 0.6'>9</i></td><td style=\"text-align: right;\">     1420</td><td style=\"text-align: right;\">2128819202</td></tr>\n",
       "</tbody>\n",
       "</table>"
      ],
      "text/plain": [
       "  #    PaperId    AuthorId\n",
       "  0        125  2250382311\n",
       "  1        285  2970207820\n",
       "  2        348  3075130288\n",
       "  3        504  2419810751\n",
       "  4        587  2145458040\n",
       "  5       1193  2628638280\n",
       "  6       1273  2250460279\n",
       "  7       1273  2690401570\n",
       "  8       1314  2627395902\n",
       "  9       1420  2128819202"
      ]
     },
     "execution_count": 34,
     "metadata": {},
     "output_type": "execute_result"
    }
   ],
   "source": [
    "%%time\n",
    "# repalce acknow name without '_'\n",
    "replaced_dfs_all['acknow'] = replaced_dfs_all['acknow'].apply(lambda x: \" \".join(x.split('_')))\n",
    "\n",
    "# names of acknowledged individuals\n",
    "row_acknows = list(set(replaced_dfs_all.acknow.tolist()))\n",
    "\n",
    "# extract possible acknow ids from Authors.csv\n",
    "possible_ackonw_ids = vaex_mag_authors[vaex_mag_authors['DisplayName'].isin(row_acknows)].AuthorId.tolist()\n",
    "\n",
    "# extract possible paperId include acknow name \n",
    "vaex_row_paperinfo_acknow = vaex_mag_pauthorAffil[(vaex_mag_pauthorAffil['OriginalAuthor'].isin(row_acknows)) | vaex_mag_pauthorAffil['AuthorId'].isin(possible_ackonw_ids)][['PaperId', 'AuthorId']]\n",
    "\n",
    "vaex_row_paperinfo_acknow.head()"
   ]
  },
  {
   "cell_type": "code",
   "execution_count": 35,
   "id": "c1a4c07c-955e-469c-b284-fdcdc8bd3231",
   "metadata": {},
   "outputs": [
    {
     "name": "stdout",
     "output_type": "stream",
     "text": [
      "length of possible acknow ids = 13490399\n"
     ]
    }
   ],
   "source": [
    "# MAG paper IDs including acknowledged names in author list\n",
    "possible_acknow_paperid_set = set(vaex_row_paperinfo_acknow.PaperId.tolist())\n",
    "\n",
    "print(f'length of possible acknow ids = {len(set(possible_ackonw_ids))}')"
   ]
  },
  {
   "cell_type": "markdown",
   "id": "3eee91ee-11fb-4a09-be2e-bfd9eb6efea2",
   "metadata": {},
   "source": [
    "# With MAG AuthorID，create set of published paperIDs by the authors"
   ]
  },
  {
   "cell_type": "code",
   "execution_count": 31,
   "id": "91593a66-505c-485b-a618-e1d6d5a729d9",
   "metadata": {},
   "outputs": [],
   "source": [
    "# author's ids\n",
    "row_authors = list(set(replaced_dfs_all.AuthorId.tolist()))\n",
    "\n",
    "# paperIds which is published by authors\n",
    "vaex_author_related_paperinfo = vaex_mag_pauthorAffil[vaex_mag_pauthorAffil['AuthorId'].isin(row_authors)]\n",
    "\n",
    "# extract pids\n",
    "authors_published_paper_ids = set(vaex_author_related_paperinfo.PaperId.tolist())"
   ]
  },
  {
   "cell_type": "markdown",
   "id": "752836e1-2587-45bb-a8dd-0474f878472a",
   "metadata": {},
   "source": [
    "### We can only focus on the papers which is published by authors with possibl\n",
    "What we want to find out is the papers in which acknowledging authors and acknowledged scholars collaborated. Thus, we can focus on only the intersected paperID between the papers published by authors and papers possibly published by scholars matched with acknowledged individual names."
   ]
  },
  {
   "cell_type": "code",
   "execution_count": 36,
   "id": "bb8f3a69-8175-4fa1-9d78-3e63362a77dc",
   "metadata": {},
   "outputs": [],
   "source": [
    "# find intersection of paperID between authors' and acknowledged schoalrs' \n",
    "d1_possible_collaborated_paper_ids = list(authors_published_paper_ids & possible_acknow_paperid_set) # length == 11,866,992"
   ]
  },
  {
   "cell_type": "markdown",
   "id": "543dd2ca-b20d-43b6-9113-0f4c922f9c1e",
   "metadata": {},
   "source": [
    "### この論文idに対して，1.誰がどの論文を書いたのか`{authors: [pids]}`,と 2.論文とその著者関係`{pid: [authors]}`を作る．"
   ]
  },
  {
   "cell_type": "markdown",
   "id": "af5b02ec-64b7-4b20-9b5a-4807415325d0",
   "metadata": {},
   "source": [
    "### step 1.Find who wrote which papers. \n",
    "Create dict of `{authors: [pids]}`→df_author_related_paperinfo_grouped"
   ]
  },
  {
   "cell_type": "code",
   "execution_count": 32,
   "id": "d816cdcd-0f24-4fc4-95f6-b4686fedef8a",
   "metadata": {},
   "outputs": [
    {
     "name": "stdout",
     "output_type": "stream",
     "text": [
      "CPU times: user 1min 2s, sys: 1min 8s, total: 2min 11s\n",
      "Wall time: 2min 56s\n"
     ]
    },
    {
     "data": {
      "text/html": [
       "<div>\n",
       "<style scoped>\n",
       "    .dataframe tbody tr th:only-of-type {\n",
       "        vertical-align: middle;\n",
       "    }\n",
       "\n",
       "    .dataframe tbody tr th {\n",
       "        vertical-align: top;\n",
       "    }\n",
       "\n",
       "    .dataframe thead th {\n",
       "        text-align: right;\n",
       "    }\n",
       "</style>\n",
       "<table border=\"1\" class=\"dataframe\">\n",
       "  <thead>\n",
       "    <tr style=\"text-align: right;\">\n",
       "      <th></th>\n",
       "      <th>AuthorId</th>\n",
       "      <th>PublishedPaperId</th>\n",
       "    </tr>\n",
       "  </thead>\n",
       "  <tbody>\n",
       "    <tr>\n",
       "      <th>0</th>\n",
       "      <td>15251</td>\n",
       "      <td>[289883683, 1571665470, 1576209224, 1814515265...</td>\n",
       "    </tr>\n",
       "    <tr>\n",
       "      <th>1</th>\n",
       "      <td>18161</td>\n",
       "      <td>[231729728, 838129493, 1502222176, 1566592723,...</td>\n",
       "    </tr>\n",
       "    <tr>\n",
       "      <th>2</th>\n",
       "      <td>27238</td>\n",
       "      <td>[574348173, 643728258, 657244501, 754093823, 1...</td>\n",
       "    </tr>\n",
       "    <tr>\n",
       "      <th>3</th>\n",
       "      <td>30645</td>\n",
       "      <td>[1006201, 68834758, 127261126, 134483773, 1422...</td>\n",
       "    </tr>\n",
       "    <tr>\n",
       "      <th>4</th>\n",
       "      <td>41399</td>\n",
       "      <td>[5786333, 44086190, 50835861, 137984443, 16627...</td>\n",
       "    </tr>\n",
       "  </tbody>\n",
       "</table>\n",
       "</div>"
      ],
      "text/plain": [
       "   AuthorId                                   PublishedPaperId\n",
       "0     15251  [289883683, 1571665470, 1576209224, 1814515265...\n",
       "1     18161  [231729728, 838129493, 1502222176, 1566592723,...\n",
       "2     27238  [574348173, 643728258, 657244501, 754093823, 1...\n",
       "3     30645  [1006201, 68834758, 127261126, 134483773, 1422...\n",
       "4     41399  [5786333, 44086190, 50835861, 137984443, 16627..."
      ]
     },
     "execution_count": 32,
     "metadata": {},
     "output_type": "execute_result"
    }
   ],
   "source": [
    "%%time\n",
    "# extract paper and author data necessary\n",
    "vaex_author_related_paperinfo2 = vaex_author_related_paperinfo[vaex_author_related_paperinfo['PaperId'].isin(d1_possible_collaborated_paper_ids)]\n",
    "\n",
    "# group papers by authorId\n",
    "df_author_related_paperinfo = vaex_author_related_paperinfo2.to_pandas_df() #.rename({' AuthorId': 'AuthorId'}, axis=1)\n",
    "df_author_related_paperinfo_grouped = df_author_related_paperinfo.groupby('AuthorId')['PaperId'].apply(list).reset_index()\n",
    "\n",
    "# rename \n",
    "df_author_related_paperinfo_grouped = df_author_related_paperinfo_grouped.rename({'PaperId': 'PublishedPaperId'}, axis=1)\n",
    "df_author_related_paperinfo_grouped.head()"
   ]
  },
  {
   "cell_type": "markdown",
   "id": "81b788ef-5f67-4ce2-85a1-57d3e8044360",
   "metadata": {},
   "source": [
    "### step 2. Find who the authors is in a paper.\n",
    "Create a dict of `{pid: [authors]}`→ df_candidate_paperinfo_grouped"
   ]
  },
  {
   "cell_type": "code",
   "execution_count": 34,
   "id": "612980ff-e130-4e0c-a1c9-0b55d93b3ce4",
   "metadata": {},
   "outputs": [
    {
     "name": "stdout",
     "output_type": "stream",
     "text": [
      "CPU times: user 3min 19s, sys: 1min 42s, total: 5min 1s\n",
      "Wall time: 5min 8s\n"
     ]
    },
    {
     "data": {
      "text/html": [
       "<div>\n",
       "<style scoped>\n",
       "    .dataframe tbody tr th:only-of-type {\n",
       "        vertical-align: middle;\n",
       "    }\n",
       "\n",
       "    .dataframe tbody tr th {\n",
       "        vertical-align: top;\n",
       "    }\n",
       "\n",
       "    .dataframe thead th {\n",
       "        text-align: right;\n",
       "    }\n",
       "</style>\n",
       "<table border=\"1\" class=\"dataframe\">\n",
       "  <thead>\n",
       "    <tr style=\"text-align: right;\">\n",
       "      <th></th>\n",
       "      <th>PaperId</th>\n",
       "      <th>CollaboratedAuthorId</th>\n",
       "    </tr>\n",
       "  </thead>\n",
       "  <tbody>\n",
       "    <tr>\n",
       "      <th>0</th>\n",
       "      <td>504</td>\n",
       "      <td>[2419810751]</td>\n",
       "    </tr>\n",
       "    <tr>\n",
       "      <th>1</th>\n",
       "      <td>587</td>\n",
       "      <td>[2145458040]</td>\n",
       "    </tr>\n",
       "    <tr>\n",
       "      <th>2</th>\n",
       "      <td>1688</td>\n",
       "      <td>[2126056503, 2736971842]</td>\n",
       "    </tr>\n",
       "    <tr>\n",
       "      <th>3</th>\n",
       "      <td>2208</td>\n",
       "      <td>[2099564275]</td>\n",
       "    </tr>\n",
       "    <tr>\n",
       "      <th>4</th>\n",
       "      <td>3066</td>\n",
       "      <td>[2222372278]</td>\n",
       "    </tr>\n",
       "  </tbody>\n",
       "</table>\n",
       "</div>"
      ],
      "text/plain": [
       "   PaperId      CollaboratedAuthorId\n",
       "0      504              [2419810751]\n",
       "1      587              [2145458040]\n",
       "2     1688  [2126056503, 2736971842]\n",
       "3     2208              [2099564275]\n",
       "4     3066              [2222372278]"
      ]
     },
     "execution_count": 34,
     "metadata": {},
     "output_type": "execute_result"
    }
   ],
   "source": [
    "%%time\n",
    "# extract paper and author data necessary\n",
    "vaex_candidated_paperinfo = vaex_mag_pauthorAffil[vaex_mag_pauthorAffil['PaperId'].isin(d1_possible_collaborated_paper_ids)]\n",
    "\n",
    "# filter by acknow's authorId\n",
    "vaex_candidated_paperinfo2 = vaex_candidated_paperinfo[vaex_candidated_paperinfo['AuthorId'].isin(list(set(possible_ackonw_ids)))]\n",
    "\n",
    "# group authorId by paperId\n",
    "df_candidate_paperinfo = vaex_candidated_paperinfo2.to_pandas_df() #.rename({' AuthorId': 'AuthorId'}, axis=1)\n",
    "df_candidate_paperinfo_grouped = df_candidate_paperinfo.groupby('PaperId')['AuthorId'].apply(list).reset_index()\n",
    "\n",
    "# reanme\n",
    "df_candidate_paperinfo_grouped = df_candidate_paperinfo_grouped.rename({'AuthorId': 'CollaboratedAuthorId'}, axis=1)\n",
    "df_candidate_paperinfo_grouped.head() # length = 11,866,992"
   ]
  },
  {
   "cell_type": "markdown",
   "id": "ca5b6803-5bf9-488b-acc3-a8bf2fc0dcd4",
   "metadata": {},
   "source": [
    "# Save1"
   ]
  },
  {
   "cell_type": "code",
   "execution_count": 35,
   "id": "ec768990-5e52-40fa-bdf1-f75161c0d5ae",
   "metadata": {},
   "outputs": [
    {
     "data": {
      "text/plain": [
       "'\\nif you start from here, run the following commands\\n'"
      ]
     },
     "execution_count": 35,
     "metadata": {},
     "output_type": "execute_result"
    }
   ],
   "source": [
    "df_author_related_paperinfo_grouped.to_csv(f'{PATH_SAVE}/Author_publishedPaperId.csv', index=False)\n",
    "df_candidate_paperinfo_grouped.to_csv(f'{PATH_SAVE}/Paper_CollaboratedAuthorId.csv', index=False)\n",
    "\n",
    "\"\"\"\n",
    "if you start from here, run the following commands\n",
    "\"\"\"\n",
    "# df_author_related_paperinfo_grouped = pd.read_csv('../../data-computed-MAG/Author_publishedPaperId.csv')\n",
    "# df_author_related_paperinfo_grouped = pd.read_csv('../../data-computed-MAG/Paper_CollaboratedAuthorId.csv')\n"
   ]
  },
  {
   "cell_type": "markdown",
   "id": "79c34272-79ae-4a02-a7e4-13d5fae1a679",
   "metadata": {},
   "source": [
    "### Create a dict of `{author: [CollaboratedAuthorIds]}`"
   ]
  },
  {
   "cell_type": "markdown",
   "id": "ed503179-2d88-419c-9f4d-0fc68f1c728f",
   "metadata": {},
   "source": [
    "### まずはauthorsの共著情報を作る"
   ]
  },
  {
   "cell_type": "markdown",
   "id": "eec9a396-19d5-45b1-b305-d73d11957745",
   "metadata": {},
   "source": [
    "### Steps\n",
    "1. Explode `authors: [published_pids]`(w/ df_author_related_paperinfo_grouped)\n",
    "2. Merge `{pid: [collaboraterId]}` with published_pid. (w/ df_candidate_paperinfo_grouped)\n",
    "3. Create `{authorId: [collaboraterIds]}` with groupby authorIds"
   ]
  },
  {
   "cell_type": "markdown",
   "id": "21f37525-d451-45de-8074-fa0f48999fdb",
   "metadata": {},
   "source": [
    "### 1. explode `authors: [published_pids]`(w/ df_author_related_paperinfo_grouped)"
   ]
  },
  {
   "cell_type": "code",
   "execution_count": 36,
   "id": "390f0283-628d-47ce-8ecd-46f1ab9684ca",
   "metadata": {},
   "outputs": [
    {
     "data": {
      "text/html": [
       "<div>\n",
       "<style scoped>\n",
       "    .dataframe tbody tr th:only-of-type {\n",
       "        vertical-align: middle;\n",
       "    }\n",
       "\n",
       "    .dataframe tbody tr th {\n",
       "        vertical-align: top;\n",
       "    }\n",
       "\n",
       "    .dataframe thead th {\n",
       "        text-align: right;\n",
       "    }\n",
       "</style>\n",
       "<table border=\"1\" class=\"dataframe\">\n",
       "  <thead>\n",
       "    <tr style=\"text-align: right;\">\n",
       "      <th></th>\n",
       "      <th>AuthorId</th>\n",
       "      <th>PublishedPaperId</th>\n",
       "    </tr>\n",
       "  </thead>\n",
       "  <tbody>\n",
       "    <tr>\n",
       "      <th>0</th>\n",
       "      <td>15251</td>\n",
       "      <td>289883683</td>\n",
       "    </tr>\n",
       "    <tr>\n",
       "      <th>0</th>\n",
       "      <td>15251</td>\n",
       "      <td>1571665470</td>\n",
       "    </tr>\n",
       "    <tr>\n",
       "      <th>0</th>\n",
       "      <td>15251</td>\n",
       "      <td>1576209224</td>\n",
       "    </tr>\n",
       "    <tr>\n",
       "      <th>0</th>\n",
       "      <td>15251</td>\n",
       "      <td>1814515265</td>\n",
       "    </tr>\n",
       "    <tr>\n",
       "      <th>0</th>\n",
       "      <td>15251</td>\n",
       "      <td>1844237543</td>\n",
       "    </tr>\n",
       "  </tbody>\n",
       "</table>\n",
       "</div>"
      ],
      "text/plain": [
       "   AuthorId PublishedPaperId\n",
       "0     15251        289883683\n",
       "0     15251       1571665470\n",
       "0     15251       1576209224\n",
       "0     15251       1814515265\n",
       "0     15251       1844237543"
      ]
     },
     "execution_count": 36,
     "metadata": {},
     "output_type": "execute_result"
    }
   ],
   "source": [
    "df_author_related_paperinfo_exploded = df_author_related_paperinfo_grouped.explode('PublishedPaperId')\n",
    "df_author_related_paperinfo_exploded.head()"
   ]
  },
  {
   "cell_type": "markdown",
   "id": "a329b6fe-4102-43e1-b838-a1e54ec605d8",
   "metadata": {},
   "source": [
    "### 2. Merge `{pid: [collaboraterId]}` with published_pid. (w/ df_candidate_paperinfo_grouped)"
   ]
  },
  {
   "cell_type": "code",
   "execution_count": 37,
   "id": "eba5b037-6534-4e0c-9f4a-145fe95f99ff",
   "metadata": {},
   "outputs": [
    {
     "name": "stdout",
     "output_type": "stream",
     "text": [
      "CPU times: user 23.6 s, sys: 30.4 s, total: 54.1 s\n",
      "Wall time: 1min 12s\n"
     ]
    },
    {
     "data": {
      "text/html": [
       "<div>\n",
       "<style scoped>\n",
       "    .dataframe tbody tr th:only-of-type {\n",
       "        vertical-align: middle;\n",
       "    }\n",
       "\n",
       "    .dataframe tbody tr th {\n",
       "        vertical-align: top;\n",
       "    }\n",
       "\n",
       "    .dataframe thead th {\n",
       "        text-align: right;\n",
       "    }\n",
       "</style>\n",
       "<table border=\"1\" class=\"dataframe\">\n",
       "  <thead>\n",
       "    <tr style=\"text-align: right;\">\n",
       "      <th></th>\n",
       "      <th>AuthorId</th>\n",
       "      <th>PublishedPaperId</th>\n",
       "      <th>PaperId</th>\n",
       "      <th>CollaboratedAuthorId</th>\n",
       "    </tr>\n",
       "  </thead>\n",
       "  <tbody>\n",
       "    <tr>\n",
       "      <th>0</th>\n",
       "      <td>15251</td>\n",
       "      <td>289883683</td>\n",
       "      <td>289883683</td>\n",
       "      <td>[2218595941]</td>\n",
       "    </tr>\n",
       "    <tr>\n",
       "      <th>1</th>\n",
       "      <td>346729876</td>\n",
       "      <td>289883683</td>\n",
       "      <td>289883683</td>\n",
       "      <td>[2218595941]</td>\n",
       "    </tr>\n",
       "    <tr>\n",
       "      <th>2</th>\n",
       "      <td>2218595941</td>\n",
       "      <td>289883683</td>\n",
       "      <td>289883683</td>\n",
       "      <td>[2218595941]</td>\n",
       "    </tr>\n",
       "    <tr>\n",
       "      <th>3</th>\n",
       "      <td>15251</td>\n",
       "      <td>1571665470</td>\n",
       "      <td>1571665470</td>\n",
       "      <td>[2218595941]</td>\n",
       "    </tr>\n",
       "    <tr>\n",
       "      <th>4</th>\n",
       "      <td>346729876</td>\n",
       "      <td>1571665470</td>\n",
       "      <td>1571665470</td>\n",
       "      <td>[2218595941]</td>\n",
       "    </tr>\n",
       "  </tbody>\n",
       "</table>\n",
       "</div>"
      ],
      "text/plain": [
       "     AuthorId PublishedPaperId     PaperId CollaboratedAuthorId\n",
       "0       15251        289883683   289883683         [2218595941]\n",
       "1   346729876        289883683   289883683         [2218595941]\n",
       "2  2218595941        289883683   289883683         [2218595941]\n",
       "3       15251       1571665470  1571665470         [2218595941]\n",
       "4   346729876       1571665470  1571665470         [2218595941]"
      ]
     },
     "execution_count": 37,
     "metadata": {},
     "output_type": "execute_result"
    }
   ],
   "source": [
    "%%time\n",
    "df_author_related_paperinfo_merged = pd.merge(df_author_related_paperinfo_exploded, df_candidate_paperinfo_grouped,  \n",
    "          how='inner', left_on='PublishedPaperId', right_on='PaperId')\n",
    "df_author_related_paperinfo_merged.head()"
   ]
  },
  {
   "cell_type": "markdown",
   "id": "185862f2-54ec-4453-9863-1060574aabd0",
   "metadata": {},
   "source": [
    "### 3. Create `{authorId: [collaboraterIds]}` with groupby authorIds"
   ]
  },
  {
   "cell_type": "code",
   "execution_count": 38,
   "id": "95a96f44-970b-4fec-b5c6-aa1148df7c81",
   "metadata": {},
   "outputs": [
    {
     "name": "stdout",
     "output_type": "stream",
     "text": [
      "CPU times: user 27.2 s, sys: 19.3 s, total: 46.5 s\n",
      "Wall time: 58 s\n"
     ]
    }
   ],
   "source": [
    "%%time\n",
    "# change columns of `CollaboratedAuthorId` for drop_duplicates\n",
    "df_author_related_paperinfo_merged['str_CollaboratedAuthorId'] = df_author_related_paperinfo_merged['CollaboratedAuthorId'].apply(str)\n",
    "\n",
    "# drop same collaboration row\n",
    "df_author_related_paperinfo_merged2 = df_author_related_paperinfo_merged.drop_duplicates(subset=['AuthorId', 'str_CollaboratedAuthorId'])"
   ]
  },
  {
   "cell_type": "code",
   "execution_count": 39,
   "id": "9ae3a7d3-7ae8-4c9f-b9d3-69309d79463d",
   "metadata": {},
   "outputs": [
    {
     "name": "stdout",
     "output_type": "stream",
     "text": [
      "CPU times: user 1min 26s, sys: 7.43 s, total: 1min 33s\n",
      "Wall time: 1min 37s\n"
     ]
    }
   ],
   "source": [
    "%%time\n",
    "df_author_collaborater = df_author_related_paperinfo_merged2[['AuthorId', 'CollaboratedAuthorId']].groupby('AuthorId').agg({'CollaboratedAuthorId': 'sum'}).reset_index()"
   ]
  },
  {
   "cell_type": "code",
   "execution_count": 40,
   "id": "f3f524b2-eeb8-4bd7-bc16-132ef04125b7",
   "metadata": {},
   "outputs": [
    {
     "data": {
      "text/html": [
       "<div>\n",
       "<style scoped>\n",
       "    .dataframe tbody tr th:only-of-type {\n",
       "        vertical-align: middle;\n",
       "    }\n",
       "\n",
       "    .dataframe tbody tr th {\n",
       "        vertical-align: top;\n",
       "    }\n",
       "\n",
       "    .dataframe thead th {\n",
       "        text-align: right;\n",
       "    }\n",
       "</style>\n",
       "<table border=\"1\" class=\"dataframe\">\n",
       "  <thead>\n",
       "    <tr style=\"text-align: right;\">\n",
       "      <th></th>\n",
       "      <th>AuthorId</th>\n",
       "      <th>CollaboratedAuthorId</th>\n",
       "    </tr>\n",
       "  </thead>\n",
       "  <tbody>\n",
       "    <tr>\n",
       "      <th>0</th>\n",
       "      <td>15251</td>\n",
       "      <td>[2218595941, 3123245046, 1061427020, 221859594...</td>\n",
       "    </tr>\n",
       "    <tr>\n",
       "      <th>1</th>\n",
       "      <td>18161</td>\n",
       "      <td>[228256569, 1995611453, 2776889896, 251390627,...</td>\n",
       "    </tr>\n",
       "    <tr>\n",
       "      <th>2</th>\n",
       "      <td>27238</td>\n",
       "      <td>[27238, 2157213807, 27238, 2166733471, 27238, ...</td>\n",
       "    </tr>\n",
       "    <tr>\n",
       "      <th>3</th>\n",
       "      <td>30645</td>\n",
       "      <td>[30645, 2779806783, 30645, 30645, 2333061619, ...</td>\n",
       "    </tr>\n",
       "    <tr>\n",
       "      <th>4</th>\n",
       "      <td>41399</td>\n",
       "      <td>[2119885576, 2102033253, 2102033253, 211386442...</td>\n",
       "    </tr>\n",
       "  </tbody>\n",
       "</table>\n",
       "</div>"
      ],
      "text/plain": [
       "   AuthorId                               CollaboratedAuthorId\n",
       "0     15251  [2218595941, 3123245046, 1061427020, 221859594...\n",
       "1     18161  [228256569, 1995611453, 2776889896, 251390627,...\n",
       "2     27238  [27238, 2157213807, 27238, 2166733471, 27238, ...\n",
       "3     30645  [30645, 2779806783, 30645, 30645, 2333061619, ...\n",
       "4     41399  [2119885576, 2102033253, 2102033253, 211386442..."
      ]
     },
     "execution_count": 40,
     "metadata": {},
     "output_type": "execute_result"
    }
   ],
   "source": [
    "df_author_collaborater.head()"
   ]
  },
  {
   "cell_type": "markdown",
   "id": "0f8443bb-9291-432f-b616-5ae72a2800a2",
   "metadata": {},
   "source": [
    "# Save2"
   ]
  },
  {
   "cell_type": "code",
   "execution_count": 41,
   "id": "4f543938-be61-44d5-9813-56b08239c44d",
   "metadata": {},
   "outputs": [
    {
     "name": "stdout",
     "output_type": "stream",
     "text": [
      "CPU times: user 19.9 s, sys: 789 ms, total: 20.7 s\n",
      "Wall time: 21 s\n"
     ]
    },
    {
     "data": {
      "text/plain": [
       "'\\nif you start from here, run the following commands\\n'"
      ]
     },
     "execution_count": 41,
     "metadata": {},
     "output_type": "execute_result"
    }
   ],
   "source": [
    "%%time\n",
    "# df_author_collaborater.to_csv(f'{PATH_SAVE}/AuthorId_CollaborartedAuthorId.csv', index=False)\n",
    "\"\"\"\n",
    "if you start from here, run the following commands\n",
    "\"\"\"\n",
    "# df_author_collaborater = pd.read_csv(f'{PATH_SAVE}/AuthorId_CollaborartedAuthorId.csv', converters={'CollaboratedAuthorId': literal_eval})"
   ]
  },
  {
   "cell_type": "markdown",
   "id": "1c886beb-15b2-4d10-93e8-040354bcfefe",
   "metadata": {},
   "source": [
    "### For the result of matching of acknoweldged name with MAG, create a dict of `{acknowName: [authorId(candidates)]}`"
   ]
  },
  {
   "cell_type": "code",
   "execution_count": 42,
   "id": "c0bd10ce-2c86-4be6-90d8-a8718fc43cde",
   "metadata": {},
   "outputs": [],
   "source": [
    "# from Authors.csv\n",
    "vaex_acknow_possibleIds = vaex_mag_authors[vaex_mag_authors['DisplayName'].isin(row_acknows)][['AuthorId', 'DisplayName']]\n",
    "vaex_acknow_possibleIds.head()\n",
    "\n",
    "# from paperAuthorAffil\n",
    "vaex_acknow_possibleIds2 = vaex_mag_pauthorAffil[(vaex_mag_pauthorAffil['OriginalAuthor'].isin(row_acknows))][['AuthorId', 'OriginalAuthor']]"
   ]
  },
  {
   "cell_type": "code",
   "execution_count": 43,
   "id": "0c4d24e7-2667-4f14-bb44-42d45f2ba975",
   "metadata": {},
   "outputs": [
    {
     "name": "stdout",
     "output_type": "stream",
     "text": [
      "CPU times: user 1min 54s, sys: 40.2 s, total: 2min 35s\n",
      "Wall time: 1min 49s\n"
     ]
    },
    {
     "data": {
      "text/html": [
       "<div>\n",
       "<style scoped>\n",
       "    .dataframe tbody tr th:only-of-type {\n",
       "        vertical-align: middle;\n",
       "    }\n",
       "\n",
       "    .dataframe tbody tr th {\n",
       "        vertical-align: top;\n",
       "    }\n",
       "\n",
       "    .dataframe thead th {\n",
       "        text-align: right;\n",
       "    }\n",
       "</style>\n",
       "<table border=\"1\" class=\"dataframe\">\n",
       "  <thead>\n",
       "    <tr style=\"text-align: right;\">\n",
       "      <th></th>\n",
       "      <th>DisplayName</th>\n",
       "      <th>PossibleAcknowId</th>\n",
       "    </tr>\n",
       "  </thead>\n",
       "  <tbody>\n",
       "    <tr>\n",
       "      <th>0</th>\n",
       "      <td>A Desmedt</td>\n",
       "      <td>[2498740362, 2596806000, 2604083863, 267282799...</td>\n",
       "    </tr>\n",
       "    <tr>\n",
       "      <th>1</th>\n",
       "      <td>A Fernando</td>\n",
       "      <td>[2205519779, 2233627207, 2308779187, 242638003...</td>\n",
       "    </tr>\n",
       "    <tr>\n",
       "      <th>2</th>\n",
       "      <td>A Giaccia</td>\n",
       "      <td>[3183792638, 23160563, 23160563, 23160563, 318...</td>\n",
       "    </tr>\n",
       "    <tr>\n",
       "      <th>3</th>\n",
       "      <td>A Joyner</td>\n",
       "      <td>[2567358014, 2177468446, 2177468446, 256735801...</td>\n",
       "    </tr>\n",
       "    <tr>\n",
       "      <th>4</th>\n",
       "      <td>A K Gupta</td>\n",
       "      <td>[2108172652, 2126845727, 2132210745, 219326991...</td>\n",
       "    </tr>\n",
       "  </tbody>\n",
       "</table>\n",
       "</div>"
      ],
      "text/plain": [
       "  DisplayName                                   PossibleAcknowId\n",
       "0   A Desmedt  [2498740362, 2596806000, 2604083863, 267282799...\n",
       "1  A Fernando  [2205519779, 2233627207, 2308779187, 242638003...\n",
       "2   A Giaccia  [3183792638, 23160563, 23160563, 23160563, 318...\n",
       "3    A Joyner  [2567358014, 2177468446, 2177468446, 256735801...\n",
       "4   A K Gupta  [2108172652, 2126845727, 2132210745, 219326991..."
      ]
     },
     "execution_count": 43,
     "metadata": {},
     "output_type": "execute_result"
    }
   ],
   "source": [
    "%%time\n",
    "# group authorId by paperId\n",
    "df_acknow_possibleIds = vaex_acknow_possibleIds.to_pandas_df()\n",
    "df_acknow_possibleIds2 = vaex_acknow_possibleIds2.to_pandas_df().rename({'OriginalAuthor': 'DisplayName'}, axis=1)\n",
    "\n",
    "# merge them\n",
    "df_acknow_possibleIds = pd.concat([df_acknow_possibleIds, df_acknow_possibleIds2])\n",
    "\n",
    "df_acknow_possibleIds_grouped = df_acknow_possibleIds.groupby('DisplayName')['AuthorId'].apply(list).reset_index()\n",
    "\n",
    "# rename\n",
    "df_acknow_possibleIds_grouped = df_acknow_possibleIds_grouped.rename({'AuthorId': 'PossibleAcknowId'}, axis=1)\n",
    "df_acknow_possibleIds_grouped.head()"
   ]
  },
  {
   "cell_type": "markdown",
   "id": "59b477a2-d3bc-4596-90da-95d0d35aff9b",
   "metadata": {},
   "source": [
    "### In `replaced_dfs_all`, merge the collaboration information of author and the possible authorId information of unknown, and determine the authorId of unknown from the common authorId."
   ]
  },
  {
   "cell_type": "code",
   "execution_count": 44,
   "id": "28d70368-97f7-4101-9595-a5d5a42b4e31",
   "metadata": {},
   "outputs": [
    {
     "data": {
      "text/html": [
       "<div>\n",
       "<style scoped>\n",
       "    .dataframe tbody tr th:only-of-type {\n",
       "        vertical-align: middle;\n",
       "    }\n",
       "\n",
       "    .dataframe tbody tr th {\n",
       "        vertical-align: top;\n",
       "    }\n",
       "\n",
       "    .dataframe thead th {\n",
       "        text-align: right;\n",
       "    }\n",
       "</style>\n",
       "<table border=\"1\" class=\"dataframe\">\n",
       "  <thead>\n",
       "    <tr style=\"text-align: right;\">\n",
       "      <th></th>\n",
       "      <th>pid</th>\n",
       "      <th>acknow</th>\n",
       "      <th>AuthorId</th>\n",
       "    </tr>\n",
       "  </thead>\n",
       "  <tbody>\n",
       "    <tr>\n",
       "      <th>0</th>\n",
       "      <td>2145218186</td>\n",
       "      <td>Aviv Regev</td>\n",
       "      <td>1219376531</td>\n",
       "    </tr>\n",
       "    <tr>\n",
       "      <th>0</th>\n",
       "      <td>2145218186</td>\n",
       "      <td>Aviv Regev</td>\n",
       "      <td>2079978182</td>\n",
       "    </tr>\n",
       "    <tr>\n",
       "      <th>0</th>\n",
       "      <td>2145218186</td>\n",
       "      <td>Aviv Regev</td>\n",
       "      <td>2125555973</td>\n",
       "    </tr>\n",
       "    <tr>\n",
       "      <th>1</th>\n",
       "      <td>2145218186</td>\n",
       "      <td>Benjamin Gordon</td>\n",
       "      <td>1219376531</td>\n",
       "    </tr>\n",
       "    <tr>\n",
       "      <th>1</th>\n",
       "      <td>2145218186</td>\n",
       "      <td>Benjamin Gordon</td>\n",
       "      <td>2079978182</td>\n",
       "    </tr>\n",
       "  </tbody>\n",
       "</table>\n",
       "</div>"
      ],
      "text/plain": [
       "          pid           acknow    AuthorId\n",
       "0  2145218186       Aviv Regev  1219376531\n",
       "0  2145218186       Aviv Regev  2079978182\n",
       "0  2145218186       Aviv Regev  2125555973\n",
       "1  2145218186  Benjamin Gordon  1219376531\n",
       "1  2145218186  Benjamin Gordon  2079978182"
      ]
     },
     "execution_count": 44,
     "metadata": {},
     "output_type": "execute_result"
    }
   ],
   "source": [
    "replaced_dfs_all.head()"
   ]
  },
  {
   "cell_type": "markdown",
   "id": "7b85d617-536b-4fe6-9564-437688a89768",
   "metadata": {},
   "source": [
    "### merge with `author_collaboration`"
   ]
  },
  {
   "cell_type": "code",
   "execution_count": 45,
   "id": "bd7b4bfb-9bc1-44ca-bc3a-7cb18cd65248",
   "metadata": {},
   "outputs": [
    {
     "name": "stdout",
     "output_type": "stream",
     "text": [
      "CPU times: user 1.29 s, sys: 623 ms, total: 1.92 s\n",
      "Wall time: 2.2 s\n"
     ]
    },
    {
     "data": {
      "text/html": [
       "<div>\n",
       "<style scoped>\n",
       "    .dataframe tbody tr th:only-of-type {\n",
       "        vertical-align: middle;\n",
       "    }\n",
       "\n",
       "    .dataframe tbody tr th {\n",
       "        vertical-align: top;\n",
       "    }\n",
       "\n",
       "    .dataframe thead th {\n",
       "        text-align: right;\n",
       "    }\n",
       "</style>\n",
       "<table border=\"1\" class=\"dataframe\">\n",
       "  <thead>\n",
       "    <tr style=\"text-align: right;\">\n",
       "      <th></th>\n",
       "      <th>pid</th>\n",
       "      <th>acknow</th>\n",
       "      <th>AuthorId</th>\n",
       "      <th>CollaboratedAuthorId</th>\n",
       "    </tr>\n",
       "  </thead>\n",
       "  <tbody>\n",
       "    <tr>\n",
       "      <th>0</th>\n",
       "      <td>2145218186</td>\n",
       "      <td>Aviv Regev</td>\n",
       "      <td>1219376531</td>\n",
       "      <td>[3384926, 1219376531, 3384926, 1219376531, 208...</td>\n",
       "    </tr>\n",
       "    <tr>\n",
       "      <th>1</th>\n",
       "      <td>2145218186</td>\n",
       "      <td>Benjamin Gordon</td>\n",
       "      <td>1219376531</td>\n",
       "      <td>[3384926, 1219376531, 3384926, 1219376531, 208...</td>\n",
       "    </tr>\n",
       "    <tr>\n",
       "      <th>2</th>\n",
       "      <td>2145218186</td>\n",
       "      <td>Dalit May</td>\n",
       "      <td>1219376531</td>\n",
       "      <td>[3384926, 1219376531, 3384926, 1219376531, 208...</td>\n",
       "    </tr>\n",
       "    <tr>\n",
       "      <th>3</th>\n",
       "      <td>2145218186</td>\n",
       "      <td>Ernest Fraenkel</td>\n",
       "      <td>1219376531</td>\n",
       "      <td>[3384926, 1219376531, 3384926, 1219376531, 208...</td>\n",
       "    </tr>\n",
       "    <tr>\n",
       "      <th>4</th>\n",
       "      <td>2145218186</td>\n",
       "      <td>Lena Nekludova</td>\n",
       "      <td>1219376531</td>\n",
       "      <td>[3384926, 1219376531, 3384926, 1219376531, 208...</td>\n",
       "    </tr>\n",
       "  </tbody>\n",
       "</table>\n",
       "</div>"
      ],
      "text/plain": [
       "          pid           acknow    AuthorId  \\\n",
       "0  2145218186       Aviv Regev  1219376531   \n",
       "1  2145218186  Benjamin Gordon  1219376531   \n",
       "2  2145218186        Dalit May  1219376531   \n",
       "3  2145218186  Ernest Fraenkel  1219376531   \n",
       "4  2145218186   Lena Nekludova  1219376531   \n",
       "\n",
       "                                CollaboratedAuthorId  \n",
       "0  [3384926, 1219376531, 3384926, 1219376531, 208...  \n",
       "1  [3384926, 1219376531, 3384926, 1219376531, 208...  \n",
       "2  [3384926, 1219376531, 3384926, 1219376531, 208...  \n",
       "3  [3384926, 1219376531, 3384926, 1219376531, 208...  \n",
       "4  [3384926, 1219376531, 3384926, 1219376531, 208...  "
      ]
     },
     "execution_count": 45,
     "metadata": {},
     "output_type": "execute_result"
    }
   ],
   "source": [
    "%%time\n",
    "replaced_dfs_all_mergedCollaboration = pd.merge(replaced_dfs_all, df_author_collaborater,  \n",
    "          how='inner', on='AuthorId')\n",
    "replaced_dfs_all_mergedCollaboration.head()"
   ]
  },
  {
   "cell_type": "markdown",
   "id": "adc6ab9e-edf9-4106-b78f-338ceecea233",
   "metadata": {},
   "source": [
    "### merge with `acknow_possibleAcknowId`"
   ]
  },
  {
   "cell_type": "code",
   "execution_count": 46,
   "id": "d3e74dc0-9293-4401-80d3-bd8bccba3d7e",
   "metadata": {},
   "outputs": [
    {
     "name": "stdout",
     "output_type": "stream",
     "text": [
      "CPU times: user 1.42 s, sys: 392 ms, total: 1.81 s\n",
      "Wall time: 1.99 s\n"
     ]
    },
    {
     "data": {
      "text/html": [
       "<div>\n",
       "<style scoped>\n",
       "    .dataframe tbody tr th:only-of-type {\n",
       "        vertical-align: middle;\n",
       "    }\n",
       "\n",
       "    .dataframe tbody tr th {\n",
       "        vertical-align: top;\n",
       "    }\n",
       "\n",
       "    .dataframe thead th {\n",
       "        text-align: right;\n",
       "    }\n",
       "</style>\n",
       "<table border=\"1\" class=\"dataframe\">\n",
       "  <thead>\n",
       "    <tr style=\"text-align: right;\">\n",
       "      <th></th>\n",
       "      <th>pid</th>\n",
       "      <th>acknow</th>\n",
       "      <th>AuthorId</th>\n",
       "      <th>CollaboratedAuthorId</th>\n",
       "      <th>DisplayName</th>\n",
       "      <th>PossibleAcknowId</th>\n",
       "    </tr>\n",
       "  </thead>\n",
       "  <tbody>\n",
       "    <tr>\n",
       "      <th>0</th>\n",
       "      <td>2145218186</td>\n",
       "      <td>Aviv Regev</td>\n",
       "      <td>1219376531</td>\n",
       "      <td>[3384926, 1219376531, 3384926, 1219376531, 208...</td>\n",
       "      <td>Aviv Regev</td>\n",
       "      <td>[1893730172, 2808908451, 2925260654, 294674651...</td>\n",
       "    </tr>\n",
       "    <tr>\n",
       "      <th>1</th>\n",
       "      <td>2105003357</td>\n",
       "      <td>Aviv Regev</td>\n",
       "      <td>1219376531</td>\n",
       "      <td>[3384926, 1219376531, 3384926, 1219376531, 208...</td>\n",
       "      <td>Aviv Regev</td>\n",
       "      <td>[1893730172, 2808908451, 2925260654, 294674651...</td>\n",
       "    </tr>\n",
       "    <tr>\n",
       "      <th>2</th>\n",
       "      <td>2145218186</td>\n",
       "      <td>Aviv Regev</td>\n",
       "      <td>2079978182</td>\n",
       "      <td>[3577622, 1893730172, 1893730172, 1979319809, ...</td>\n",
       "      <td>Aviv Regev</td>\n",
       "      <td>[1893730172, 2808908451, 2925260654, 294674651...</td>\n",
       "    </tr>\n",
       "    <tr>\n",
       "      <th>3</th>\n",
       "      <td>2105003357</td>\n",
       "      <td>Aviv Regev</td>\n",
       "      <td>2079978182</td>\n",
       "      <td>[3577622, 1893730172, 1893730172, 1979319809, ...</td>\n",
       "      <td>Aviv Regev</td>\n",
       "      <td>[1893730172, 2808908451, 2925260654, 294674651...</td>\n",
       "    </tr>\n",
       "    <tr>\n",
       "      <th>4</th>\n",
       "      <td>2145218186</td>\n",
       "      <td>Aviv Regev</td>\n",
       "      <td>2125555973</td>\n",
       "      <td>[7269306, 187710123, 2099193067, 2125555973, 2...</td>\n",
       "      <td>Aviv Regev</td>\n",
       "      <td>[1893730172, 2808908451, 2925260654, 294674651...</td>\n",
       "    </tr>\n",
       "  </tbody>\n",
       "</table>\n",
       "</div>"
      ],
      "text/plain": [
       "          pid      acknow    AuthorId  \\\n",
       "0  2145218186  Aviv Regev  1219376531   \n",
       "1  2105003357  Aviv Regev  1219376531   \n",
       "2  2145218186  Aviv Regev  2079978182   \n",
       "3  2105003357  Aviv Regev  2079978182   \n",
       "4  2145218186  Aviv Regev  2125555973   \n",
       "\n",
       "                                CollaboratedAuthorId DisplayName  \\\n",
       "0  [3384926, 1219376531, 3384926, 1219376531, 208...  Aviv Regev   \n",
       "1  [3384926, 1219376531, 3384926, 1219376531, 208...  Aviv Regev   \n",
       "2  [3577622, 1893730172, 1893730172, 1979319809, ...  Aviv Regev   \n",
       "3  [3577622, 1893730172, 1893730172, 1979319809, ...  Aviv Regev   \n",
       "4  [7269306, 187710123, 2099193067, 2125555973, 2...  Aviv Regev   \n",
       "\n",
       "                                    PossibleAcknowId  \n",
       "0  [1893730172, 2808908451, 2925260654, 294674651...  \n",
       "1  [1893730172, 2808908451, 2925260654, 294674651...  \n",
       "2  [1893730172, 2808908451, 2925260654, 294674651...  \n",
       "3  [1893730172, 2808908451, 2925260654, 294674651...  \n",
       "4  [1893730172, 2808908451, 2925260654, 294674651...  "
      ]
     },
     "execution_count": 46,
     "metadata": {},
     "output_type": "execute_result"
    }
   ],
   "source": [
    "%%time\n",
    "replaced_dfs_all_mergedCollaboration_mergedAcknowId = pd.merge(replaced_dfs_all_mergedCollaboration, df_acknow_possibleIds_grouped,  \n",
    "          how='inner', left_on='acknow', right_on='DisplayName')\n",
    "replaced_dfs_all_mergedCollaboration_mergedAcknowId.head() # length = 4,802,501"
   ]
  },
  {
   "cell_type": "markdown",
   "id": "8f1f7ec3-cb08-4145-aaed-0cd55378c4ba",
   "metadata": {},
   "source": [
    "# Save3"
   ]
  },
  {
   "cell_type": "code",
   "execution_count": 47,
   "id": "2652767f-4d6b-4c3a-ba33-b95873ab2448",
   "metadata": {},
   "outputs": [
    {
     "name": "stdout",
     "output_type": "stream",
     "text": [
      "CPU times: user 15min 34s, sys: 35.2 s, total: 16min 9s\n",
      "Wall time: 16min 31s\n"
     ]
    },
    {
     "data": {
      "text/plain": [
       "\"\\nif you start from here, run the following commands.\\nRECOMMMENDATION: start from 'SAVE2' due to the loading speed\\n\""
      ]
     },
     "execution_count": 47,
     "metadata": {},
     "output_type": "execute_result"
    }
   ],
   "source": [
    "%%time\n",
    "# replaced_dfs_all_mergedCollaboration_mergedAcknowId[['pid', 'acknow', 'AuthorId', 'CollaboratedAuthorId', 'PossibleAcknowId']].to_csv(f'{PATH_SAVE}/d1Collaboration_fileter_allinfo.csv', index=False)\n",
    "\"\"\"\n",
    "if you start from here, run the following commands.\n",
    "RECOMMMENDATION: start from 'SAVE2' due to the loading speed\n",
    "\"\"\"\n",
    "# replaced_dfs_all_mergedCollaboration_mergedAcknowId = pd.read_csv(f'{PATH_SAVE}/d1Collaboration_fileter_allinfo.csv', converters={'CollaboratedAuthorId': literal_eval, 'PossibleAcknowId': literal_eval})"
   ]
  },
  {
   "cell_type": "markdown",
   "id": "00f923c4-0066-4259-abfd-725c6788fafc",
   "metadata": {},
   "source": [
    "# Identify acknowledged scholar ID by collaboration relationship"
   ]
  },
  {
   "cell_type": "code",
   "execution_count": 48,
   "id": "aa85418e-1e0a-4924-88b7-dfe428d7b8e1",
   "metadata": {
    "tags": []
   },
   "outputs": [
    {
     "name": "stdout",
     "output_type": "stream",
     "text": [
      "CPU times: user 2min 59s, sys: 26.9 s, total: 3min 26s\n",
      "Wall time: 3min 45s\n"
     ]
    }
   ],
   "source": [
    "%%time\n",
    "# Create a column that indicate the existence of collaboration(see the intersected author ID between PossibleAcknowId and CollaboratedAuthorId)\n",
    "replaced_dfs_all_mergedCollaboration_mergedAcknowId['IntersectedAcknowIds'] = replaced_dfs_all_mergedCollaboration_mergedAcknowId.apply(lambda row : set(row['PossibleAcknowId']) & set(row['CollaboratedAuthorId']), axis=1)"
   ]
  },
  {
   "cell_type": "code",
   "execution_count": 49,
   "id": "af8133e7-b02c-4fc1-82ff-e1bfbcfa9b79",
   "metadata": {
    "tags": []
   },
   "outputs": [
    {
     "data": {
      "text/html": [
       "<div>\n",
       "<style scoped>\n",
       "    .dataframe tbody tr th:only-of-type {\n",
       "        vertical-align: middle;\n",
       "    }\n",
       "\n",
       "    .dataframe tbody tr th {\n",
       "        vertical-align: top;\n",
       "    }\n",
       "\n",
       "    .dataframe thead th {\n",
       "        text-align: right;\n",
       "    }\n",
       "</style>\n",
       "<table border=\"1\" class=\"dataframe\">\n",
       "  <thead>\n",
       "    <tr style=\"text-align: right;\">\n",
       "      <th></th>\n",
       "      <th>pid</th>\n",
       "      <th>acknow</th>\n",
       "      <th>AuthorId</th>\n",
       "      <th>CollaboratedAuthorId</th>\n",
       "      <th>DisplayName</th>\n",
       "      <th>PossibleAcknowId</th>\n",
       "      <th>IntersectedAcknowIds</th>\n",
       "    </tr>\n",
       "  </thead>\n",
       "  <tbody>\n",
       "    <tr>\n",
       "      <th>0</th>\n",
       "      <td>2145218186</td>\n",
       "      <td>Aviv Regev</td>\n",
       "      <td>1219376531</td>\n",
       "      <td>[3384926, 1219376531, 3384926, 1219376531, 208...</td>\n",
       "      <td>Aviv Regev</td>\n",
       "      <td>[1893730172, 2808908451, 2925260654, 294674651...</td>\n",
       "      <td>{1893730172}</td>\n",
       "    </tr>\n",
       "    <tr>\n",
       "      <th>1</th>\n",
       "      <td>2105003357</td>\n",
       "      <td>Aviv Regev</td>\n",
       "      <td>1219376531</td>\n",
       "      <td>[3384926, 1219376531, 3384926, 1219376531, 208...</td>\n",
       "      <td>Aviv Regev</td>\n",
       "      <td>[1893730172, 2808908451, 2925260654, 294674651...</td>\n",
       "      <td>{1893730172}</td>\n",
       "    </tr>\n",
       "    <tr>\n",
       "      <th>2</th>\n",
       "      <td>2145218186</td>\n",
       "      <td>Aviv Regev</td>\n",
       "      <td>2079978182</td>\n",
       "      <td>[3577622, 1893730172, 1893730172, 1979319809, ...</td>\n",
       "      <td>Aviv Regev</td>\n",
       "      <td>[1893730172, 2808908451, 2925260654, 294674651...</td>\n",
       "      <td>{3147624449, 1893730172, 3207811733}</td>\n",
       "    </tr>\n",
       "    <tr>\n",
       "      <th>3</th>\n",
       "      <td>2105003357</td>\n",
       "      <td>Aviv Regev</td>\n",
       "      <td>2079978182</td>\n",
       "      <td>[3577622, 1893730172, 1893730172, 1979319809, ...</td>\n",
       "      <td>Aviv Regev</td>\n",
       "      <td>[1893730172, 2808908451, 2925260654, 294674651...</td>\n",
       "      <td>{3147624449, 1893730172, 3207811733}</td>\n",
       "    </tr>\n",
       "    <tr>\n",
       "      <th>4</th>\n",
       "      <td>2145218186</td>\n",
       "      <td>Aviv Regev</td>\n",
       "      <td>2125555973</td>\n",
       "      <td>[7269306, 187710123, 2099193067, 2125555973, 2...</td>\n",
       "      <td>Aviv Regev</td>\n",
       "      <td>[1893730172, 2808908451, 2925260654, 294674651...</td>\n",
       "      <td>{1893730172}</td>\n",
       "    </tr>\n",
       "  </tbody>\n",
       "</table>\n",
       "</div>"
      ],
      "text/plain": [
       "          pid      acknow    AuthorId  \\\n",
       "0  2145218186  Aviv Regev  1219376531   \n",
       "1  2105003357  Aviv Regev  1219376531   \n",
       "2  2145218186  Aviv Regev  2079978182   \n",
       "3  2105003357  Aviv Regev  2079978182   \n",
       "4  2145218186  Aviv Regev  2125555973   \n",
       "\n",
       "                                CollaboratedAuthorId DisplayName  \\\n",
       "0  [3384926, 1219376531, 3384926, 1219376531, 208...  Aviv Regev   \n",
       "1  [3384926, 1219376531, 3384926, 1219376531, 208...  Aviv Regev   \n",
       "2  [3577622, 1893730172, 1893730172, 1979319809, ...  Aviv Regev   \n",
       "3  [3577622, 1893730172, 1893730172, 1979319809, ...  Aviv Regev   \n",
       "4  [7269306, 187710123, 2099193067, 2125555973, 2...  Aviv Regev   \n",
       "\n",
       "                                    PossibleAcknowId  \\\n",
       "0  [1893730172, 2808908451, 2925260654, 294674651...   \n",
       "1  [1893730172, 2808908451, 2925260654, 294674651...   \n",
       "2  [1893730172, 2808908451, 2925260654, 294674651...   \n",
       "3  [1893730172, 2808908451, 2925260654, 294674651...   \n",
       "4  [1893730172, 2808908451, 2925260654, 294674651...   \n",
       "\n",
       "                   IntersectedAcknowIds  \n",
       "0                          {1893730172}  \n",
       "1                          {1893730172}  \n",
       "2  {3147624449, 1893730172, 3207811733}  \n",
       "3  {3147624449, 1893730172, 3207811733}  \n",
       "4                          {1893730172}  "
      ]
     },
     "execution_count": 49,
     "metadata": {},
     "output_type": "execute_result"
    }
   ],
   "source": [
    "replaced_dfs_all_mergedCollaboration_mergedAcknowId.head()"
   ]
  },
  {
   "cell_type": "markdown",
   "id": "564ae222-f351-44a7-a7fc-3ac62b0b5622",
   "metadata": {},
   "source": [
    "### Acknowledged individuals whose ID are intersected"
   ]
  },
  {
   "cell_type": "code",
   "execution_count": 50,
   "id": "8e91aa0b-2414-4c03-8b0d-e0b43048fb08",
   "metadata": {
    "tags": []
   },
   "outputs": [
    {
     "data": {
      "text/html": [
       "<div>\n",
       "<style scoped>\n",
       "    .dataframe tbody tr th:only-of-type {\n",
       "        vertical-align: middle;\n",
       "    }\n",
       "\n",
       "    .dataframe tbody tr th {\n",
       "        vertical-align: top;\n",
       "    }\n",
       "\n",
       "    .dataframe thead th {\n",
       "        text-align: right;\n",
       "    }\n",
       "</style>\n",
       "<table border=\"1\" class=\"dataframe\">\n",
       "  <thead>\n",
       "    <tr style=\"text-align: right;\">\n",
       "      <th></th>\n",
       "      <th>pid</th>\n",
       "      <th>acknow</th>\n",
       "      <th>IntersectedAcknowIds</th>\n",
       "    </tr>\n",
       "  </thead>\n",
       "  <tbody>\n",
       "    <tr>\n",
       "      <th>0</th>\n",
       "      <td>2145218186</td>\n",
       "      <td>Aviv Regev</td>\n",
       "      <td>{1893730172}</td>\n",
       "    </tr>\n",
       "    <tr>\n",
       "      <th>1</th>\n",
       "      <td>2105003357</td>\n",
       "      <td>Aviv Regev</td>\n",
       "      <td>{1893730172}</td>\n",
       "    </tr>\n",
       "    <tr>\n",
       "      <th>2</th>\n",
       "      <td>2145218186</td>\n",
       "      <td>Aviv Regev</td>\n",
       "      <td>{3147624449, 1893730172, 3207811733}</td>\n",
       "    </tr>\n",
       "    <tr>\n",
       "      <th>3</th>\n",
       "      <td>2105003357</td>\n",
       "      <td>Aviv Regev</td>\n",
       "      <td>{3147624449, 1893730172, 3207811733}</td>\n",
       "    </tr>\n",
       "    <tr>\n",
       "      <th>4</th>\n",
       "      <td>2145218186</td>\n",
       "      <td>Aviv Regev</td>\n",
       "      <td>{1893730172}</td>\n",
       "    </tr>\n",
       "  </tbody>\n",
       "</table>\n",
       "</div>"
      ],
      "text/plain": [
       "          pid      acknow                  IntersectedAcknowIds\n",
       "0  2145218186  Aviv Regev                          {1893730172}\n",
       "1  2105003357  Aviv Regev                          {1893730172}\n",
       "2  2145218186  Aviv Regev  {3147624449, 1893730172, 3207811733}\n",
       "3  2105003357  Aviv Regev  {3147624449, 1893730172, 3207811733}\n",
       "4  2145218186  Aviv Regev                          {1893730172}"
      ]
     },
     "execution_count": 50,
     "metadata": {},
     "output_type": "execute_result"
    }
   ],
   "source": [
    "df_determinedAcknow = replaced_dfs_all_mergedCollaboration_mergedAcknowId[replaced_dfs_all_mergedCollaboration_mergedAcknowId['IntersectedAcknowIds'] != set()][['pid', 'acknow', 'IntersectedAcknowIds']]\n",
    "df_determinedAcknow.head()"
   ]
  },
  {
   "cell_type": "markdown",
   "id": "9e8acd55-8618-4054-892b-8b2ad6b4ca3f",
   "metadata": {},
   "source": [
    "### Acknowledged individuals whose ID are uniquely determined"
   ]
  },
  {
   "cell_type": "code",
   "execution_count": 52,
   "id": "9e9e2bc9-c2fa-44c6-8fc0-8c9f4fc3b993",
   "metadata": {
    "tags": []
   },
   "outputs": [
    {
     "data": {
      "text/html": [
       "<div>\n",
       "<style scoped>\n",
       "    .dataframe tbody tr th:only-of-type {\n",
       "        vertical-align: middle;\n",
       "    }\n",
       "\n",
       "    .dataframe tbody tr th {\n",
       "        vertical-align: top;\n",
       "    }\n",
       "\n",
       "    .dataframe thead th {\n",
       "        text-align: right;\n",
       "    }\n",
       "</style>\n",
       "<table border=\"1\" class=\"dataframe\">\n",
       "  <thead>\n",
       "    <tr style=\"text-align: right;\">\n",
       "      <th></th>\n",
       "      <th>pid</th>\n",
       "      <th>acknow</th>\n",
       "      <th>IntersectedAcknowIds</th>\n",
       "    </tr>\n",
       "  </thead>\n",
       "  <tbody>\n",
       "    <tr>\n",
       "      <th>0</th>\n",
       "      <td>2145218186</td>\n",
       "      <td>Aviv Regev</td>\n",
       "      <td>{1893730172}</td>\n",
       "    </tr>\n",
       "    <tr>\n",
       "      <th>1</th>\n",
       "      <td>2105003357</td>\n",
       "      <td>Aviv Regev</td>\n",
       "      <td>{1893730172}</td>\n",
       "    </tr>\n",
       "    <tr>\n",
       "      <th>4</th>\n",
       "      <td>2145218186</td>\n",
       "      <td>Aviv Regev</td>\n",
       "      <td>{1893730172}</td>\n",
       "    </tr>\n",
       "    <tr>\n",
       "      <th>5</th>\n",
       "      <td>2105003357</td>\n",
       "      <td>Aviv Regev</td>\n",
       "      <td>{1893730172}</td>\n",
       "    </tr>\n",
       "    <tr>\n",
       "      <th>11</th>\n",
       "      <td>2168608639</td>\n",
       "      <td>Aviv Regev</td>\n",
       "      <td>{1893730172}</td>\n",
       "    </tr>\n",
       "  </tbody>\n",
       "</table>\n",
       "</div>"
      ],
      "text/plain": [
       "           pid      acknow IntersectedAcknowIds\n",
       "0   2145218186  Aviv Regev         {1893730172}\n",
       "1   2105003357  Aviv Regev         {1893730172}\n",
       "4   2145218186  Aviv Regev         {1893730172}\n",
       "5   2105003357  Aviv Regev         {1893730172}\n",
       "11  2168608639  Aviv Regev         {1893730172}"
      ]
     },
     "execution_count": 52,
     "metadata": {},
     "output_type": "execute_result"
    }
   ],
   "source": [
    "df_determinedAcknow_oneId = df_determinedAcknow[df_determinedAcknow['IntersectedAcknowIds'].str.len() == 1][['pid', 'acknow', 'IntersectedAcknowIds']]\n",
    "df_determinedAcknow_oneId.head()"
   ]
  },
  {
   "cell_type": "code",
   "execution_count": 53,
   "id": "584ab1b6-bf05-4914-b6a6-d1b6aa4ae119",
   "metadata": {},
   "outputs": [
    {
     "data": {
      "text/html": [
       "<div>\n",
       "<style scoped>\n",
       "    .dataframe tbody tr th:only-of-type {\n",
       "        vertical-align: middle;\n",
       "    }\n",
       "\n",
       "    .dataframe tbody tr th {\n",
       "        vertical-align: top;\n",
       "    }\n",
       "\n",
       "    .dataframe thead th {\n",
       "        text-align: right;\n",
       "    }\n",
       "</style>\n",
       "<table border=\"1\" class=\"dataframe\">\n",
       "  <thead>\n",
       "    <tr style=\"text-align: right;\">\n",
       "      <th></th>\n",
       "      <th>pid</th>\n",
       "      <th>acknow</th>\n",
       "      <th>IntersectedAcknowIds</th>\n",
       "      <th>DetermindedAcknowId</th>\n",
       "    </tr>\n",
       "  </thead>\n",
       "  <tbody>\n",
       "    <tr>\n",
       "      <th>0</th>\n",
       "      <td>2145218186</td>\n",
       "      <td>Aviv Regev</td>\n",
       "      <td>{1893730172}</td>\n",
       "      <td>1893730172</td>\n",
       "    </tr>\n",
       "    <tr>\n",
       "      <th>1</th>\n",
       "      <td>2105003357</td>\n",
       "      <td>Aviv Regev</td>\n",
       "      <td>{1893730172}</td>\n",
       "      <td>1893730172</td>\n",
       "    </tr>\n",
       "    <tr>\n",
       "      <th>4</th>\n",
       "      <td>2145218186</td>\n",
       "      <td>Aviv Regev</td>\n",
       "      <td>{1893730172}</td>\n",
       "      <td>1893730172</td>\n",
       "    </tr>\n",
       "    <tr>\n",
       "      <th>5</th>\n",
       "      <td>2105003357</td>\n",
       "      <td>Aviv Regev</td>\n",
       "      <td>{1893730172}</td>\n",
       "      <td>1893730172</td>\n",
       "    </tr>\n",
       "    <tr>\n",
       "      <th>11</th>\n",
       "      <td>2168608639</td>\n",
       "      <td>Aviv Regev</td>\n",
       "      <td>{1893730172}</td>\n",
       "      <td>1893730172</td>\n",
       "    </tr>\n",
       "  </tbody>\n",
       "</table>\n",
       "</div>"
      ],
      "text/plain": [
       "           pid      acknow IntersectedAcknowIds  DetermindedAcknowId\n",
       "0   2145218186  Aviv Regev         {1893730172}           1893730172\n",
       "1   2105003357  Aviv Regev         {1893730172}           1893730172\n",
       "4   2145218186  Aviv Regev         {1893730172}           1893730172\n",
       "5   2105003357  Aviv Regev         {1893730172}           1893730172\n",
       "11  2168608639  Aviv Regev         {1893730172}           1893730172"
      ]
     },
     "execution_count": 53,
     "metadata": {},
     "output_type": "execute_result"
    }
   ],
   "source": [
    "# change extract acknow id as str \n",
    "df_determinedAcknow_oneId['DetermindedAcknowId'] = df_determinedAcknow_oneId['IntersectedAcknowIds'].apply(list).str[0]\n",
    "\n",
    "df_determinedAcknow_oneId.head()"
   ]
  },
  {
   "cell_type": "markdown",
   "id": "7f1724e6-39f7-4e22-a090-70e7a7e37c6c",
   "metadata": {},
   "source": [
    "# Save"
   ]
  },
  {
   "cell_type": "code",
   "execution_count": 55,
   "id": "26aa191d-3df5-412e-8964-b9cb7c7ff89a",
   "metadata": {},
   "outputs": [],
   "source": [
    "# save rsults\n",
    "# df_determinedAcknow_oneId[['pid', 'acknow', 'DetermindedAcknowId']].to_csv(f'{PATH_SAVE}/d1Collaboration_result.csv', index=False)\n",
    "\n",
    "df_determinedAcknow_oneId = pd.read_csv(f'{PATH_SAVE}/d1Collaboration_result.csv')"
   ]
  },
  {
   "cell_type": "code",
   "execution_count": 56,
   "id": "29974b7c-a857-4c59-8974-5b44c0ae1ab6",
   "metadata": {},
   "outputs": [
    {
     "data": {
      "text/html": [
       "<div>\n",
       "<style scoped>\n",
       "    .dataframe tbody tr th:only-of-type {\n",
       "        vertical-align: middle;\n",
       "    }\n",
       "\n",
       "    .dataframe tbody tr th {\n",
       "        vertical-align: top;\n",
       "    }\n",
       "\n",
       "    .dataframe thead th {\n",
       "        text-align: right;\n",
       "    }\n",
       "</style>\n",
       "<table border=\"1\" class=\"dataframe\">\n",
       "  <thead>\n",
       "    <tr style=\"text-align: right;\">\n",
       "      <th></th>\n",
       "      <th>pid</th>\n",
       "      <th>acknow</th>\n",
       "      <th>DetermindedAcknowId</th>\n",
       "    </tr>\n",
       "  </thead>\n",
       "  <tbody>\n",
       "    <tr>\n",
       "      <th>0</th>\n",
       "      <td>2145218186</td>\n",
       "      <td>Aviv Regev</td>\n",
       "      <td>1893730172</td>\n",
       "    </tr>\n",
       "    <tr>\n",
       "      <th>1</th>\n",
       "      <td>2105003357</td>\n",
       "      <td>Aviv Regev</td>\n",
       "      <td>1893730172</td>\n",
       "    </tr>\n",
       "    <tr>\n",
       "      <th>2</th>\n",
       "      <td>2145218186</td>\n",
       "      <td>Aviv Regev</td>\n",
       "      <td>1893730172</td>\n",
       "    </tr>\n",
       "    <tr>\n",
       "      <th>3</th>\n",
       "      <td>2105003357</td>\n",
       "      <td>Aviv Regev</td>\n",
       "      <td>1893730172</td>\n",
       "    </tr>\n",
       "    <tr>\n",
       "      <th>4</th>\n",
       "      <td>2168608639</td>\n",
       "      <td>Aviv Regev</td>\n",
       "      <td>1893730172</td>\n",
       "    </tr>\n",
       "  </tbody>\n",
       "</table>\n",
       "</div>"
      ],
      "text/plain": [
       "          pid      acknow  DetermindedAcknowId\n",
       "0  2145218186  Aviv Regev           1893730172\n",
       "1  2105003357  Aviv Regev           1893730172\n",
       "2  2145218186  Aviv Regev           1893730172\n",
       "3  2105003357  Aviv Regev           1893730172\n",
       "4  2168608639  Aviv Regev           1893730172"
      ]
     },
     "execution_count": 56,
     "metadata": {},
     "output_type": "execute_result"
    }
   ],
   "source": [
    "df_determinedAcknow_oneId.head()"
   ]
  },
  {
   "cell_type": "code",
   "execution_count": null,
   "id": "edf9ce11-30b4-495e-a249-b20753f567a4",
   "metadata": {},
   "outputs": [],
   "source": []
  },
  {
   "cell_type": "code",
   "execution_count": null,
   "id": "343e6c11-3774-4499-b1ad-31221c99d237",
   "metadata": {},
   "outputs": [],
   "source": []
  },
  {
   "cell_type": "code",
   "execution_count": null,
   "id": "47077063-ea11-4759-bd2b-39eb141a4a9c",
   "metadata": {},
   "outputs": [],
   "source": []
  },
  {
   "cell_type": "code",
   "execution_count": null,
   "id": "41cab6f4-514f-455e-95bb-1688d18f34de",
   "metadata": {},
   "outputs": [],
   "source": []
  },
  {
   "cell_type": "code",
   "execution_count": null,
   "id": "ad625d29-a54a-40ae-9931-89b531914391",
   "metadata": {},
   "outputs": [],
   "source": []
  },
  {
   "cell_type": "code",
   "execution_count": null,
   "id": "373ffc51-ad0d-4063-ad1b-a8081f483ccf",
   "metadata": {},
   "outputs": [],
   "source": []
  },
  {
   "cell_type": "code",
   "execution_count": null,
   "id": "9457a7f0-992a-4c42-a28e-96e5dde97343",
   "metadata": {},
   "outputs": [],
   "source": []
  },
  {
   "cell_type": "code",
   "execution_count": null,
   "id": "b31d364b-65d2-4ec7-96f9-95f49d1b0e6d",
   "metadata": {},
   "outputs": [],
   "source": []
  },
  {
   "cell_type": "markdown",
   "id": "b5e9634b-20a6-43e3-848c-7c825795228b",
   "metadata": {},
   "source": [
    "# Cited indentifier"
   ]
  },
  {
   "cell_type": "code",
   "execution_count": 14,
   "id": "dfba42f2-b567-44dc-a442-ea28e2688faa",
   "metadata": {},
   "outputs": [],
   "source": [
    "df_result_cited = pd.read_csv('../../data-computed-MAG/references_result.csv')"
   ]
  },
  {
   "cell_type": "code",
   "execution_count": 15,
   "id": "84d353d4-89c1-465a-8f40-067a0799fa22",
   "metadata": {},
   "outputs": [
    {
     "data": {
      "text/html": [
       "<div>\n",
       "<style scoped>\n",
       "    .dataframe tbody tr th:only-of-type {\n",
       "        vertical-align: middle;\n",
       "    }\n",
       "\n",
       "    .dataframe tbody tr th {\n",
       "        vertical-align: top;\n",
       "    }\n",
       "\n",
       "    .dataframe thead th {\n",
       "        text-align: right;\n",
       "    }\n",
       "</style>\n",
       "<table border=\"1\" class=\"dataframe\">\n",
       "  <thead>\n",
       "    <tr style=\"text-align: right;\">\n",
       "      <th></th>\n",
       "      <th>pid</th>\n",
       "      <th>acknow</th>\n",
       "      <th>ReferencedAuthorIds</th>\n",
       "    </tr>\n",
       "  </thead>\n",
       "  <tbody>\n",
       "    <tr>\n",
       "      <th>0</th>\n",
       "      <td>2145218186</td>\n",
       "      <td>Lena Nekludova</td>\n",
       "      <td>1991417625</td>\n",
       "    </tr>\n",
       "    <tr>\n",
       "      <th>1</th>\n",
       "      <td>2145218186</td>\n",
       "      <td>Yoseph Barash</td>\n",
       "      <td>2103482019</td>\n",
       "    </tr>\n",
       "    <tr>\n",
       "      <th>2</th>\n",
       "      <td>2145218186</td>\n",
       "      <td>Yoseph Barash</td>\n",
       "      <td>2103482019</td>\n",
       "    </tr>\n",
       "    <tr>\n",
       "      <th>3</th>\n",
       "      <td>2088922607</td>\n",
       "      <td>Bruce Stillman</td>\n",
       "      <td>2160703791</td>\n",
       "    </tr>\n",
       "    <tr>\n",
       "      <th>4</th>\n",
       "      <td>2088922607</td>\n",
       "      <td>M. K. Raghuraman</td>\n",
       "      <td>2063095141</td>\n",
       "    </tr>\n",
       "    <tr>\n",
       "      <th>...</th>\n",
       "      <td>...</td>\n",
       "      <td>...</td>\n",
       "      <td>...</td>\n",
       "    </tr>\n",
       "    <tr>\n",
       "      <th>224842</th>\n",
       "      <td>3127584525</td>\n",
       "      <td>Hans Keppler</td>\n",
       "      <td>2099200267</td>\n",
       "    </tr>\n",
       "    <tr>\n",
       "      <th>224843</th>\n",
       "      <td>3127584525</td>\n",
       "      <td>Hans Keppler</td>\n",
       "      <td>2099200267</td>\n",
       "    </tr>\n",
       "    <tr>\n",
       "      <th>224844</th>\n",
       "      <td>3127584525</td>\n",
       "      <td>Hans Keppler</td>\n",
       "      <td>2099200267</td>\n",
       "    </tr>\n",
       "    <tr>\n",
       "      <th>224845</th>\n",
       "      <td>3127584525</td>\n",
       "      <td>Federica Schiavi</td>\n",
       "      <td>2301209342</td>\n",
       "    </tr>\n",
       "    <tr>\n",
       "      <th>224846</th>\n",
       "      <td>3127584525</td>\n",
       "      <td>Federica Schiavi</td>\n",
       "      <td>2301209342</td>\n",
       "    </tr>\n",
       "  </tbody>\n",
       "</table>\n",
       "<p>224847 rows × 3 columns</p>\n",
       "</div>"
      ],
      "text/plain": [
       "               pid            acknow  ReferencedAuthorIds\n",
       "0       2145218186    Lena Nekludova           1991417625\n",
       "1       2145218186     Yoseph Barash           2103482019\n",
       "2       2145218186     Yoseph Barash           2103482019\n",
       "3       2088922607    Bruce Stillman           2160703791\n",
       "4       2088922607  M. K. Raghuraman           2063095141\n",
       "...            ...               ...                  ...\n",
       "224842  3127584525      Hans Keppler           2099200267\n",
       "224843  3127584525      Hans Keppler           2099200267\n",
       "224844  3127584525      Hans Keppler           2099200267\n",
       "224845  3127584525  Federica Schiavi           2301209342\n",
       "224846  3127584525  Federica Schiavi           2301209342\n",
       "\n",
       "[224847 rows x 3 columns]"
      ]
     },
     "execution_count": 15,
     "metadata": {},
     "output_type": "execute_result"
    }
   ],
   "source": [
    "df_result_cited"
   ]
  },
  {
   "cell_type": "code",
   "execution_count": null,
   "id": "5a611755-8b2b-40c6-9478-6b767dfde282",
   "metadata": {},
   "outputs": [],
   "source": []
  },
  {
   "cell_type": "markdown",
   "id": "9af760fc-5b24-405e-a7ea-2976df613f1c",
   "metadata": {},
   "source": [
    "# merge "
   ]
  },
  {
   "cell_type": "code",
   "execution_count": 16,
   "id": "c546f216-ef51-4f9d-87dd-308efd8f1814",
   "metadata": {},
   "outputs": [
    {
     "data": {
      "text/plain": [
       "(797588, 224847)"
      ]
     },
     "execution_count": 16,
     "metadata": {},
     "output_type": "execute_result"
    }
   ],
   "source": [
    "len(df_determinedAcknow_oneId), len(df_result_cited)"
   ]
  },
  {
   "cell_type": "code",
   "execution_count": 23,
   "id": "5a38167a-3150-4fb4-9db6-7a13eadc0ce5",
   "metadata": {},
   "outputs": [
    {
     "name": "stdout",
     "output_type": "stream",
     "text": [
      "CPU times: user 234 ms, sys: 58.2 ms, total: 293 ms\n",
      "Wall time: 289 ms\n"
     ]
    },
    {
     "data": {
      "text/html": [
       "<div>\n",
       "<style scoped>\n",
       "    .dataframe tbody tr th:only-of-type {\n",
       "        vertical-align: middle;\n",
       "    }\n",
       "\n",
       "    .dataframe tbody tr th {\n",
       "        vertical-align: top;\n",
       "    }\n",
       "\n",
       "    .dataframe thead th {\n",
       "        text-align: right;\n",
       "    }\n",
       "</style>\n",
       "<table border=\"1\" class=\"dataframe\">\n",
       "  <thead>\n",
       "    <tr style=\"text-align: right;\">\n",
       "      <th></th>\n",
       "      <th>pid</th>\n",
       "      <th>acknow</th>\n",
       "      <th>DetermindedAcknowId</th>\n",
       "      <th>ReferencedAuthorIds</th>\n",
       "    </tr>\n",
       "  </thead>\n",
       "  <tbody>\n",
       "    <tr>\n",
       "      <th>0</th>\n",
       "      <td>2145218186</td>\n",
       "      <td>Aviv Regev</td>\n",
       "      <td>1.893730e+09</td>\n",
       "      <td>NaN</td>\n",
       "    </tr>\n",
       "    <tr>\n",
       "      <th>2</th>\n",
       "      <td>2105003357</td>\n",
       "      <td>Aviv Regev</td>\n",
       "      <td>1.893730e+09</td>\n",
       "      <td>NaN</td>\n",
       "    </tr>\n",
       "    <tr>\n",
       "      <th>4</th>\n",
       "      <td>2168608639</td>\n",
       "      <td>Aviv Regev</td>\n",
       "      <td>1.893730e+09</td>\n",
       "      <td>NaN</td>\n",
       "    </tr>\n",
       "    <tr>\n",
       "      <th>12</th>\n",
       "      <td>2033343333</td>\n",
       "      <td>Aviv Regev</td>\n",
       "      <td>1.893730e+09</td>\n",
       "      <td>3.147624e+09</td>\n",
       "    </tr>\n",
       "    <tr>\n",
       "      <th>15</th>\n",
       "      <td>2105898083</td>\n",
       "      <td>Aviv Regev</td>\n",
       "      <td>1.893730e+09</td>\n",
       "      <td>NaN</td>\n",
       "    </tr>\n",
       "  </tbody>\n",
       "</table>\n",
       "</div>"
      ],
      "text/plain": [
       "           pid      acknow  DetermindedAcknowId  ReferencedAuthorIds\n",
       "0   2145218186  Aviv Regev         1.893730e+09                  NaN\n",
       "2   2105003357  Aviv Regev         1.893730e+09                  NaN\n",
       "4   2168608639  Aviv Regev         1.893730e+09                  NaN\n",
       "12  2033343333  Aviv Regev         1.893730e+09         3.147624e+09\n",
       "15  2105898083  Aviv Regev         1.893730e+09                  NaN"
      ]
     },
     "execution_count": 23,
     "metadata": {},
     "output_type": "execute_result"
    }
   ],
   "source": [
    "%%time\n",
    "df_acknowId_d1collab_ref_merged = pd.merge(df_determinedAcknow_oneId, df_result_cited,  \n",
    "          how='outer', on=['pid', 'acknow'])\n",
    "df_acknowId_d1collab_ref_merged = df_acknowId_d1collab_ref_merged.drop_duplicates(subset=['pid', 'acknow'])\n",
    "df_acknowId_d1collab_ref_merged.head()"
   ]
  },
  {
   "cell_type": "code",
   "execution_count": 24,
   "id": "999ac4fc-7b47-4a58-bb44-9660eef702f3",
   "metadata": {},
   "outputs": [
    {
     "data": {
      "text/plain": [
       "231168"
      ]
     },
     "execution_count": 24,
     "metadata": {},
     "output_type": "execute_result"
    }
   ],
   "source": [
    "len(df_acknowId_d1collab_ref_merged)"
   ]
  },
  {
   "cell_type": "code",
   "execution_count": 19,
   "id": "c6301efa-f073-4e82-a922-ce880d87b13b",
   "metadata": {},
   "outputs": [
    {
     "data": {
      "text/html": [
       "<div>\n",
       "<style scoped>\n",
       "    .dataframe tbody tr th:only-of-type {\n",
       "        vertical-align: middle;\n",
       "    }\n",
       "\n",
       "    .dataframe tbody tr th {\n",
       "        vertical-align: top;\n",
       "    }\n",
       "\n",
       "    .dataframe thead th {\n",
       "        text-align: right;\n",
       "    }\n",
       "</style>\n",
       "<table border=\"1\" class=\"dataframe\">\n",
       "  <thead>\n",
       "    <tr style=\"text-align: right;\">\n",
       "      <th></th>\n",
       "      <th>pid</th>\n",
       "      <th>acknow</th>\n",
       "      <th>DetermindedAcknowId</th>\n",
       "      <th>ReferencedAuthorIds</th>\n",
       "    </tr>\n",
       "  </thead>\n",
       "  <tbody>\n",
       "    <tr>\n",
       "      <th>16</th>\n",
       "      <td>2046231013</td>\n",
       "      <td>Aviv Regev</td>\n",
       "      <td>1.893730e+09</td>\n",
       "      <td>1.893730e+09</td>\n",
       "    </tr>\n",
       "    <tr>\n",
       "      <th>38</th>\n",
       "      <td>2028088265</td>\n",
       "      <td>Yael Altuvia</td>\n",
       "      <td>2.212855e+08</td>\n",
       "      <td>2.212855e+08</td>\n",
       "    </tr>\n",
       "    <tr>\n",
       "      <th>40</th>\n",
       "      <td>2026342583</td>\n",
       "      <td>Yael Altuvia</td>\n",
       "      <td>2.212855e+08</td>\n",
       "      <td>2.212855e+08</td>\n",
       "    </tr>\n",
       "    <tr>\n",
       "      <th>41</th>\n",
       "      <td>2145218186</td>\n",
       "      <td>Yoseph Barash</td>\n",
       "      <td>2.103482e+09</td>\n",
       "      <td>2.103482e+09</td>\n",
       "    </tr>\n",
       "    <tr>\n",
       "      <th>45</th>\n",
       "      <td>2105003357</td>\n",
       "      <td>Yoseph Barash</td>\n",
       "      <td>2.103482e+09</td>\n",
       "      <td>2.103482e+09</td>\n",
       "    </tr>\n",
       "    <tr>\n",
       "      <th>...</th>\n",
       "      <td>...</td>\n",
       "      <td>...</td>\n",
       "      <td>...</td>\n",
       "      <td>...</td>\n",
       "    </tr>\n",
       "    <tr>\n",
       "      <th>1212858</th>\n",
       "      <td>3123697845</td>\n",
       "      <td>Rupert Langer</td>\n",
       "      <td>2.034815e+09</td>\n",
       "      <td>2.034815e+09</td>\n",
       "    </tr>\n",
       "    <tr>\n",
       "      <th>1212870</th>\n",
       "      <td>3127263314</td>\n",
       "      <td>Andrea Berton</td>\n",
       "      <td>1.974124e+09</td>\n",
       "      <td>1.974124e+09</td>\n",
       "    </tr>\n",
       "    <tr>\n",
       "      <th>1212887</th>\n",
       "      <td>3126167156</td>\n",
       "      <td>Alpan Bek</td>\n",
       "      <td>1.967853e+09</td>\n",
       "      <td>1.967853e+09</td>\n",
       "    </tr>\n",
       "    <tr>\n",
       "      <th>1212889</th>\n",
       "      <td>3127584525</td>\n",
       "      <td>Hans Keppler</td>\n",
       "      <td>2.099200e+09</td>\n",
       "      <td>2.099200e+09</td>\n",
       "    </tr>\n",
       "    <tr>\n",
       "      <th>1212894</th>\n",
       "      <td>3127584525</td>\n",
       "      <td>Federica Schiavi</td>\n",
       "      <td>2.301209e+09</td>\n",
       "      <td>2.301209e+09</td>\n",
       "    </tr>\n",
       "  </tbody>\n",
       "</table>\n",
       "<p>72344 rows × 4 columns</p>\n",
       "</div>"
      ],
      "text/plain": [
       "                pid            acknow  DetermindedAcknowId  \\\n",
       "16       2046231013        Aviv Regev         1.893730e+09   \n",
       "38       2028088265      Yael Altuvia         2.212855e+08   \n",
       "40       2026342583      Yael Altuvia         2.212855e+08   \n",
       "41       2145218186     Yoseph Barash         2.103482e+09   \n",
       "45       2105003357     Yoseph Barash         2.103482e+09   \n",
       "...             ...               ...                  ...   \n",
       "1212858  3123697845     Rupert Langer         2.034815e+09   \n",
       "1212870  3127263314     Andrea Berton         1.974124e+09   \n",
       "1212887  3126167156         Alpan Bek         1.967853e+09   \n",
       "1212889  3127584525      Hans Keppler         2.099200e+09   \n",
       "1212894  3127584525  Federica Schiavi         2.301209e+09   \n",
       "\n",
       "         ReferencedAuthorIds  \n",
       "16              1.893730e+09  \n",
       "38              2.212855e+08  \n",
       "40              2.212855e+08  \n",
       "41              2.103482e+09  \n",
       "45              2.103482e+09  \n",
       "...                      ...  \n",
       "1212858         2.034815e+09  \n",
       "1212870         1.974124e+09  \n",
       "1212887         1.967853e+09  \n",
       "1212889         2.099200e+09  \n",
       "1212894         2.301209e+09  \n",
       "\n",
       "[72344 rows x 4 columns]"
      ]
     },
     "execution_count": 19,
     "metadata": {},
     "output_type": "execute_result"
    }
   ],
   "source": [
    "df_acknowId_d1collab_ref_merged[df_acknowId_d1collab_ref_merged['DetermindedAcknowId'] == df_acknowId_d1collab_ref_merged['ReferencedAuthorIds']]"
   ]
  },
  {
   "cell_type": "code",
   "execution_count": 62,
   "id": "f3e514b5-540f-4a41-8caa-63fa75eddbfc",
   "metadata": {},
   "outputs": [
    {
     "data": {
      "text/html": [
       "<div>\n",
       "<style scoped>\n",
       "    .dataframe tbody tr th:only-of-type {\n",
       "        vertical-align: middle;\n",
       "    }\n",
       "\n",
       "    .dataframe tbody tr th {\n",
       "        vertical-align: top;\n",
       "    }\n",
       "\n",
       "    .dataframe thead th {\n",
       "        text-align: right;\n",
       "    }\n",
       "</style>\n",
       "<table border=\"1\" class=\"dataframe\">\n",
       "  <thead>\n",
       "    <tr style=\"text-align: right;\">\n",
       "      <th></th>\n",
       "      <th>pid</th>\n",
       "      <th>acknow</th>\n",
       "      <th>DetermindedAcknowId</th>\n",
       "      <th>ReferencedAuthorIds</th>\n",
       "    </tr>\n",
       "  </thead>\n",
       "  <tbody>\n",
       "    <tr>\n",
       "      <th>12</th>\n",
       "      <td>2033343333</td>\n",
       "      <td>Aviv Regev</td>\n",
       "      <td>1.893730e+09</td>\n",
       "      <td>3.147624e+09</td>\n",
       "    </tr>\n",
       "    <tr>\n",
       "      <th>71</th>\n",
       "      <td>1971564731</td>\n",
       "      <td>Nir Friedman</td>\n",
       "      <td>2.079978e+09</td>\n",
       "      <td>3.175696e+09</td>\n",
       "    </tr>\n",
       "    <tr>\n",
       "      <th>355</th>\n",
       "      <td>2127164464</td>\n",
       "      <td>Gustavo Stolovitzky</td>\n",
       "      <td>3.204995e+09</td>\n",
       "      <td>2.029563e+09</td>\n",
       "    </tr>\n",
       "    <tr>\n",
       "      <th>528</th>\n",
       "      <td>1980375476</td>\n",
       "      <td>Peter Forster</td>\n",
       "      <td>2.181181e+09</td>\n",
       "      <td>2.729617e+09</td>\n",
       "    </tr>\n",
       "    <tr>\n",
       "      <th>652</th>\n",
       "      <td>2264241394</td>\n",
       "      <td>Zhifang Chai</td>\n",
       "      <td>2.267736e+09</td>\n",
       "      <td>2.931652e+09</td>\n",
       "    </tr>\n",
       "    <tr>\n",
       "      <th>...</th>\n",
       "      <td>...</td>\n",
       "      <td>...</td>\n",
       "      <td>...</td>\n",
       "      <td>...</td>\n",
       "    </tr>\n",
       "    <tr>\n",
       "      <th>1212198</th>\n",
       "      <td>3013066072</td>\n",
       "      <td>Jingzhen Shao</td>\n",
       "      <td>2.962232e+09</td>\n",
       "      <td>2.800880e+09</td>\n",
       "    </tr>\n",
       "    <tr>\n",
       "      <th>1212454</th>\n",
       "      <td>3021669255</td>\n",
       "      <td>Carlo Gatti</td>\n",
       "      <td>3.168202e+09</td>\n",
       "      <td>2.609771e+09</td>\n",
       "    </tr>\n",
       "    <tr>\n",
       "      <th>1212604</th>\n",
       "      <td>2999205633</td>\n",
       "      <td>Yuji Nakamura</td>\n",
       "      <td>2.106848e+09</td>\n",
       "      <td>2.560203e+09</td>\n",
       "    </tr>\n",
       "    <tr>\n",
       "      <th>1212668</th>\n",
       "      <td>3033722825</td>\n",
       "      <td>Ruthaiwan Bunkrongcheap</td>\n",
       "      <td>2.754391e+09</td>\n",
       "      <td>3.283531e+08</td>\n",
       "    </tr>\n",
       "    <tr>\n",
       "      <th>1212691</th>\n",
       "      <td>3038996923</td>\n",
       "      <td>Chi O. Ao</td>\n",
       "      <td>3.008755e+09</td>\n",
       "      <td>2.113287e+09</td>\n",
       "    </tr>\n",
       "  </tbody>\n",
       "</table>\n",
       "<p>1875 rows × 4 columns</p>\n",
       "</div>"
      ],
      "text/plain": [
       "                pid                   acknow  DetermindedAcknowId  \\\n",
       "12       2033343333               Aviv Regev         1.893730e+09   \n",
       "71       1971564731             Nir Friedman         2.079978e+09   \n",
       "355      2127164464      Gustavo Stolovitzky         3.204995e+09   \n",
       "528      1980375476            Peter Forster         2.181181e+09   \n",
       "652      2264241394             Zhifang Chai         2.267736e+09   \n",
       "...             ...                      ...                  ...   \n",
       "1212198  3013066072            Jingzhen Shao         2.962232e+09   \n",
       "1212454  3021669255              Carlo Gatti         3.168202e+09   \n",
       "1212604  2999205633            Yuji Nakamura         2.106848e+09   \n",
       "1212668  3033722825  Ruthaiwan Bunkrongcheap         2.754391e+09   \n",
       "1212691  3038996923                Chi O. Ao         3.008755e+09   \n",
       "\n",
       "         ReferencedAuthorIds  \n",
       "12              3.147624e+09  \n",
       "71              3.175696e+09  \n",
       "355             2.029563e+09  \n",
       "528             2.729617e+09  \n",
       "652             2.931652e+09  \n",
       "...                      ...  \n",
       "1212198         2.800880e+09  \n",
       "1212454         2.609771e+09  \n",
       "1212604         2.560203e+09  \n",
       "1212668         3.283531e+08  \n",
       "1212691         2.113287e+09  \n",
       "\n",
       "[1875 rows x 4 columns]"
      ]
     },
     "execution_count": 62,
     "metadata": {},
     "output_type": "execute_result"
    }
   ],
   "source": [
    "# 二つの方法（References, d1 collaboration）でずれて判定された人たち\n",
    "df_acknowId_d1collab_ref_merged[(df_acknowId_d1collab_ref_merged['DetermindedAcknowId'] != df_acknowId_d1collab_ref_merged['ReferencedAuthorIds']) & ~(df_acknowId_d1collab_ref_merged['DetermindedAcknowId'].isnull()) & ~(df_acknowId_d1collab_ref_merged['ReferencedAuthorIds'].isnull())]"
   ]
  },
  {
   "cell_type": "code",
   "execution_count": 56,
   "id": "c60e8a66-db6c-4a84-9c3c-b2f353d4e8ba",
   "metadata": {},
   "outputs": [
    {
     "data": {
      "text/plain": [
       "798525"
      ]
     },
     "execution_count": 56,
     "metadata": {},
     "output_type": "execute_result"
    }
   ],
   "source": [
    "# 全てのacknowの人数\n",
    "len(dfs_all.drop_duplicates(subset=['paperId', 'acknow']))"
   ]
  },
  {
   "cell_type": "code",
   "execution_count": 20,
   "id": "1cb97cd3-1c05-4555-9586-b77ed23d7a0f",
   "metadata": {},
   "outputs": [
    {
     "data": {
      "text/plain": [
       "0.28949375410913875"
      ]
     },
     "execution_count": 20,
     "metadata": {},
     "output_type": "execute_result"
    }
   ],
   "source": [
    "231168/798525"
   ]
  },
  {
   "cell_type": "code",
   "execution_count": 25,
   "id": "057a342c-c951-490d-aac7-02a045e3f01b",
   "metadata": {},
   "outputs": [
    {
     "name": "stdout",
     "output_type": "stream",
     "text": [
      "全てのacknowの内，0.28949375410913875の人のidを付与した\n"
     ]
    }
   ],
   "source": [
    "print(f\"全てのacknowの内，{231168/len(dfs_all.drop_duplicates(subset=['paperId', 'acknow']))}の人のidを付与した\")"
   ]
  },
  {
   "cell_type": "code",
   "execution_count": null,
   "id": "26bc6413-ede6-4853-a85d-76ec768b6aea",
   "metadata": {},
   "outputs": [],
   "source": []
  }
 ],
 "metadata": {
  "kernelspec": {
   "display_name": "Python 3 (ipykernel)",
   "language": "python",
   "name": "python3"
  },
  "language_info": {
   "codemirror_mode": {
    "name": "ipython",
    "version": 3
   },
   "file_extension": ".py",
   "mimetype": "text/x-python",
   "name": "python",
   "nbconvert_exporter": "python",
   "pygments_lexer": "ipython3",
   "version": "3.9.6"
  }
 },
 "nbformat": 4,
 "nbformat_minor": 5
}
