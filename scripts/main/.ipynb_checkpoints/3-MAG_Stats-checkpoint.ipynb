{
 "cells": [
  {
   "cell_type": "code",
   "execution_count": 1,
   "id": "ee038c35-eee2-40cd-8817-0760605ac321",
   "metadata": {},
   "outputs": [],
   "source": [
    "import vaex\n",
    "import pandas as pd\n",
    "\n",
    "FILES = ['compbiology', 'biology', 'medicine', 'genetics', 'ntds', 'pathogenes', 'plosone', 'srep']\n",
    "\n",
    "PATH_ROW_ACKNOW = '../../data/TreatedEdgeList'\n",
    "PATH_RESULT = \"../../resultMAG\""
   ]
  },
  {
   "cell_type": "markdown",
   "id": "95fb0f07-2ed4-475d-b27f-b2de9a58f6e8",
   "metadata": {},
   "source": [
    "# Read Graph"
   ]
  },
  {
   "cell_type": "code",
   "execution_count": 2,
   "id": "6f820c46-52c2-4e27-9241-ae3ad42dd6ad",
   "metadata": {},
   "outputs": [
    {
     "name": "stdout",
     "output_type": "stream",
     "text": [
      "read file: compbiology\n",
      "read file: biology\n",
      "read file: medicine\n",
      "read file: genetics\n",
      "read file: ntds\n"
     ]
    },
    {
     "name": "stderr",
     "output_type": "stream",
     "text": [
      "/Users/keigokusumegi/.anyenv/envs/pyenv/versions/miniforge3-4.10/envs/network-analysis/lib/python3.9/site-packages/IPython/core/magics/execution.py:1321: DtypeWarning: Columns (1) have mixed types.Specify dtype option on import or set low_memory=False.\n",
      "  exec(code, glob, local_ns)\n"
     ]
    },
    {
     "name": "stdout",
     "output_type": "stream",
     "text": [
      "read file: pathogenes\n",
      "read file: plosone\n",
      "read file: srep\n",
      "CPU times: user 3.34 s, sys: 291 ms, total: 3.63 s\n",
      "Wall time: 3.64 s\n"
     ]
    },
    {
     "data": {
      "text/html": [
       "<div>\n",
       "<style scoped>\n",
       "    .dataframe tbody tr th:only-of-type {\n",
       "        vertical-align: middle;\n",
       "    }\n",
       "\n",
       "    .dataframe tbody tr th {\n",
       "        vertical-align: top;\n",
       "    }\n",
       "\n",
       "    .dataframe thead th {\n",
       "        text-align: right;\n",
       "    }\n",
       "</style>\n",
       "<table border=\"1\" class=\"dataframe\">\n",
       "  <thead>\n",
       "    <tr style=\"text-align: right;\">\n",
       "      <th></th>\n",
       "      <th>paperId</th>\n",
       "      <th>author</th>\n",
       "      <th>acknow</th>\n",
       "    </tr>\n",
       "  </thead>\n",
       "  <tbody>\n",
       "    <tr>\n",
       "      <th>0</th>\n",
       "      <td>10.1371/journal.pcbi.0010001</td>\n",
       "      <td>Hanah_Margalit</td>\n",
       "      <td>Aviv_Regev</td>\n",
       "    </tr>\n",
       "    <tr>\n",
       "      <th>1</th>\n",
       "      <td>10.1371/journal.pcbi.0010001</td>\n",
       "      <td>Hanah_Margalit</td>\n",
       "      <td>Benjamin_Gordon</td>\n",
       "    </tr>\n",
       "    <tr>\n",
       "      <th>2</th>\n",
       "      <td>10.1371/journal.pcbi.0010001</td>\n",
       "      <td>Hanah_Margalit</td>\n",
       "      <td>Dalit_May</td>\n",
       "    </tr>\n",
       "    <tr>\n",
       "      <th>3</th>\n",
       "      <td>10.1371/journal.pcbi.0010001</td>\n",
       "      <td>Hanah_Margalit</td>\n",
       "      <td>Ernest_Fraenkel</td>\n",
       "    </tr>\n",
       "    <tr>\n",
       "      <th>4</th>\n",
       "      <td>10.1371/journal.pcbi.0010001</td>\n",
       "      <td>Hanah_Margalit</td>\n",
       "      <td>Lena_Nekludova</td>\n",
       "    </tr>\n",
       "  </tbody>\n",
       "</table>\n",
       "</div>"
      ],
      "text/plain": [
       "                        paperId          author           acknow\n",
       "0  10.1371/journal.pcbi.0010001  Hanah_Margalit       Aviv_Regev\n",
       "1  10.1371/journal.pcbi.0010001  Hanah_Margalit  Benjamin_Gordon\n",
       "2  10.1371/journal.pcbi.0010001  Hanah_Margalit        Dalit_May\n",
       "3  10.1371/journal.pcbi.0010001  Hanah_Margalit  Ernest_Fraenkel\n",
       "4  10.1371/journal.pcbi.0010001  Hanah_Margalit   Lena_Nekludova"
      ]
     },
     "execution_count": 2,
     "metadata": {},
     "output_type": "execute_result"
    }
   ],
   "source": [
    "%%time\n",
    "# concat all dfs\n",
    "dfs = {}\n",
    "dfs_all = pd.DataFrame()\n",
    "for file in FILES:\n",
    "    print(f\"read file: {file}\")\n",
    "    dfs[file] = pd.read_csv(f'{PATH_ROW_ACKNOW}/{file}.csv')[['paperId', 'author', 'acknow']]\n",
    "    dfs_all = pd.concat([dfs_all, dfs[file]])\n",
    "    \n",
    "dfs_all.head()"
   ]
  },
  {
   "cell_type": "code",
   "execution_count": null,
   "id": "484e2ae3-3610-4dcb-9c4e-01eb36f50e01",
   "metadata": {},
   "outputs": [],
   "source": []
  },
  {
   "cell_type": "markdown",
   "id": "201488cd-5fb6-4363-a72d-1521c66a78b5",
   "metadata": {},
   "source": [
    "# Read author data"
   ]
  },
  {
   "cell_type": "code",
   "execution_count": 3,
   "id": "fe872e70-d973-4ddf-be6b-c57dddf79a10",
   "metadata": {
    "tags": []
   },
   "outputs": [
    {
     "ename": "NameError",
     "evalue": "name 'G' is not defined",
     "output_type": "error",
     "traceback": [
      "\u001b[0;31m---------------------------------------------------------------------------\u001b[0m",
      "\u001b[0;31mNameError\u001b[0m                                 Traceback (most recent call last)",
      "\u001b[0;32m<timed exec>\u001b[0m in \u001b[0;36m<module>\u001b[0;34m\u001b[0m\n",
      "\u001b[0;31mNameError\u001b[0m: name 'G' is not defined"
     ]
    }
   ],
   "source": [
    "%%time\n",
    "# read hdf5 ? from 2nd time\n",
    "vaex_mag_authors = vaex.open('../../data-MAG/Authors/Authors.csv.hdf5')\n",
    "\n",
    "# extract necessary data\n",
    "vaex_mag_authors_avail = vaex_mag_authors[vaex_mag_authors['AuthorId'].isin(list(G.nodes))]\n",
    "\n",
    "# to pandas\n",
    "df_mag_authors_avail = vaex_mag_authors_avail.to_pandas_df()\n",
    "df_mag_authors_avail.head()"
   ]
  },
  {
   "cell_type": "code",
   "execution_count": 18,
   "id": "b9327565-609e-4578-9c29-22b9f9ed906c",
   "metadata": {},
   "outputs": [
    {
     "data": {
      "text/html": [
       "<div>\n",
       "<style scoped>\n",
       "    .dataframe tbody tr th:only-of-type {\n",
       "        vertical-align: middle;\n",
       "    }\n",
       "\n",
       "    .dataframe tbody tr th {\n",
       "        vertical-align: top;\n",
       "    }\n",
       "\n",
       "    .dataframe thead th {\n",
       "        text-align: right;\n",
       "    }\n",
       "</style>\n",
       "<table border=\"1\" class=\"dataframe\">\n",
       "  <thead>\n",
       "    <tr style=\"text-align: right;\">\n",
       "      <th></th>\n",
       "      <th>AuthorId</th>\n",
       "      <th>DisplayName</th>\n",
       "    </tr>\n",
       "  </thead>\n",
       "  <tbody>\n",
       "    <tr>\n",
       "      <th>0</th>\n",
       "      <td>15251</td>\n",
       "      <td>[Padermsak Jarayabhand]</td>\n",
       "    </tr>\n",
       "    <tr>\n",
       "      <th>1</th>\n",
       "      <td>27238</td>\n",
       "      <td>[Flavio Roces]</td>\n",
       "    </tr>\n",
       "    <tr>\n",
       "      <th>2</th>\n",
       "      <td>30645</td>\n",
       "      <td>[Tatsuro Irimura]</td>\n",
       "    </tr>\n",
       "    <tr>\n",
       "      <th>3</th>\n",
       "      <td>47587</td>\n",
       "      <td>[Nicola Vianelli]</td>\n",
       "    </tr>\n",
       "    <tr>\n",
       "      <th>4</th>\n",
       "      <td>52060</td>\n",
       "      <td>[Björn Rogell]</td>\n",
       "    </tr>\n",
       "    <tr>\n",
       "      <th>...</th>\n",
       "      <td>...</td>\n",
       "      <td>...</td>\n",
       "    </tr>\n",
       "    <tr>\n",
       "      <th>654297</th>\n",
       "      <td>3211318920</td>\n",
       "      <td>[Jing-Yang Wang]</td>\n",
       "    </tr>\n",
       "    <tr>\n",
       "      <th>654298</th>\n",
       "      <td>3211325100</td>\n",
       "      <td>[Damien Lucidarme]</td>\n",
       "    </tr>\n",
       "    <tr>\n",
       "      <th>654299</th>\n",
       "      <td>3211327903</td>\n",
       "      <td>[Shu Chen Liu]</td>\n",
       "    </tr>\n",
       "    <tr>\n",
       "      <th>654300</th>\n",
       "      <td>3211329050</td>\n",
       "      <td>[Yong Zhang]</td>\n",
       "    </tr>\n",
       "    <tr>\n",
       "      <th>654301</th>\n",
       "      <td>3211332430</td>\n",
       "      <td>[Emmanuel Kaindoa]</td>\n",
       "    </tr>\n",
       "  </tbody>\n",
       "</table>\n",
       "<p>654302 rows × 2 columns</p>\n",
       "</div>"
      ],
      "text/plain": [
       "          AuthorId              DisplayName\n",
       "0            15251  [Padermsak Jarayabhand]\n",
       "1            27238           [Flavio Roces]\n",
       "2            30645        [Tatsuro Irimura]\n",
       "3            47587        [Nicola Vianelli]\n",
       "4            52060           [Björn Rogell]\n",
       "...            ...                      ...\n",
       "654297  3211318920         [Jing-Yang Wang]\n",
       "654298  3211325100       [Damien Lucidarme]\n",
       "654299  3211327903           [Shu Chen Liu]\n",
       "654300  3211329050             [Yong Zhang]\n",
       "654301  3211332430       [Emmanuel Kaindoa]\n",
       "\n",
       "[654302 rows x 2 columns]"
      ]
     },
     "execution_count": 18,
     "metadata": {},
     "output_type": "execute_result"
    }
   ],
   "source": [
    "a = df_mag_authors_avail.groupby('AuthorId')['DisplayName'].apply(list).reset_index()\n",
    "a"
   ]
  },
  {
   "cell_type": "code",
   "execution_count": 19,
   "id": "f6d9f8a9-d379-4bfd-8cf8-6af02f180edb",
   "metadata": {
    "tags": []
   },
   "outputs": [],
   "source": [
    "a['l'] = a['DisplayName'].apply(len)"
   ]
  },
  {
   "cell_type": "code",
   "execution_count": 20,
   "id": "534a4ded-0cdd-4f61-8eff-c0acef662f0e",
   "metadata": {},
   "outputs": [
    {
     "data": {
      "text/html": [
       "<div>\n",
       "<style scoped>\n",
       "    .dataframe tbody tr th:only-of-type {\n",
       "        vertical-align: middle;\n",
       "    }\n",
       "\n",
       "    .dataframe tbody tr th {\n",
       "        vertical-align: top;\n",
       "    }\n",
       "\n",
       "    .dataframe thead th {\n",
       "        text-align: right;\n",
       "    }\n",
       "</style>\n",
       "<table border=\"1\" class=\"dataframe\">\n",
       "  <thead>\n",
       "    <tr style=\"text-align: right;\">\n",
       "      <th></th>\n",
       "      <th>AuthorId</th>\n",
       "      <th>DisplayName</th>\n",
       "      <th>l</th>\n",
       "    </tr>\n",
       "  </thead>\n",
       "  <tbody>\n",
       "  </tbody>\n",
       "</table>\n",
       "</div>"
      ],
      "text/plain": [
       "Empty DataFrame\n",
       "Columns: [AuthorId, DisplayName, l]\n",
       "Index: []"
      ]
     },
     "execution_count": 20,
     "metadata": {},
     "output_type": "execute_result"
    }
   ],
   "source": [
    "a[a['l'] > 1]"
   ]
  },
  {
   "cell_type": "code",
   "execution_count": 21,
   "id": "07bb855b-3c99-4a7f-8679-9b3967803a83",
   "metadata": {},
   "outputs": [
    {
     "data": {
      "text/html": [
       "<table>\n",
       "<thead>\n",
       "<tr><th>#                            </th><th style=\"text-align: right;\">  AuthorId</th><th>DisplayName  </th><th style=\"text-align: right;\">  PaperCount</th><th style=\"text-align: right;\">  CitationCount</th></tr>\n",
       "</thead>\n",
       "<tbody>\n",
       "<tr><td><i style='opacity: 0.6'>0</i></td><td style=\"text-align: right;\">2103588639</td><td>Evan Collins </td><td style=\"text-align: right;\">          31</td><td style=\"text-align: right;\">            547</td></tr>\n",
       "<tr><td><i style='opacity: 0.6'>1</i></td><td style=\"text-align: right;\">2126002660</td><td>Evan Collins </td><td style=\"text-align: right;\">           9</td><td style=\"text-align: right;\">            117</td></tr>\n",
       "<tr><td><i style='opacity: 0.6'>2</i></td><td style=\"text-align: right;\">2167181283</td><td>Evan Collins </td><td style=\"text-align: right;\">           1</td><td style=\"text-align: right;\">              9</td></tr>\n",
       "<tr><td><i style='opacity: 0.6'>3</i></td><td style=\"text-align: right;\">2626295197</td><td>Evan Collins </td><td style=\"text-align: right;\">           1</td><td style=\"text-align: right;\">              0</td></tr>\n",
       "<tr><td><i style='opacity: 0.6'>4</i></td><td style=\"text-align: right;\">2634433144</td><td>Evan Collins </td><td style=\"text-align: right;\">           1</td><td style=\"text-align: right;\">              0</td></tr>\n",
       "<tr><td><i style='opacity: 0.6'>5</i></td><td style=\"text-align: right;\">2699558843</td><td>Evan Collins </td><td style=\"text-align: right;\">           1</td><td style=\"text-align: right;\">              0</td></tr>\n",
       "<tr><td><i style='opacity: 0.6'>6</i></td><td style=\"text-align: right;\">3038010229</td><td>Evan Collins </td><td style=\"text-align: right;\">           1</td><td style=\"text-align: right;\">              7</td></tr>\n",
       "<tr><td><i style='opacity: 0.6'>7</i></td><td style=\"text-align: right;\">3126495623</td><td>Evan Collins </td><td style=\"text-align: right;\">           1</td><td style=\"text-align: right;\">              0</td></tr>\n",
       "<tr><td><i style='opacity: 0.6'>8</i></td><td style=\"text-align: right;\">3153112595</td><td>Evan Collins </td><td style=\"text-align: right;\">           1</td><td style=\"text-align: right;\">              0</td></tr>\n",
       "</tbody>\n",
       "</table>"
      ],
      "text/plain": [
       "  #    AuthorId  DisplayName      PaperCount    CitationCount\n",
       "  0  2103588639  Evan Collins             31              547\n",
       "  1  2126002660  Evan Collins              9              117\n",
       "  2  2167181283  Evan Collins              1                9\n",
       "  3  2626295197  Evan Collins              1                0\n",
       "  4  2634433144  Evan Collins              1                0\n",
       "  5  2699558843  Evan Collins              1                0\n",
       "  6  3038010229  Evan Collins              1                7\n",
       "  7  3126495623  Evan Collins              1                0\n",
       "  8  3153112595  Evan Collins              1                0"
      ]
     },
     "execution_count": 21,
     "metadata": {},
     "output_type": "execute_result"
    }
   ],
   "source": [
    "vaex_mag_authors[vaex_mag_authors['DisplayName'] == 'Evan Collins']"
   ]
  },
  {
   "cell_type": "code",
   "execution_count": 22,
   "id": "6d7d8b45-2357-4791-9bef-5efdd589be9b",
   "metadata": {},
   "outputs": [
    {
     "data": {
      "text/html": [
       "<table>\n",
       "<thead>\n",
       "<tr><th>#                            </th><th style=\"text-align: right;\">  AuthorId</th><th>DisplayName    </th><th style=\"text-align: right;\">  PaperCount</th><th style=\"text-align: right;\">  CitationCount</th></tr>\n",
       "</thead>\n",
       "<tbody>\n",
       "<tr><td><i style='opacity: 0.6'>0</i></td><td style=\"text-align: right;\">2462253387</td><td>Evan J. Collins</td><td style=\"text-align: right;\">           2</td><td style=\"text-align: right;\">            159</td></tr>\n",
       "<tr><td><i style='opacity: 0.6'>1</i></td><td style=\"text-align: right;\">3204714086</td><td>Evan J. Collins</td><td style=\"text-align: right;\">           1</td><td style=\"text-align: right;\">              9</td></tr>\n",
       "</tbody>\n",
       "</table>"
      ],
      "text/plain": [
       "  #    AuthorId  DisplayName        PaperCount    CitationCount\n",
       "  0  2462253387  Evan J. Collins             2              159\n",
       "  1  3204714086  Evan J. Collins             1                9"
      ]
     },
     "execution_count": 22,
     "metadata": {},
     "output_type": "execute_result"
    }
   ],
   "source": [
    "vaex_mag_authors[vaex_mag_authors['DisplayName'] == 'Evan J. Collins']"
   ]
  },
  {
   "cell_type": "markdown",
   "id": "1621b1a3-ed12-4ac8-a894-deee91b5134d",
   "metadata": {},
   "source": [
    "### afil"
   ]
  },
  {
   "cell_type": "code",
   "execution_count": 4,
   "id": "c24c3d44-417b-4921-9874-8ebbf2998fc6",
   "metadata": {},
   "outputs": [],
   "source": [
    "# read hdf5 ? from 2nd time\n",
    "vaex_mag_pauthorAffil = vaex.open('../../data-MAG/PaperAuthorAffiliations/PaperAuthorAffiliations.txt.hdf5')"
   ]
  },
  {
   "cell_type": "code",
   "execution_count": 10,
   "id": "a631d23d-08a0-4785-a0ea-ee20651ec591",
   "metadata": {},
   "outputs": [
    {
     "data": {
      "text/html": [
       "<table>\n",
       "<thead>\n",
       "<tr><th>#                            </th><th style=\"text-align: right;\">  PaperId</th><th style=\"text-align: right;\">  AuthorId</th><th style=\"text-align: right;\">  AffiliationId</th><th style=\"text-align: right;\">  AuthorSequenceNumber</th><th>OriginalAuthor               </th><th>OriginalAffiliation                                </th></tr>\n",
       "</thead>\n",
       "<tbody>\n",
       "<tr><td><i style='opacity: 0.6'>0</i></td><td style=\"text-align: right;\">        9</td><td style=\"text-align: right;\">2632942543</td><td style=\"text-align: right;\">  nan          </td><td style=\"text-align: right;\">                     1</td><td>Victoriano Perruca Albadalejo</td><td>--                                                 </td></tr>\n",
       "<tr><td><i style='opacity: 0.6'>1</i></td><td style=\"text-align: right;\">       15</td><td style=\"text-align: right;\"> 199142497</td><td style=\"text-align: right;\">  nan          </td><td style=\"text-align: right;\">                     1</td><td>Robert Münscher              </td><td>Heidelberg, Deutschland                            </td></tr>\n",
       "<tr><td><i style='opacity: 0.6'>2</i></td><td style=\"text-align: right;\">       15</td><td style=\"text-align: right;\"> 680395887</td><td style=\"text-align: right;\">  nan          </td><td style=\"text-align: right;\">                     2</td><td>Julia Hormuth                </td><td>Reutlingen, Deutschland                            </td></tr>\n",
       "<tr><td><i style='opacity: 0.6'>3</i></td><td style=\"text-align: right;\">       23</td><td style=\"text-align: right;\">1243978490</td><td style=\"text-align: right;\">    7.95769e+07</td><td style=\"text-align: right;\">                     1</td><td>Eric T Stoopler              </td><td>&#x27;Department of Oral Medicine, University of Penn...</td></tr>\n",
       "<tr><td><i style='opacity: 0.6'>4</i></td><td style=\"text-align: right;\">       23</td><td style=\"text-align: right;\">2582258949</td><td style=\"text-align: right;\">  nan          </td><td style=\"text-align: right;\">                     3</td><td>Arthur S Kuperstein          </td><td>--                                                 </td></tr>\n",
       "<tr><td><i style='opacity: 0.6'>5</i></td><td style=\"text-align: right;\">       23</td><td style=\"text-align: right;\">2582736345</td><td style=\"text-align: right;\">  nan          </td><td style=\"text-align: right;\">                     2</td><td>Ying Wai Sia                 </td><td>--                                                 </td></tr>\n",
       "<tr><td><i style='opacity: 0.6'>6</i></td><td style=\"text-align: right;\">       58</td><td style=\"text-align: right;\">2641488431</td><td style=\"text-align: right;\">  nan          </td><td style=\"text-align: right;\">                     1</td><td>I. Uray                      </td><td>--                                                 </td></tr>\n",
       "<tr><td><i style='opacity: 0.6'>7</i></td><td style=\"text-align: right;\">       58</td><td style=\"text-align: right;\">2693978806</td><td style=\"text-align: right;\">  nan          </td><td style=\"text-align: right;\">                     2</td><td>P. Kovacs                    </td><td>--                                                 </td></tr>\n",
       "<tr><td><i style='opacity: 0.6'>8</i></td><td style=\"text-align: right;\">       79</td><td style=\"text-align: right;\">2662843304</td><td style=\"text-align: right;\">  nan          </td><td style=\"text-align: right;\">                     1</td><td>K. Suresh                    </td><td>--                                                 </td></tr>\n",
       "<tr><td><i style='opacity: 0.6'>9</i></td><td style=\"text-align: right;\">       79</td><td style=\"text-align: right;\">2683440697</td><td style=\"text-align: right;\">  nan          </td><td style=\"text-align: right;\">                     2</td><td>T. S. J. Norman              </td><td>--                                                 </td></tr>\n",
       "</tbody>\n",
       "</table>"
      ],
      "text/plain": [
       "  #    PaperId    AuthorId    AffiliationId    AuthorSequenceNumber  OriginalAuthor                 OriginalAffiliation\n",
       "  0          9  2632942543    nan                                 1  Victoriano Perruca Albadalejo  --\n",
       "  1         15   199142497    nan                                 1  Robert Münscher                Heidelberg, Deutschland\n",
       "  2         15   680395887    nan                                 2  Julia Hormuth                  Reutlingen, Deutschland\n",
       "  3         23  1243978490      7.95769e+07                       1  Eric T Stoopler                'Department of Oral Medicine, University of Penn...\n",
       "  4         23  2582258949    nan                                 3  Arthur S Kuperstein            --\n",
       "  5         23  2582736345    nan                                 2  Ying Wai Sia                   --\n",
       "  6         58  2641488431    nan                                 1  I. Uray                        --\n",
       "  7         58  2693978806    nan                                 2  P. Kovacs                      --\n",
       "  8         79  2662843304    nan                                 1  K. Suresh                      --\n",
       "  9         79  2683440697    nan                                 2  T. S. J. Norman                --"
      ]
     },
     "execution_count": 10,
     "metadata": {},
     "output_type": "execute_result"
    }
   ],
   "source": [
    "vaex_mag_pauthorAffil.head()"
   ]
  },
  {
   "cell_type": "markdown",
   "id": "15ce32ca-40d7-4b0d-87fc-2725e1e9d1bb",
   "metadata": {},
   "source": [
    "### PaperAuthorAffiliations.csvのデータ"
   ]
  },
  {
   "cell_type": "code",
   "execution_count": 11,
   "id": "c51bf695-e789-45bf-a6e3-39d2a98c05f3",
   "metadata": {
    "tags": []
   },
   "outputs": [
    {
     "data": {
      "text/plain": [
       "{2096778356,\n",
       " 2103588639,\n",
       " 2126002660,\n",
       " 2167181283,\n",
       " 2527022302,\n",
       " 2626295197,\n",
       " 2634433144,\n",
       " 2699558843,\n",
       " 2999091831,\n",
       " 3038010229,\n",
       " 3126495623,\n",
       " 3153112595}"
      ]
     },
     "execution_count": 11,
     "metadata": {},
     "output_type": "execute_result"
    }
   ],
   "source": [
    "# 'Evan Collins'でヒットするauthorId\n",
    "authorIds_Evan = vaex_mag_pauthorAffil[vaex_mag_pauthorAffil['OriginalAuthor'] == 'Evan Collins']['AuthorId'].tolist()\n",
    "set(authorIds_Evan)"
   ]
  },
  {
   "cell_type": "code",
   "execution_count": 40,
   "id": "fc4ed098-3242-46d2-817c-f9ba36c5205a",
   "metadata": {},
   "outputs": [
    {
     "data": {
      "text/plain": [
       "{2103588639, 2462253387, 3204714086}"
      ]
     },
     "execution_count": 40,
     "metadata": {},
     "output_type": "execute_result"
    }
   ],
   "source": [
    "# 'Evan J. Collins'でヒットするauthorId\n",
    "authorIds_Evan_middle = vaex_mag_pauthorAffil[vaex_mag_pauthorAffil['OriginalAuthor'] == 'Evan J. Collins']['AuthorId'].tolist()\n",
    "set(authorIds_Evan_middle)"
   ]
  },
  {
   "cell_type": "code",
   "execution_count": 42,
   "id": "c8a05f6e-eb9d-46f9-be2a-aa12438bd1b3",
   "metadata": {},
   "outputs": [
    {
     "name": "stdout",
     "output_type": "stream",
     "text": [
      "二つの名前(ミドルネーム有無)で共通のauthorId) = {2103588639}\n"
     ]
    }
   ],
   "source": [
    "print(f\"二つの名前(ミドルネーム有無)で共通のauthorId) = {set(authorIds_Evan) & set(authorIds_Evan_middle)}\")"
   ]
  },
  {
   "cell_type": "code",
   "execution_count": 43,
   "id": "b27a87a0-167c-4799-ae82-ebadffd4dea4",
   "metadata": {},
   "outputs": [
    {
     "data": {
      "text/html": [
       "<table>\n",
       "<thead>\n",
       "<tr><th>#                             </th><th>PaperId   </th><th>AuthorId  </th><th>AffiliationId  </th><th>AuthorSequenceNumber  </th><th>OriginalAuthor  </th><th>OriginalAffiliation                                </th></tr>\n",
       "</thead>\n",
       "<tbody>\n",
       "<tr><td><i style='opacity: 0.6'>0</i> </td><td>87677189  </td><td>2103588639</td><td>185261750.0    </td><td>3                     </td><td>E J Collins     </td><td>&#x27;3 Assistant Professor, Department of Psychiatry...</td></tr>\n",
       "<tr><td><i style='opacity: 0.6'>1</i> </td><td>142509115 </td><td>2103588639</td><td>185261750.0    </td><td>1                     </td><td>E Collins       </td><td>Department of Psychiatry, University of Toronto.   </td></tr>\n",
       "<tr><td><i style='opacity: 0.6'>2</i> </td><td>1559539144</td><td>2103588639</td><td>185261750.0    </td><td>1                     </td><td>Evan J. Collins </td><td>&#x27;Department of Psychiatry , University of Toront...</td></tr>\n",
       "<tr><td><i style='opacity: 0.6'>3</i> </td><td>1969397418</td><td>2103588639</td><td>185261750.0    </td><td>2                     </td><td>Evan J. Collins </td><td>&#x27;Department of Psychiatry, University of Toronto...</td></tr>\n",
       "<tr><td><i style='opacity: 0.6'>4</i> </td><td>1989962862</td><td>2103588639</td><td>185261750.0    </td><td>2                     </td><td>Evan Collins    </td><td>&#x27;Department of Psychiatry, University of Toronto...</td></tr>\n",
       "<tr><td>...                           </td><td>...       </td><td>...       </td><td>...            </td><td>...                   </td><td>...             </td><td>...                                                </td></tr>\n",
       "<tr><td><i style='opacity: 0.6'>33</i></td><td>2797606311</td><td>2103588639</td><td>1325899441.0   </td><td>6                     </td><td>Evan J Collins  </td><td>&#x27;University Health Network, Toronto, Ontario, Ca...</td></tr>\n",
       "<tr><td><i style='opacity: 0.6'>34</i></td><td>2907849286</td><td>2103588639</td><td>nan            </td><td>2                     </td><td>Evan Collins    </td><td>--                                                 </td></tr>\n",
       "<tr><td><i style='opacity: 0.6'>35</i></td><td>2914294466</td><td>2103588639</td><td>nan            </td><td>2                     </td><td>Evan Collins    </td><td>--                                                 </td></tr>\n",
       "<tr><td><i style='opacity: 0.6'>36</i></td><td>2969396753</td><td>2103588639</td><td>nan            </td><td>5                     </td><td>Evan Collins    </td><td>--                                                 </td></tr>\n",
       "<tr><td><i style='opacity: 0.6'>37</i></td><td>2974916533</td><td>2103588639</td><td>nan            </td><td>5                     </td><td>Evan Collins    </td><td>--                                                 </td></tr>\n",
       "</tbody>\n",
       "</table>"
      ],
      "text/plain": [
       "#    PaperId     AuthorId    AffiliationId    AuthorSequenceNumber    OriginalAuthor    OriginalAffiliation\n",
       "0    87677189    2103588639  185261750.0      3                       E J Collins       '3 Assistant Professor, Department of Psychiatry...\n",
       "1    142509115   2103588639  185261750.0      1                       E Collins         Department of Psychiatry, University of Toronto.\n",
       "2    1559539144  2103588639  185261750.0      1                       Evan J. Collins   'Department of Psychiatry , University of Toront...\n",
       "3    1969397418  2103588639  185261750.0      2                       Evan J. Collins   'Department of Psychiatry, University of Toronto...\n",
       "4    1989962862  2103588639  185261750.0      2                       Evan Collins      'Department of Psychiatry, University of Toronto...\n",
       "...  ...         ...         ...              ...                     ...               ...\n",
       "33   2797606311  2103588639  1325899441.0     6                       Evan J Collins    'University Health Network, Toronto, Ontario, Ca...\n",
       "34   2907849286  2103588639  nan              2                       Evan Collins      --\n",
       "35   2914294466  2103588639  nan              2                       Evan Collins      --\n",
       "36   2969396753  2103588639  nan              5                       Evan Collins      --\n",
       "37   2974916533  2103588639  nan              5                       Evan Collins      --"
      ]
     },
     "execution_count": 43,
     "metadata": {},
     "output_type": "execute_result"
    }
   ],
   "source": [
    "# authorId == '2103588639'　で検索してヒットした結果\n",
    "vaex_mag_pauthorAffil[vaex_mag_pauthorAffil['AuthorId'] == 2103588639]"
   ]
  },
  {
   "cell_type": "markdown",
   "id": "60fedfaf-1a2e-4bd0-bacd-d7cd9f18e754",
   "metadata": {},
   "source": [
    "### Author.csvのデータ"
   ]
  },
  {
   "cell_type": "code",
   "execution_count": 44,
   "id": "11cac302-5843-4e82-bd3a-baaf131dfa1f",
   "metadata": {},
   "outputs": [
    {
     "data": {
      "text/html": [
       "<table>\n",
       "<thead>\n",
       "<tr><th>#                            </th><th style=\"text-align: right;\">  AuthorId</th><th>DisplayName  </th><th style=\"text-align: right;\">  PaperCount</th><th style=\"text-align: right;\">  CitationCount</th></tr>\n",
       "</thead>\n",
       "<tbody>\n",
       "<tr><td><i style='opacity: 0.6'>0</i></td><td style=\"text-align: right;\">2103588639</td><td>Evan Collins </td><td style=\"text-align: right;\">          31</td><td style=\"text-align: right;\">            547</td></tr>\n",
       "</tbody>\n",
       "</table>"
      ],
      "text/plain": [
       "  #    AuthorId  DisplayName      PaperCount    CitationCount\n",
       "  0  2103588639  Evan Collins             31              547"
      ]
     },
     "execution_count": 44,
     "metadata": {},
     "output_type": "execute_result"
    }
   ],
   "source": [
    "# author data\n",
    "vaex_mag_authors[vaex_mag_authors['AuthorId'] == 2103588639]"
   ]
  },
  {
   "cell_type": "code",
   "execution_count": null,
   "id": "fb6b7bec-211d-43e0-a613-21e84938d2bc",
   "metadata": {},
   "outputs": [],
   "source": [
    "PaperAuthorAffiliationsには一つのauthorIdに対して複数の名前（ミドル有無）があるが，Authorのデータには一つのauthorIdに一つの名前の構造を持ってるみたい"
   ]
  },
  {
   "cell_type": "code",
   "execution_count": null,
   "id": "4e951204-de09-458b-be00-a3388f7bc4f5",
   "metadata": {},
   "outputs": [],
   "source": [
    "def determine_acknow(acknow_name):\n",
    "    1. if name in (MAGのauthors)\n",
    "    \n",
    "    2. 次のうちのいづれかに当てはまる．\n",
    "        2-1. その論文の著者と共著関係にある\n",
    "        2-2. acknow\n"
   ]
  },
  {
   "cell_type": "code",
   "execution_count": null,
   "id": "0eb5cfd6-d3c1-4a46-9d7c-8c7d85bf7833",
   "metadata": {},
   "outputs": [],
   "source": []
  },
  {
   "cell_type": "code",
   "execution_count": null,
   "id": "afcf989c-da23-4608-8fad-171b1066c148",
   "metadata": {},
   "outputs": [],
   "source": []
  },
  {
   "cell_type": "code",
   "execution_count": null,
   "id": "fb0c19b4-b5c8-4161-a7bd-3306f780d4db",
   "metadata": {},
   "outputs": [],
   "source": []
  },
  {
   "cell_type": "code",
   "execution_count": 9,
   "id": "146e3295-90eb-429c-ad4a-c340cf94f483",
   "metadata": {},
   "outputs": [
    {
     "data": {
      "text/html": [
       "<table>\n",
       "<thead>\n",
       "<tr><th>#                             </th><th>PaperId  </th><th>AuthorId  </th><th>AffiliationId  </th><th>AuthorSequenceNumber  </th><th>OriginalAuthor               </th><th>OriginalAffiliation                                </th></tr>\n",
       "</thead>\n",
       "<tbody>\n",
       "<tr><td><i style='opacity: 0.6'>0</i> </td><td>9        </td><td>2632942543</td><td>nan            </td><td>1                     </td><td>Victoriano Perruca Albadalejo</td><td>--                                                 </td></tr>\n",
       "<tr><td><i style='opacity: 0.6'>1</i> </td><td>15       </td><td>199142497 </td><td>nan            </td><td>1                     </td><td>Robert Münscher              </td><td>Heidelberg, Deutschland                            </td></tr>\n",
       "<tr><td><i style='opacity: 0.6'>2</i> </td><td>15       </td><td>680395887 </td><td>nan            </td><td>2                     </td><td>Julia Hormuth                </td><td>Reutlingen, Deutschland                            </td></tr>\n",
       "<tr><td><i style='opacity: 0.6'>3</i> </td><td>23       </td><td>1243978490</td><td>79576946.0     </td><td>1                     </td><td>Eric T Stoopler              </td><td>&#x27;Department of Oral Medicine, University of Penn...</td></tr>\n",
       "<tr><td><i style='opacity: 0.6'>4</i> </td><td>23       </td><td>2582258949</td><td>nan            </td><td>3                     </td><td>Arthur S Kuperstein          </td><td>--                                                 </td></tr>\n",
       "<tr><td>...                           </td><td>...      </td><td>...       </td><td>...            </td><td>...                   </td><td>...                          </td><td>...                                                </td></tr>\n",
       "<tr><td><i style='opacity: 0.6'>95</i></td><td>527      </td><td>2374390855</td><td>nan            </td><td>5                     </td><td>Ospedaliera Careggi          </td><td>--                                                 </td></tr>\n",
       "<tr><td><i style='opacity: 0.6'>96</i></td><td>527      </td><td>2377816078</td><td>nan            </td><td>4                     </td><td>A. Di Iorio                  </td><td>--                                                 </td></tr>\n",
       "<tr><td><i style='opacity: 0.6'>97</i></td><td>527      </td><td>2690344396</td><td>nan            </td><td>2                     </td><td>F. Salti                     </td><td>--                                                 </td></tr>\n",
       "<tr><td><i style='opacity: 0.6'>98</i></td><td>527      </td><td>3177711177</td><td>nan            </td><td>3                     </td><td>M. Di Bari                   </td><td>--                                                 </td></tr>\n",
       "<tr><td><i style='opacity: 0.6'>99</i></td><td>531      </td><td>2994064953</td><td>nan            </td><td>1                     </td><td>Jesús Morán                  </td><td>--                                                 </td></tr>\n",
       "</tbody>\n",
       "</table>"
      ],
      "text/plain": [
       "#    PaperId    AuthorId    AffiliationId    AuthorSequenceNumber    OriginalAuthor                 OriginalAffiliation\n",
       "0    9          2632942543  nan              1                       Victoriano Perruca Albadalejo  --\n",
       "1    15         199142497   nan              1                       Robert Münscher                Heidelberg, Deutschland\n",
       "2    15         680395887   nan              2                       Julia Hormuth                  Reutlingen, Deutschland\n",
       "3    23         1243978490  79576946.0       1                       Eric T Stoopler                'Department of Oral Medicine, University of Penn...\n",
       "4    23         2582258949  nan              3                       Arthur S Kuperstein            --\n",
       "...  ...        ...         ...              ...                     ...                            ...\n",
       "95   527        2374390855  nan              5                       Ospedaliera Careggi            --\n",
       "96   527        2377816078  nan              4                       A. Di Iorio                    --\n",
       "97   527        2690344396  nan              2                       F. Salti                       --\n",
       "98   527        3177711177  nan              3                       M. Di Bari                     --\n",
       "99   531        2994064953  nan              1                       Jesús Morán                    --"
      ]
     },
     "execution_count": 9,
     "metadata": {},
     "output_type": "execute_result"
    }
   ],
   "source": [
    "vaex_mag_pauthorAffil[:100]"
   ]
  },
  {
   "cell_type": "code",
   "execution_count": 10,
   "id": "7b6e19cf-f047-44bd-ba0c-32ef35635f9a",
   "metadata": {
    "collapsed": true,
    "jupyter": {
     "outputs_hidden": true
    },
    "tags": []
   },
   "outputs": [
    {
     "data": {
      "text/plain": [
       "[2569091078,\n",
       " 2989460491,\n",
       " 2420242446,\n",
       " 2377816078,\n",
       " 2093335569,\n",
       " 1987172384,\n",
       " 2513599012,\n",
       " 3065960493,\n",
       " 2641488431,\n",
       " 2683440697,\n",
       " 2986855994,\n",
       " 2994064953,\n",
       " 569306176,\n",
       " 3148567105,\n",
       " 2374390855,\n",
       " 3177711177,\n",
       " 2639059018,\n",
       " 2687620170,\n",
       " 2970207820,\n",
       " 2060815960,\n",
       " 216858715,\n",
       " 199142497,\n",
       " 2037492834,\n",
       " 2729948773,\n",
       " 680395887,\n",
       " 2988006516,\n",
       " 660847232,\n",
       " 2137699977,\n",
       " 2165699729,\n",
       " 2676159639,\n",
       " 2477911198,\n",
       " 2694702754,\n",
       " 2798687400,\n",
       " 2668836008,\n",
       " 2825090221,\n",
       " 2639851184,\n",
       " 2134135475,\n",
       " 1988141747,\n",
       " 2693978806,\n",
       " 2840941757,\n",
       " 3051458240,\n",
       " 2098218692,\n",
       " 1616641752,\n",
       " 2097351386,\n",
       " 2112958178,\n",
       " 3066834665,\n",
       " 2833775853,\n",
       " 2126642415,\n",
       " 358499567,\n",
       " 2303176947,\n",
       " 2423554807,\n",
       " 1243978490,\n",
       " 2102314242,\n",
       " 2582258949,\n",
       " 2342868756,\n",
       " 2060325654,\n",
       " 2223209249,\n",
       " 2635294500,\n",
       " 2984335144,\n",
       " 2095786793,\n",
       " 2166811948,\n",
       " 1995014452,\n",
       " 2110272823,\n",
       " 1333279034,\n",
       " 2201726270,\n",
       " 2674341697,\n",
       " 2002579779,\n",
       " 2636626246,\n",
       " 2673229653,\n",
       " 2570002773,\n",
       " 2116757349,\n",
       " 2119155047,\n",
       " 2283694448,\n",
       " 1974340478,\n",
       " 2662843304,\n",
       " 3075130288,\n",
       " 1969085362,\n",
       " 2419810751,\n",
       " 45818308,\n",
       " 3073946572,\n",
       " 2230134732,\n",
       " 2690344396,\n",
       " 2632942543,\n",
       " 2496291280,\n",
       " 2582736345,\n",
       " 2295795676,\n",
       " 2843661790,\n",
       " 2250382311,\n",
       " 2421676522,\n",
       " 2462990842]"
      ]
     },
     "execution_count": 10,
     "metadata": {},
     "output_type": "execute_result"
    }
   ],
   "source": [
    "list(set(vaex_mag_pauthorAffil[:100]['AuthorId'].tolist()))"
   ]
  },
  {
   "cell_type": "code",
   "execution_count": 5,
   "id": "30056be2-bb32-4a4c-b9b3-a766fbdda75c",
   "metadata": {},
   "outputs": [
    {
     "data": {
      "text/html": [
       "<table>\n",
       "<thead>\n",
       "<tr><th>#                             </th><th>PaperId   </th><th>AuthorId  </th><th>AffiliationId  </th><th>AuthorSequenceNumber  </th><th>OriginalAuthor  </th><th>OriginalAffiliation                                </th></tr>\n",
       "</thead>\n",
       "<tbody>\n",
       "<tr><td><i style='opacity: 0.6'>0</i> </td><td>87677189  </td><td>2103588639</td><td>185261750.0    </td><td>3                     </td><td>E J Collins     </td><td>&#x27;3 Assistant Professor, Department of Psychiatry...</td></tr>\n",
       "<tr><td><i style='opacity: 0.6'>1</i> </td><td>142509115 </td><td>2103588639</td><td>185261750.0    </td><td>1                     </td><td>E Collins       </td><td>Department of Psychiatry, University of Toronto.   </td></tr>\n",
       "<tr><td><i style='opacity: 0.6'>2</i> </td><td>1559539144</td><td>2103588639</td><td>185261750.0    </td><td>1                     </td><td>Evan J. Collins </td><td>&#x27;Department of Psychiatry , University of Toront...</td></tr>\n",
       "<tr><td><i style='opacity: 0.6'>3</i> </td><td>1969397418</td><td>2103588639</td><td>185261750.0    </td><td>2                     </td><td>Evan J. Collins </td><td>&#x27;Department of Psychiatry, University of Toronto...</td></tr>\n",
       "<tr><td><i style='opacity: 0.6'>4</i> </td><td>1989962862</td><td>2103588639</td><td>185261750.0    </td><td>2                     </td><td>Evan Collins    </td><td>&#x27;Department of Psychiatry, University of Toronto...</td></tr>\n",
       "<tr><td>...                           </td><td>...       </td><td>...       </td><td>...            </td><td>...                   </td><td>...             </td><td>...                                                </td></tr>\n",
       "<tr><td><i style='opacity: 0.6'>33</i></td><td>2797606311</td><td>2103588639</td><td>1325899441.0   </td><td>6                     </td><td>Evan J Collins  </td><td>&#x27;University Health Network, Toronto, Ontario, Ca...</td></tr>\n",
       "<tr><td><i style='opacity: 0.6'>34</i></td><td>2907849286</td><td>2103588639</td><td>nan            </td><td>2                     </td><td>Evan Collins    </td><td>--                                                 </td></tr>\n",
       "<tr><td><i style='opacity: 0.6'>35</i></td><td>2914294466</td><td>2103588639</td><td>nan            </td><td>2                     </td><td>Evan Collins    </td><td>--                                                 </td></tr>\n",
       "<tr><td><i style='opacity: 0.6'>36</i></td><td>2969396753</td><td>2103588639</td><td>nan            </td><td>5                     </td><td>Evan Collins    </td><td>--                                                 </td></tr>\n",
       "<tr><td><i style='opacity: 0.6'>37</i></td><td>2974916533</td><td>2103588639</td><td>nan            </td><td>5                     </td><td>Evan Collins    </td><td>--                                                 </td></tr>\n",
       "</tbody>\n",
       "</table>"
      ],
      "text/plain": [
       "#    PaperId     AuthorId    AffiliationId    AuthorSequenceNumber    OriginalAuthor    OriginalAffiliation\n",
       "0    87677189    2103588639  185261750.0      3                       E J Collins       '3 Assistant Professor, Department of Psychiatry...\n",
       "1    142509115   2103588639  185261750.0      1                       E Collins         Department of Psychiatry, University of Toronto.\n",
       "2    1559539144  2103588639  185261750.0      1                       Evan J. Collins   'Department of Psychiatry , University of Toront...\n",
       "3    1969397418  2103588639  185261750.0      2                       Evan J. Collins   'Department of Psychiatry, University of Toronto...\n",
       "4    1989962862  2103588639  185261750.0      2                       Evan Collins      'Department of Psychiatry, University of Toronto...\n",
       "...  ...         ...         ...              ...                     ...               ...\n",
       "33   2797606311  2103588639  1325899441.0     6                       Evan J Collins    'University Health Network, Toronto, Ontario, Ca...\n",
       "34   2907849286  2103588639  nan              2                       Evan Collins      --\n",
       "35   2914294466  2103588639  nan              2                       Evan Collins      --\n",
       "36   2969396753  2103588639  nan              5                       Evan Collins      --\n",
       "37   2974916533  2103588639  nan              5                       Evan Collins      --"
      ]
     },
     "execution_count": 5,
     "metadata": {},
     "output_type": "execute_result"
    }
   ],
   "source": [
    "vaex_mag_pauthorAffil[vaex_mag_pauthorAffil['AuthorId'] == 2103588639]"
   ]
  },
  {
   "cell_type": "code",
   "execution_count": 11,
   "id": "8ee92900-344e-49c2-a3ce-e2218c4df564",
   "metadata": {},
   "outputs": [
    {
     "data": {
      "text/html": [
       "<table>\n",
       "<thead>\n",
       "<tr><th>#                             </th><th>PaperId   </th><th>AuthorId  </th><th>AffiliationId  </th><th>AuthorSequenceNumber  </th><th>OriginalAuthor  </th><th>OriginalAffiliation                                </th></tr>\n",
       "</thead>\n",
       "<tbody>\n",
       "<tr><td><i style='opacity: 0.6'>0</i> </td><td>524       </td><td>2989460491</td><td>148283060.0    </td><td>6                     </td><td>V Ninov         </td><td>&#x27;Nuclear Science Division,  Lawrence Berkeley Na...</td></tr>\n",
       "<tr><td><i style='opacity: 0.6'>1</i> </td><td>1555331153</td><td>2989460491</td><td>nan            </td><td>6                     </td><td>V. E. Ninov     </td><td>--                                                 </td></tr>\n",
       "<tr><td><i style='opacity: 0.6'>2</i> </td><td>1647782714</td><td>2989460491</td><td>nan            </td><td>8                     </td><td>Victor Ninov    </td><td>--                                                 </td></tr>\n",
       "<tr><td><i style='opacity: 0.6'>3</i> </td><td>1650058307</td><td>2989460491</td><td>nan            </td><td>3                     </td><td>V. Ninov        </td><td>--                                                 </td></tr>\n",
       "<tr><td><i style='opacity: 0.6'>4</i> </td><td>2018467599</td><td>2989460491</td><td>nan            </td><td>1                     </td><td>V. Ninov        </td><td>--                                                 </td></tr>\n",
       "<tr><td>...                           </td><td>...       </td><td>...       </td><td>...            </td><td>...                   </td><td>...             </td><td>...                                                </td></tr>\n",
       "<tr><td><i style='opacity: 0.6'>9</i> </td><td>3083535385</td><td>2989460491</td><td>nan            </td><td>4                     </td><td>V. Ninov        </td><td>--                                                 </td></tr>\n",
       "<tr><td><i style='opacity: 0.6'>10</i></td><td>3119663853</td><td>2989460491</td><td>nan            </td><td>8                     </td><td>Victor Ninov    </td><td>--                                                 </td></tr>\n",
       "<tr><td><i style='opacity: 0.6'>11</i></td><td>3130051051</td><td>2989460491</td><td>148283060.0    </td><td>7                     </td><td>V. Ninov        </td><td>&#x27;Nuclear Science Division, Lawrence Berkeley Nat...</td></tr>\n",
       "<tr><td><i style='opacity: 0.6'>12</i></td><td>3198612602</td><td>2989460491</td><td>nan            </td><td>3                     </td><td>V. Ninov        </td><td>--                                                 </td></tr>\n",
       "<tr><td><i style='opacity: 0.6'>13</i></td><td>3199067884</td><td>2989460491</td><td>nan            </td><td>5                     </td><td>Victor Ninov    </td><td>--                                                 </td></tr>\n",
       "</tbody>\n",
       "</table>"
      ],
      "text/plain": [
       "#    PaperId     AuthorId    AffiliationId    AuthorSequenceNumber    OriginalAuthor    OriginalAffiliation\n",
       "0    524         2989460491  148283060.0      6                       V Ninov           'Nuclear Science Division,  Lawrence Berkeley Na...\n",
       "1    1555331153  2989460491  nan              6                       V. E. Ninov       --\n",
       "2    1647782714  2989460491  nan              8                       Victor Ninov      --\n",
       "3    1650058307  2989460491  nan              3                       V. Ninov          --\n",
       "4    2018467599  2989460491  nan              1                       V. Ninov          --\n",
       "...  ...         ...         ...              ...                     ...               ...\n",
       "9    3083535385  2989460491  nan              4                       V. Ninov          --\n",
       "10   3119663853  2989460491  nan              8                       Victor Ninov      --\n",
       "11   3130051051  2989460491  148283060.0      7                       V. Ninov          'Nuclear Science Division, Lawrence Berkeley Nat...\n",
       "12   3198612602  2989460491  nan              3                       V. Ninov          --\n",
       "13   3199067884  2989460491  nan              5                       Victor Ninov      --"
      ]
     },
     "execution_count": 11,
     "metadata": {},
     "output_type": "execute_result"
    }
   ],
   "source": [
    "vaex_mag_pauthorAffil[vaex_mag_pauthorAffil['AuthorId'] == 2989460491]"
   ]
  },
  {
   "cell_type": "code",
   "execution_count": null,
   "id": "84b83741-7e40-45b1-9d14-221653e20024",
   "metadata": {},
   "outputs": [],
   "source": []
  }
 ],
 "metadata": {
  "kernelspec": {
   "display_name": "Python 3 (ipykernel)",
   "language": "python",
   "name": "python3"
  },
  "language_info": {
   "codemirror_mode": {
    "name": "ipython",
    "version": 3
   },
   "file_extension": ".py",
   "mimetype": "text/x-python",
   "name": "python",
   "nbconvert_exporter": "python",
   "pygments_lexer": "ipython3",
   "version": "3.9.6"
  }
 },
 "nbformat": 4,
 "nbformat_minor": 5
}
