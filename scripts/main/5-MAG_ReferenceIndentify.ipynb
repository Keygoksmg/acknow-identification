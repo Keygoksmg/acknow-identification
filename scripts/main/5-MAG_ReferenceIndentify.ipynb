{
 "cells": [
  {
   "cell_type": "markdown",
   "id": "449dc3b4-ef1c-4074-a47f-0a8a55e6d7fa",
   "metadata": {},
   "source": [
    "# Create an edgelist of identified acknowledged scholar from citation approach\n",
    "We wiil see that an acknowledged individual name is registered in MAG and on the list of references in the acknowledged papers."
   ]
  },
  {
   "cell_type": "code",
   "execution_count": 19,
   "id": "9a18e338-5323-46b7-a9fd-4d6b89fe0652",
   "metadata": {},
   "outputs": [],
   "source": [
    "import ast\n",
    "import pandas as pd\n",
    "import vaex\n",
    "import os.path\n",
    "from ast import literal_eval\n",
    "from pathlib import Path\n",
    "\n",
    "FILES = ['compbiology', 'biology', 'medicine', 'genetics', 'ntds', 'pathogenes', 'plosone', 'srep']\n",
    "\n",
    "# Path to data\n",
    "PATH_ROW_ACKNOW = '../../data/TreatedEdgeList21'\n",
    "PATH_MAG = '../../data-MAG/'\n",
    "\n",
    "# Path to data to save\n",
    "PATH_SAVE = '../../data-computed-MAG'\n",
    "Path(PATH_SAVE).mkdir(parents=True, exist_ok=True) # create save dir if not exists"
   ]
  },
  {
   "cell_type": "code",
   "execution_count": 20,
   "id": "fb59d697-a6a6-40c2-ac8c-929d77df7b41",
   "metadata": {},
   "outputs": [],
   "source": [
    "def see(var):\n",
    "    \"\"\"funtion to check the contents of variable (dict or set)\"\"\"\n",
    "    print(type(var))\n",
    "    if type(var) == dict:\n",
    "        for i, (k, v) in enumerate(var.items()):\n",
    "            print(k, \":\", v)\n",
    "            if i == 4:\n",
    "                break\n",
    "    if type(var) == set:\n",
    "        print(list(var)[:5])\n",
    "        \n",
    "        \n",
    "def read_vaex(file_path):\n",
    "    \"\"\"\n",
    "    It may take times to read files for the first time.\n",
    "    From second time, the loading time will be shorter.\n",
    "    \"\"\"\n",
    "    if os.path.exists(file_path):\n",
    "        print('file exists')\n",
    "        return vaex.open(file_path+'.hdf5')\n",
    "    return vaex.from_csv(file_path, convert=True, chunk_size=10_000_000)"
   ]
  },
  {
   "cell_type": "markdown",
   "id": "32531364-0f84-485a-aa72-dab9902c0dbe",
   "metadata": {},
   "source": [
    "# Read Acknow data (PLOS and SciRep)"
   ]
  },
  {
   "cell_type": "code",
   "execution_count": 21,
   "id": "614ef259-c7d2-4d4c-912c-41be84646c6c",
   "metadata": {
    "tags": []
   },
   "outputs": [
    {
     "name": "stderr",
     "output_type": "stream",
     "text": [
      "/Users/keigokusumegi/.anyenv/envs/pyenv/versions/miniforge3-4.10/envs/network-analysis/lib/python3.9/site-packages/IPython/core/magics/execution.py:1321: DtypeWarning: Columns (1) have mixed types.Specify dtype option on import or set low_memory=False.\n",
      "  exec(code, glob, local_ns)\n"
     ]
    },
    {
     "name": "stdout",
     "output_type": "stream",
     "text": [
      "CPU times: user 3.39 s, sys: 449 ms, total: 3.84 s\n",
      "Wall time: 4.06 s\n"
     ]
    },
    {
     "data": {
      "text/html": [
       "<div>\n",
       "<style scoped>\n",
       "    .dataframe tbody tr th:only-of-type {\n",
       "        vertical-align: middle;\n",
       "    }\n",
       "\n",
       "    .dataframe tbody tr th {\n",
       "        vertical-align: top;\n",
       "    }\n",
       "\n",
       "    .dataframe thead th {\n",
       "        text-align: right;\n",
       "    }\n",
       "</style>\n",
       "<table border=\"1\" class=\"dataframe\">\n",
       "  <thead>\n",
       "    <tr style=\"text-align: right;\">\n",
       "      <th></th>\n",
       "      <th>paperId</th>\n",
       "      <th>author</th>\n",
       "      <th>acknow</th>\n",
       "    </tr>\n",
       "  </thead>\n",
       "  <tbody>\n",
       "    <tr>\n",
       "      <th>0</th>\n",
       "      <td>10.1371/journal.pcbi.0010001</td>\n",
       "      <td>Hanah_Margalit</td>\n",
       "      <td>Aviv_Regev</td>\n",
       "    </tr>\n",
       "    <tr>\n",
       "      <th>1</th>\n",
       "      <td>10.1371/journal.pcbi.0010001</td>\n",
       "      <td>Hanah_Margalit</td>\n",
       "      <td>Benjamin_Gordon</td>\n",
       "    </tr>\n",
       "    <tr>\n",
       "      <th>2</th>\n",
       "      <td>10.1371/journal.pcbi.0010001</td>\n",
       "      <td>Hanah_Margalit</td>\n",
       "      <td>Dalit_May</td>\n",
       "    </tr>\n",
       "    <tr>\n",
       "      <th>3</th>\n",
       "      <td>10.1371/journal.pcbi.0010001</td>\n",
       "      <td>Hanah_Margalit</td>\n",
       "      <td>Ernest_Fraenkel</td>\n",
       "    </tr>\n",
       "    <tr>\n",
       "      <th>4</th>\n",
       "      <td>10.1371/journal.pcbi.0010001</td>\n",
       "      <td>Hanah_Margalit</td>\n",
       "      <td>Lena_Nekludova</td>\n",
       "    </tr>\n",
       "  </tbody>\n",
       "</table>\n",
       "</div>"
      ],
      "text/plain": [
       "                        paperId          author           acknow\n",
       "0  10.1371/journal.pcbi.0010001  Hanah_Margalit       Aviv_Regev\n",
       "1  10.1371/journal.pcbi.0010001  Hanah_Margalit  Benjamin_Gordon\n",
       "2  10.1371/journal.pcbi.0010001  Hanah_Margalit        Dalit_May\n",
       "3  10.1371/journal.pcbi.0010001  Hanah_Margalit  Ernest_Fraenkel\n",
       "4  10.1371/journal.pcbi.0010001  Hanah_Margalit   Lena_Nekludova"
      ]
     },
     "execution_count": 21,
     "metadata": {},
     "output_type": "execute_result"
    }
   ],
   "source": [
    "%%time\n",
    "# concat all dfs\n",
    "dfs = {}\n",
    "dfs_all = pd.DataFrame()\n",
    "for file in FILES:\n",
    "#     print(f\"read file: {file}\")\n",
    "    dfs[file] = pd.read_csv(f'{PATH_ROW_ACKNOW}/{file}.csv')[['paperId', 'author', 'acknow']]\n",
    "    dfs_all = pd.concat([dfs_all, dfs[file]])\n",
    "dfs_all.head()"
   ]
  },
  {
   "cell_type": "markdown",
   "id": "d3f3a180-ce40-4ca4-9468-735cb7ba5374",
   "metadata": {},
   "source": [
    "# Read MAG data (Paper & PaperAuthorAffil) and put pid from MAG"
   ]
  },
  {
   "cell_type": "markdown",
   "id": "4a2fee51-15d3-4463-b8ac-60f956b8c4de",
   "metadata": {},
   "source": [
    "### read MAG Paper with the doi of collected data"
   ]
  },
  {
   "cell_type": "code",
   "execution_count": 22,
   "id": "a8948048-d7d0-4663-80e5-4d9fb5c532df",
   "metadata": {},
   "outputs": [
    {
     "data": {
      "text/html": [
       "<div>\n",
       "<style scoped>\n",
       "    .dataframe tbody tr th:only-of-type {\n",
       "        vertical-align: middle;\n",
       "    }\n",
       "\n",
       "    .dataframe tbody tr th {\n",
       "        vertical-align: top;\n",
       "    }\n",
       "\n",
       "    .dataframe thead th {\n",
       "        text-align: right;\n",
       "    }\n",
       "</style>\n",
       "<table border=\"1\" class=\"dataframe\">\n",
       "  <thead>\n",
       "    <tr style=\"text-align: right;\">\n",
       "      <th></th>\n",
       "      <th>pid</th>\n",
       "      <th>doi</th>\n",
       "    </tr>\n",
       "  </thead>\n",
       "  <tbody>\n",
       "    <tr>\n",
       "      <th>0</th>\n",
       "      <td>1966827022</td>\n",
       "      <td>10.1371/journal.pcbi.1002887</td>\n",
       "    </tr>\n",
       "    <tr>\n",
       "      <th>1</th>\n",
       "      <td>1970867439</td>\n",
       "      <td>10.1371/journal.pone.0040555</td>\n",
       "    </tr>\n",
       "    <tr>\n",
       "      <th>2</th>\n",
       "      <td>1974609334</td>\n",
       "      <td>10.1371/journal.pmed.1000202</td>\n",
       "    </tr>\n",
       "    <tr>\n",
       "      <th>3</th>\n",
       "      <td>1985768873</td>\n",
       "      <td>10.1371/journal.pcbi.1000731</td>\n",
       "    </tr>\n",
       "    <tr>\n",
       "      <th>4</th>\n",
       "      <td>1991290371</td>\n",
       "      <td>10.1371/journal.pone.0090052</td>\n",
       "    </tr>\n",
       "  </tbody>\n",
       "</table>\n",
       "</div>"
      ],
      "text/plain": [
       "          pid                           doi\n",
       "0  1966827022  10.1371/journal.pcbi.1002887\n",
       "1  1970867439  10.1371/journal.pone.0040555\n",
       "2  1974609334  10.1371/journal.pmed.1000202\n",
       "3  1985768873  10.1371/journal.pcbi.1000731\n",
       "4  1991290371  10.1371/journal.pone.0090052"
      ]
     },
     "execution_count": 22,
     "metadata": {},
     "output_type": "execute_result"
    }
   ],
   "source": [
    "# read paper id data\n",
    "df_magpaper_id_doi_plos = pd.read_table(f'{PATH_MAG}/papers_plos.txt', sep=' ', names=['pid', 'doi'])\n",
    "df_magpaper_id_doi_srep = pd.read_table(f'{PATH_MAG}/papers_srep.txt', sep=' ', names=['pid', 'doi'])\n",
    "df_magpaper_id_doi = pd.concat([df_magpaper_id_doi_plos, df_magpaper_id_doi_srep])\n",
    "\n",
    "# change doi to lower case\n",
    "df_magpaper_id_doi[\"doi\"] = df_magpaper_id_doi[\"doi\"].str.lower()\n",
    "\n",
    "# clear error row: Eliminate cases where multiple paper ids are assigned to a single doi.\n",
    "s_vs = df_magpaper_id_doi['doi'].value_counts()\n",
    "mag_available_dois = set(s_vs[s_vs.values == 1].index)\n",
    "df_magpaper_id_doi2 = df_magpaper_id_doi[df_magpaper_id_doi['doi'].isin(mag_available_dois)]\n",
    "\n",
    "df_magpaper_id_doi2.head()"
   ]
  },
  {
   "cell_type": "markdown",
   "id": "ae20ea5c-0bc9-4b37-8cc0-f6ba6f7ae822",
   "metadata": {
    "jupyter": {
     "outputs_hidden": true
    },
    "tags": []
   },
   "source": [
    "### Rate of DOI mathcing with MAG"
   ]
  },
  {
   "cell_type": "code",
   "execution_count": 8,
   "id": "8b74a3e5-ed2b-424b-af23-7abd139be631",
   "metadata": {},
   "outputs": [
    {
     "name": "stdout",
     "output_type": "stream",
     "text": [
      "Intersected dois =  0.8262019771987638\n"
     ]
    }
   ],
   "source": [
    "row_dois = set(dfs_all.paperId.tolist())\n",
    "mag_dois = set(df_magpaper_id_doi2.doi.tolist())\n",
    "\n",
    "common_dois = row_dois & mag_dois\n",
    "print('Intersected dois = ', len(common_dois)/len(row_dois))"
   ]
  },
  {
   "cell_type": "markdown",
   "id": "39d57d12-b80d-41f8-9cc8-9ba7b18fc5bc",
   "metadata": {
    "tags": []
   },
   "source": [
    "### Collect author information of MAG via doi"
   ]
  },
  {
   "cell_type": "code",
   "execution_count": 14,
   "id": "7de68e67-aafc-478a-b34c-03128c44a1f0",
   "metadata": {},
   "outputs": [],
   "source": [
    "df_magpaper_commondois = df_magpaper_id_doi2[df_magpaper_id_doi2['doi'].isin(common_dois)]\n",
    "common_authors_pid = df_magpaper_commondois.pid.tolist()"
   ]
  },
  {
   "cell_type": "markdown",
   "id": "eaae67b5-4bd5-47ff-98c4-0ed6ae542688",
   "metadata": {},
   "source": [
    "# Extract necessary data with PaperReferences and PaperAuthorAffiliations of MAG"
   ]
  },
  {
   "cell_type": "code",
   "execution_count": 15,
   "id": "c127f80e-f9e5-486d-8111-0c13bee76cb2",
   "metadata": {},
   "outputs": [
    {
     "name": "stdout",
     "output_type": "stream",
     "text": [
      "file exists\n",
      "file exists\n"
     ]
    }
   ],
   "source": [
    "# read PaperAuthorAffiliations.csv\n",
    "vaex_mag_pauthorAffil = read_vaex(f'{PATH_MAG}/PaperAuthorAffiliations/PaperAuthorAffiliations.txt')\n",
    "\n",
    "# read Preferences.csv\n",
    "vaex_mag_prefs = read_vaex(f'{PATH_MAG}/PaperReferences/PaperReferences.csv')\n",
    "\n",
    "# extract necessary row with ```common_authors_pid```\n",
    "paper_references_extracted = vaex_mag_prefs[vaex_mag_prefs.pid.isin(common_authors_pid)]\n",
    "rfpids = paper_references_extracted[' rfpid'].tolist()\n",
    "\n",
    "# extract necessary row with ```rfpids```\n",
    "vaex_mag_pauthorAffil_extracted = vaex_mag_pauthorAffil[vaex_mag_pauthorAffil.PaperId.isin(rfpids)]"
   ]
  },
  {
   "cell_type": "markdown",
   "id": "639a0ac6-9c71-4207-b8a0-8fc2fab8f79a",
   "metadata": {},
   "source": [
    "## Convert extracted data of `PaperReferences` & `PaperAuthorAffi.` into DataFrame\n",
    "Using `PaperReferences = {paperId: referencedPaperId}` and `PaperAuthorAffi = {paperId: authorIds}`,\n",
    "create `{paperId: [authorIds]}`"
   ]
  },
  {
   "cell_type": "code",
   "execution_count": 15,
   "id": "2ced69c3-3b6c-417e-8c4f-bab4bbcd85d9",
   "metadata": {},
   "outputs": [],
   "source": [
    "# dict of paper:　referenced paper id\n",
    "df_paper_references_extracted = paper_references_extracted.to_pandas_df()\n",
    "# dict of paper: author id\n",
    "df_mag_pauthorAffil_extracted = vaex_mag_pauthorAffil_extracted.to_pandas_df()"
   ]
  },
  {
   "cell_type": "code",
   "execution_count": 16,
   "id": "a03174bb-6d65-4a60-b7c1-29102a9df292",
   "metadata": {},
   "outputs": [
    {
     "name": "stdout",
     "output_type": "stream",
     "text": [
      "CPU times: user 31 s, sys: 801 ms, total: 31.8 s\n",
      "Wall time: 32.1 s\n"
     ]
    }
   ],
   "source": [
    "%%time\n",
    "# groupby to a dict of {paperid: [authorIds]}\n",
    "df_mag_pauthorAffil_extracted_grouped = df_mag_pauthorAffil_extracted.groupby('PaperId',)[' AuthorId'].apply(list)\n",
    "df_mag_pauthorAffil_extracted_grouped = df_mag_pauthorAffil_extracted_grouped.reset_index()"
   ]
  },
  {
   "cell_type": "markdown",
   "id": "8a0be8fa-b821-4111-a302-cce8bf4f5369",
   "metadata": {},
   "source": [
    "### merge with `df_paper_references_extracted`"
   ]
  },
  {
   "cell_type": "code",
   "execution_count": 20,
   "id": "4dea55c9-a2b9-4f55-b89e-a9bf390c2742",
   "metadata": {},
   "outputs": [
    {
     "name": "stdout",
     "output_type": "stream",
     "text": [
      "CPU times: user 2.06 s, sys: 221 ms, total: 2.28 s\n",
      "Wall time: 2.28 s\n"
     ]
    }
   ],
   "source": [
    "%%time\n",
    "df_merged = pd.merge(df_paper_references_extracted, df_mag_pauthorAffil_extracted_grouped,  \n",
    "          how='inner',left_on =' rfpid',right_on='PaperId')\n",
    "df_pid_authors = df_merged[['pid', ' AuthorId']].rename({' AuthorId': 'ReferencedAuthorIds'}, axis=1)"
   ]
  },
  {
   "cell_type": "code",
   "execution_count": 21,
   "id": "600b4162-a22d-4e9c-a0d8-2ac672315115",
   "metadata": {},
   "outputs": [
    {
     "name": "stdout",
     "output_type": "stream",
     "text": [
      "CPU times: user 2.1 s, sys: 253 ms, total: 2.35 s\n",
      "Wall time: 2.35 s\n"
     ]
    },
    {
     "data": {
      "text/html": [
       "<div>\n",
       "<style scoped>\n",
       "    .dataframe tbody tr th:only-of-type {\n",
       "        vertical-align: middle;\n",
       "    }\n",
       "\n",
       "    .dataframe tbody tr th {\n",
       "        vertical-align: top;\n",
       "    }\n",
       "\n",
       "    .dataframe thead th {\n",
       "        text-align: right;\n",
       "    }\n",
       "</style>\n",
       "<table border=\"1\" class=\"dataframe\">\n",
       "  <thead>\n",
       "    <tr style=\"text-align: right;\">\n",
       "      <th></th>\n",
       "      <th>pid</th>\n",
       "      <th>ReferencedAuthorIds</th>\n",
       "    </tr>\n",
       "  </thead>\n",
       "  <tbody>\n",
       "    <tr>\n",
       "      <th>0</th>\n",
       "      <td>11386834</td>\n",
       "      <td>[2139784259, 2141443236, 2224777168, 256426612...</td>\n",
       "    </tr>\n",
       "    <tr>\n",
       "      <th>1</th>\n",
       "      <td>11386834</td>\n",
       "      <td>[2105759627, 2137706283, 2191198583, 226611927...</td>\n",
       "    </tr>\n",
       "    <tr>\n",
       "      <th>2</th>\n",
       "      <td>1978622015</td>\n",
       "      <td>[2105759627, 2137706283, 2191198583, 226611927...</td>\n",
       "    </tr>\n",
       "    <tr>\n",
       "      <th>3</th>\n",
       "      <td>2397410999</td>\n",
       "      <td>[2105759627, 2137706283, 2191198583, 226611927...</td>\n",
       "    </tr>\n",
       "    <tr>\n",
       "      <th>4</th>\n",
       "      <td>2588037944</td>\n",
       "      <td>[2105759627, 2137706283, 2191198583, 226611927...</td>\n",
       "    </tr>\n",
       "  </tbody>\n",
       "</table>\n",
       "</div>"
      ],
      "text/plain": [
       "          pid                                ReferencedAuthorIds\n",
       "0    11386834  [2139784259, 2141443236, 2224777168, 256426612...\n",
       "1    11386834  [2105759627, 2137706283, 2191198583, 226611927...\n",
       "2  1978622015  [2105759627, 2137706283, 2191198583, 226611927...\n",
       "3  2397410999  [2105759627, 2137706283, 2191198583, 226611927...\n",
       "4  2588037944  [2105759627, 2137706283, 2191198583, 226611927..."
      ]
     },
     "execution_count": 21,
     "metadata": {},
     "output_type": "execute_result"
    }
   ],
   "source": [
    "%%time\n",
    "df_merged = pd.merge(df_paper_references_extracted, df_mag_pauthorAffil_extracted_grouped,  \n",
    "          how='inner',left_on =' rfpid',right_on='PaperId')\n",
    "df_pid_authors = df_merged[['pid', ' AuthorId']].rename({' AuthorId': 'ReferencedAuthorIds'}, axis=1)\n",
    "df_pid_authors.head()"
   ]
  },
  {
   "cell_type": "markdown",
   "id": "91f2742c-36af-40d3-b203-2a26df3f0c83",
   "metadata": {},
   "source": [
    "### save authors informations as csv"
   ]
  },
  {
   "cell_type": "code",
   "execution_count": 22,
   "id": "354a645c-7ca8-49f0-a891-d92161ef6952",
   "metadata": {},
   "outputs": [],
   "source": [
    "# # save as authors informations\n",
    "# df_pid_authors.to_csv(f'{PATH_SAVE}/pid_authors.csv', index=False)\n",
    "\n",
    "df_pid_authors = pd.read_csv(f'{PATH_SAVE}/pid_authors.csv', converters={'ReferencedAuthorIds': literal_eval})"
   ]
  },
  {
   "cell_type": "code",
   "execution_count": 23,
   "id": "c8d00ea1-d745-4fac-94e9-e208a71f55b8",
   "metadata": {
    "tags": []
   },
   "outputs": [
    {
     "name": "stdout",
     "output_type": "stream",
     "text": [
      "CPU times: user 5.96 s, sys: 1.14 s, total: 7.1 s\n",
      "Wall time: 7.3 s\n"
     ]
    },
    {
     "data": {
      "text/html": [
       "<div>\n",
       "<style scoped>\n",
       "    .dataframe tbody tr th:only-of-type {\n",
       "        vertical-align: middle;\n",
       "    }\n",
       "\n",
       "    .dataframe tbody tr th {\n",
       "        vertical-align: top;\n",
       "    }\n",
       "\n",
       "    .dataframe thead th {\n",
       "        text-align: right;\n",
       "    }\n",
       "</style>\n",
       "<table border=\"1\" class=\"dataframe\">\n",
       "  <thead>\n",
       "    <tr style=\"text-align: right;\">\n",
       "      <th></th>\n",
       "      <th>pid</th>\n",
       "      <th>ReferencedAuthorIds</th>\n",
       "    </tr>\n",
       "  </thead>\n",
       "  <tbody>\n",
       "    <tr>\n",
       "      <th>0</th>\n",
       "      <td>11386834</td>\n",
       "      <td>2139784259</td>\n",
       "    </tr>\n",
       "    <tr>\n",
       "      <th>0</th>\n",
       "      <td>11386834</td>\n",
       "      <td>2141443236</td>\n",
       "    </tr>\n",
       "    <tr>\n",
       "      <th>0</th>\n",
       "      <td>11386834</td>\n",
       "      <td>2224777168</td>\n",
       "    </tr>\n",
       "    <tr>\n",
       "      <th>0</th>\n",
       "      <td>11386834</td>\n",
       "      <td>2564266129</td>\n",
       "    </tr>\n",
       "    <tr>\n",
       "      <th>0</th>\n",
       "      <td>11386834</td>\n",
       "      <td>2610359911</td>\n",
       "    </tr>\n",
       "  </tbody>\n",
       "</table>\n",
       "</div>"
      ],
      "text/plain": [
       "        pid ReferencedAuthorIds\n",
       "0  11386834          2139784259\n",
       "0  11386834          2141443236\n",
       "0  11386834          2224777168\n",
       "0  11386834          2564266129\n",
       "0  11386834          2610359911"
      ]
     },
     "execution_count": 23,
     "metadata": {},
     "output_type": "execute_result"
    }
   ],
   "source": [
    "%%time\n",
    "# format as DataFrame\n",
    "# df_pid_authors['ReferencedAuthorIds'] = df_pid_authors['ReferencedAuthorIds'].apply(literal_eval)\n",
    "df_pid_author = df_pid_authors.explode('ReferencedAuthorIds')\n",
    "l_ReferencedAuthorIds = df_pid_author['ReferencedAuthorIds'].tolist()\n",
    "df_pid_author.head()"
   ]
  },
  {
   "cell_type": "code",
   "execution_count": null,
   "id": "53215e4b-1a82-428a-9483-8f31447c3497",
   "metadata": {},
   "outputs": [],
   "source": []
  },
  {
   "cell_type": "markdown",
   "id": "eb659f16-60dc-4cf3-b0a8-3a34a94d180f",
   "metadata": {},
   "source": [
    "# Check acknoweldged names are included in ReferencedAuthorIds\n",
    "With `Authors.csv`，convert `{paperId: authorIds}`into `{paperId: authorNames}`"
   ]
  },
  {
   "cell_type": "markdown",
   "id": "47b1ef51-57f8-436f-864a-88c5fa203b1f",
   "metadata": {},
   "source": [
    "### Read Authors.csv"
   ]
  },
  {
   "cell_type": "code",
   "execution_count": 17,
   "id": "11d7e42c-c41e-4dc2-9a29-56d4b91582e9",
   "metadata": {
    "scrolled": true,
    "tags": []
   },
   "outputs": [
    {
     "name": "stdout",
     "output_type": "stream",
     "text": [
      "file exists\n"
     ]
    }
   ],
   "source": [
    "# read Authors.csv\n",
    "vaex_mag_authors = read_vaex(f'{PATH_MAG}/Authors/Authors.csv')"
   ]
  },
  {
   "cell_type": "code",
   "execution_count": 25,
   "id": "4b6a4cc8-29c1-4b2a-88e5-d31f3b56ae76",
   "metadata": {},
   "outputs": [],
   "source": [
    "# extract necessary rows and change to pandas\n",
    "vaex_mag_authors_extracted = vaex_mag_authors[vaex_mag_authors.AuthorId.isin(l_ReferencedAuthorIds)]\n",
    "# vaex_mag_authors_extracted.head()\n",
    "df_mag_authors_extracted = vaex_mag_authors_extracted[['AuthorId', 'DisplayName']].to_pandas_df()"
   ]
  },
  {
   "cell_type": "markdown",
   "id": "4d193ebb-7181-4d39-8b08-18f8a7f4539c",
   "metadata": {},
   "source": [
    "### Convert `{paperId: authorIds}` into `{paperId: authorNames}`"
   ]
  },
  {
   "cell_type": "code",
   "execution_count": 26,
   "id": "49d541f3-fa9f-48ca-9856-51d61883e4c3",
   "metadata": {},
   "outputs": [
    {
     "name": "stdout",
     "output_type": "stream",
     "text": [
      "CPU times: user 18.5 s, sys: 3.33 s, total: 21.8 s\n",
      "Wall time: 23 s\n"
     ]
    },
    {
     "data": {
      "text/html": [
       "<div>\n",
       "<style scoped>\n",
       "    .dataframe tbody tr th:only-of-type {\n",
       "        vertical-align: middle;\n",
       "    }\n",
       "\n",
       "    .dataframe tbody tr th {\n",
       "        vertical-align: top;\n",
       "    }\n",
       "\n",
       "    .dataframe thead th {\n",
       "        text-align: right;\n",
       "    }\n",
       "</style>\n",
       "<table border=\"1\" class=\"dataframe\">\n",
       "  <thead>\n",
       "    <tr style=\"text-align: right;\">\n",
       "      <th></th>\n",
       "      <th>pid</th>\n",
       "      <th>ReferencedAuthorIds</th>\n",
       "      <th>AuthorId</th>\n",
       "      <th>DisplayName</th>\n",
       "    </tr>\n",
       "  </thead>\n",
       "  <tbody>\n",
       "    <tr>\n",
       "      <th>0</th>\n",
       "      <td>11386834</td>\n",
       "      <td>2139784259</td>\n",
       "      <td>2139784259</td>\n",
       "      <td>Yulong Yin</td>\n",
       "    </tr>\n",
       "    <tr>\n",
       "      <th>1</th>\n",
       "      <td>11386834</td>\n",
       "      <td>2139784259</td>\n",
       "      <td>2139784259</td>\n",
       "      <td>Yulong Yin</td>\n",
       "    </tr>\n",
       "    <tr>\n",
       "      <th>2</th>\n",
       "      <td>2124872669</td>\n",
       "      <td>2139784259</td>\n",
       "      <td>2139784259</td>\n",
       "      <td>Yulong Yin</td>\n",
       "    </tr>\n",
       "    <tr>\n",
       "      <th>3</th>\n",
       "      <td>11386834</td>\n",
       "      <td>2139784259</td>\n",
       "      <td>2139784259</td>\n",
       "      <td>Yulong Yin</td>\n",
       "    </tr>\n",
       "    <tr>\n",
       "      <th>4</th>\n",
       "      <td>11386834</td>\n",
       "      <td>2139784259</td>\n",
       "      <td>2139784259</td>\n",
       "      <td>Yulong Yin</td>\n",
       "    </tr>\n",
       "  </tbody>\n",
       "</table>\n",
       "</div>"
      ],
      "text/plain": [
       "          pid ReferencedAuthorIds    AuthorId DisplayName\n",
       "0    11386834          2139784259  2139784259  Yulong Yin\n",
       "1    11386834          2139784259  2139784259  Yulong Yin\n",
       "2  2124872669          2139784259  2139784259  Yulong Yin\n",
       "3    11386834          2139784259  2139784259  Yulong Yin\n",
       "4    11386834          2139784259  2139784259  Yulong Yin"
      ]
     },
     "execution_count": 26,
     "metadata": {},
     "output_type": "execute_result"
    }
   ],
   "source": [
    "%%time\n",
    "df_merged_auth_refauth = pd.merge(df_pid_author, df_mag_authors_extracted,  \n",
    "          how='inner',left_on ='ReferencedAuthorIds',right_on='AuthorId')\n",
    "df_merged_auth_refauth.head()"
   ]
  },
  {
   "cell_type": "code",
   "execution_count": 27,
   "id": "8a025a04-5fe8-422b-ad78-17929e9bf6ec",
   "metadata": {},
   "outputs": [
    {
     "name": "stdout",
     "output_type": "stream",
     "text": [
      "CPU times: user 21.9 s, sys: 3.64 s, total: 25.5 s\n",
      "Wall time: 28.2 s\n"
     ]
    }
   ],
   "source": [
    "%%time\n",
    "# groupby to paperid: [authorIds]\n",
    "df_pid_refAuthIds = df_merged_auth_refauth[['pid', 'DisplayName']].groupby('pid')['DisplayName'].apply(set)\n",
    "\n",
    "df_pid_refAuthIds = df_pid_refAuthIds.reset_index()"
   ]
  },
  {
   "cell_type": "markdown",
   "id": "407b29d7-9b9b-4055-a38b-3dca554705ee",
   "metadata": {},
   "source": [
    "### save df_pid_refAuthIds informations as csv"
   ]
  },
  {
   "cell_type": "code",
   "execution_count": 28,
   "id": "3fc52865-bde0-4cd5-abfe-6803110d0268",
   "metadata": {},
   "outputs": [],
   "source": [
    "# # save as authors informations\n",
    "# df_pid_refAuthIds.to_csv(f'{PATH_SAVE}/pid_refrencedAuthorIds.csv', index=False)\n",
    "\n",
    "# df_pid_refAuthIds = pd.read_csv(f'{PATH_SAVE}/pid_refrencedAuthorIds.csv')"
   ]
  },
  {
   "cell_type": "markdown",
   "id": "1db310d4-cdd1-4345-9873-c1bcf4e78a66",
   "metadata": {},
   "source": [
    "### check acknowledged individual paper are cited in the paper"
   ]
  },
  {
   "cell_type": "code",
   "execution_count": 29,
   "id": "057744f6-0af7-45b8-8ca4-cd5870097fab",
   "metadata": {},
   "outputs": [
    {
     "name": "stdout",
     "output_type": "stream",
     "text": [
      "CPU times: user 48 µs, sys: 7 µs, total: 55 µs\n",
      "Wall time: 62.9 µs\n"
     ]
    },
    {
     "data": {
      "text/html": [
       "<div>\n",
       "<style scoped>\n",
       "    .dataframe tbody tr th:only-of-type {\n",
       "        vertical-align: middle;\n",
       "    }\n",
       "\n",
       "    .dataframe tbody tr th {\n",
       "        vertical-align: top;\n",
       "    }\n",
       "\n",
       "    .dataframe thead th {\n",
       "        text-align: right;\n",
       "    }\n",
       "</style>\n",
       "<table border=\"1\" class=\"dataframe\">\n",
       "  <thead>\n",
       "    <tr style=\"text-align: right;\">\n",
       "      <th></th>\n",
       "      <th>pid</th>\n",
       "      <th>DisplayName</th>\n",
       "    </tr>\n",
       "  </thead>\n",
       "  <tbody>\n",
       "    <tr>\n",
       "      <th>0</th>\n",
       "      <td>11386834</td>\n",
       "      <td>{Hitoshi Shimano, Insuk Sohn, Geoffrey J. Huds...</td>\n",
       "    </tr>\n",
       "    <tr>\n",
       "      <th>1</th>\n",
       "      <td>12394107</td>\n",
       "      <td>{Aurél Gábris, Jonathan C. F. Matthews, E. Kni...</td>\n",
       "    </tr>\n",
       "    <tr>\n",
       "      <th>2</th>\n",
       "      <td>23277314</td>\n",
       "      <td>{Ken A. Dill, Claudio Castellano, Leo Egghe, G...</td>\n",
       "    </tr>\n",
       "    <tr>\n",
       "      <th>3</th>\n",
       "      <td>27879997</td>\n",
       "      <td>{Andre K. Geim, Vladimir E. Kravtsov, Hung Q. ...</td>\n",
       "    </tr>\n",
       "    <tr>\n",
       "      <th>4</th>\n",
       "      <td>28776219</td>\n",
       "      <td>{Alvaro Avezum, Adelina Riarte, Susana B. Ocam...</td>\n",
       "    </tr>\n",
       "  </tbody>\n",
       "</table>\n",
       "</div>"
      ],
      "text/plain": [
       "        pid                                        DisplayName\n",
       "0  11386834  {Hitoshi Shimano, Insuk Sohn, Geoffrey J. Huds...\n",
       "1  12394107  {Aurél Gábris, Jonathan C. F. Matthews, E. Kni...\n",
       "2  23277314  {Ken A. Dill, Claudio Castellano, Leo Egghe, G...\n",
       "3  27879997  {Andre K. Geim, Vladimir E. Kravtsov, Hung Q. ...\n",
       "4  28776219  {Alvaro Avezum, Adelina Riarte, Susana B. Ocam..."
      ]
     },
     "execution_count": 29,
     "metadata": {},
     "output_type": "execute_result"
    }
   ],
   "source": [
    "%%time\n",
    "df_pid_refAuthIds = pd.read_csv(f'{PATH_SAVE}/pid_refrencedAuthorIds.csv', converters={'DisplayName': literal_eval})\n",
    "df_pid_refAuthIds.head()"
   ]
  },
  {
   "cell_type": "code",
   "execution_count": 30,
   "id": "caf2c512-27be-4a7f-a768-30606218eb1c",
   "metadata": {},
   "outputs": [
    {
     "data": {
      "text/html": [
       "<div>\n",
       "<style scoped>\n",
       "    .dataframe tbody tr th:only-of-type {\n",
       "        vertical-align: middle;\n",
       "    }\n",
       "\n",
       "    .dataframe tbody tr th {\n",
       "        vertical-align: top;\n",
       "    }\n",
       "\n",
       "    .dataframe thead th {\n",
       "        text-align: right;\n",
       "    }\n",
       "</style>\n",
       "<table border=\"1\" class=\"dataframe\">\n",
       "  <thead>\n",
       "    <tr style=\"text-align: right;\">\n",
       "      <th></th>\n",
       "      <th>pid</th>\n",
       "      <th>doi</th>\n",
       "      <th>DisplayName</th>\n",
       "    </tr>\n",
       "  </thead>\n",
       "  <tbody>\n",
       "    <tr>\n",
       "      <th>0</th>\n",
       "      <td>1966827022</td>\n",
       "      <td>10.1371/journal.pcbi.1002887</td>\n",
       "      <td>{Joel M. Reid, Robert S. Fulton, Abhijit Guha,...</td>\n",
       "    </tr>\n",
       "    <tr>\n",
       "      <th>1</th>\n",
       "      <td>1970867439</td>\n",
       "      <td>10.1371/journal.pone.0040555</td>\n",
       "      <td>{Gernot Riedel, David N. Furness, Malgorzata K...</td>\n",
       "    </tr>\n",
       "    <tr>\n",
       "      <th>2</th>\n",
       "      <td>1985768873</td>\n",
       "      <td>10.1371/journal.pcbi.1000731</td>\n",
       "      <td>{Peter E. Leopold, John D. Westbrook, Thomas B...</td>\n",
       "    </tr>\n",
       "    <tr>\n",
       "      <th>3</th>\n",
       "      <td>2003219556</td>\n",
       "      <td>10.1371/journal.pone.0009165</td>\n",
       "      <td>{Chong-Shan Shi, Jyoti Idnani, Hiroko Omori, R...</td>\n",
       "    </tr>\n",
       "    <tr>\n",
       "      <th>4</th>\n",
       "      <td>2071989361</td>\n",
       "      <td>10.1371/journal.pone.0097711</td>\n",
       "      <td>{Giovanni Bonanno, Marc Potters, F. Grümmer, J...</td>\n",
       "    </tr>\n",
       "  </tbody>\n",
       "</table>\n",
       "</div>"
      ],
      "text/plain": [
       "          pid                           doi  \\\n",
       "0  1966827022  10.1371/journal.pcbi.1002887   \n",
       "1  1970867439  10.1371/journal.pone.0040555   \n",
       "2  1985768873  10.1371/journal.pcbi.1000731   \n",
       "3  2003219556  10.1371/journal.pone.0009165   \n",
       "4  2071989361  10.1371/journal.pone.0097711   \n",
       "\n",
       "                                         DisplayName  \n",
       "0  {Joel M. Reid, Robert S. Fulton, Abhijit Guha,...  \n",
       "1  {Gernot Riedel, David N. Furness, Malgorzata K...  \n",
       "2  {Peter E. Leopold, John D. Westbrook, Thomas B...  \n",
       "3  {Chong-Shan Shi, Jyoti Idnani, Hiroko Omori, R...  \n",
       "4  {Giovanni Bonanno, Marc Potters, F. Grümmer, J...  "
      ]
     },
     "execution_count": 30,
     "metadata": {},
     "output_type": "execute_result"
    }
   ],
   "source": [
    "df_magpaper_id_doi_w_regAuthIds = pd.merge(df_magpaper_id_doi, df_pid_refAuthIds,  \n",
    "          how='inner', on='pid')\n",
    "df_magpaper_id_doi_w_regAuthIds.head()"
   ]
  },
  {
   "cell_type": "code",
   "execution_count": 31,
   "id": "78f649a8-584b-4458-b21d-ed6a19a2c451",
   "metadata": {},
   "outputs": [
    {
     "name": "stdout",
     "output_type": "stream",
     "text": [
      "CPU times: user 552 ms, sys: 161 ms, total: 713 ms\n",
      "Wall time: 755 ms\n"
     ]
    }
   ],
   "source": [
    "%%time\n",
    "dfs_all_w_pid = pd.merge(dfs_all, df_magpaper_id_doi_w_regAuthIds,  \n",
    "          how='inner',left_on ='paperId',right_on='doi')"
   ]
  },
  {
   "cell_type": "code",
   "execution_count": 32,
   "id": "639ff1d2-9170-4c66-a25f-6f23283560c8",
   "metadata": {},
   "outputs": [
    {
     "data": {
      "text/html": [
       "<div>\n",
       "<style scoped>\n",
       "    .dataframe tbody tr th:only-of-type {\n",
       "        vertical-align: middle;\n",
       "    }\n",
       "\n",
       "    .dataframe tbody tr th {\n",
       "        vertical-align: top;\n",
       "    }\n",
       "\n",
       "    .dataframe thead th {\n",
       "        text-align: right;\n",
       "    }\n",
       "</style>\n",
       "<table border=\"1\" class=\"dataframe\">\n",
       "  <thead>\n",
       "    <tr style=\"text-align: right;\">\n",
       "      <th></th>\n",
       "      <th>pid</th>\n",
       "      <th>acknow</th>\n",
       "      <th>DisplayName</th>\n",
       "    </tr>\n",
       "  </thead>\n",
       "  <tbody>\n",
       "    <tr>\n",
       "      <th>0</th>\n",
       "      <td>2145218186</td>\n",
       "      <td>Aviv Regev</td>\n",
       "      <td>{B. Marshall, Yosef Hochberg, Jeremy M Berg, G...</td>\n",
       "    </tr>\n",
       "    <tr>\n",
       "      <th>1</th>\n",
       "      <td>2145218186</td>\n",
       "      <td>Benjamin Gordon</td>\n",
       "      <td>{B. Marshall, Yosef Hochberg, Jeremy M Berg, G...</td>\n",
       "    </tr>\n",
       "    <tr>\n",
       "      <th>2</th>\n",
       "      <td>2145218186</td>\n",
       "      <td>Dalit May</td>\n",
       "      <td>{B. Marshall, Yosef Hochberg, Jeremy M Berg, G...</td>\n",
       "    </tr>\n",
       "    <tr>\n",
       "      <th>3</th>\n",
       "      <td>2145218186</td>\n",
       "      <td>Ernest Fraenkel</td>\n",
       "      <td>{B. Marshall, Yosef Hochberg, Jeremy M Berg, G...</td>\n",
       "    </tr>\n",
       "    <tr>\n",
       "      <th>4</th>\n",
       "      <td>2145218186</td>\n",
       "      <td>Lena Nekludova</td>\n",
       "      <td>{B. Marshall, Yosef Hochberg, Jeremy M Berg, G...</td>\n",
       "    </tr>\n",
       "  </tbody>\n",
       "</table>\n",
       "</div>"
      ],
      "text/plain": [
       "          pid           acknow  \\\n",
       "0  2145218186       Aviv Regev   \n",
       "1  2145218186  Benjamin Gordon   \n",
       "2  2145218186        Dalit May   \n",
       "3  2145218186  Ernest Fraenkel   \n",
       "4  2145218186   Lena Nekludova   \n",
       "\n",
       "                                         DisplayName  \n",
       "0  {B. Marshall, Yosef Hochberg, Jeremy M Berg, G...  \n",
       "1  {B. Marshall, Yosef Hochberg, Jeremy M Berg, G...  \n",
       "2  {B. Marshall, Yosef Hochberg, Jeremy M Berg, G...  \n",
       "3  {B. Marshall, Yosef Hochberg, Jeremy M Berg, G...  \n",
       "4  {B. Marshall, Yosef Hochberg, Jeremy M Berg, G...  "
      ]
     },
     "execution_count": 32,
     "metadata": {},
     "output_type": "execute_result"
    }
   ],
   "source": [
    "# change acknow's name\n",
    "dfs_all_w_pid['acknow'] = dfs_all_w_pid['acknow'].apply(lambda x: \" \".join(x.split('_')))\n",
    "dfs_all_w_pid[['pid', 'acknow', 'DisplayName']].head()"
   ]
  },
  {
   "cell_type": "code",
   "execution_count": 33,
   "id": "eaf0a847-d2ca-4824-ace2-cc44a17978aa",
   "metadata": {},
   "outputs": [],
   "source": [
    "# 入ってるかどうかをバイナリで判断\n",
    "dfs_all_w_pid['cited_as_same_name'] = dfs_all_w_pid[['acknow', 'DisplayName']].apply(lambda row: True if (row['acknow'] in row['DisplayName']) else False, axis=1)"
   ]
  },
  {
   "cell_type": "code",
   "execution_count": 34,
   "id": "88e2d547-6339-4e1a-bcdc-4fac17628fe5",
   "metadata": {},
   "outputs": [
    {
     "data": {
      "text/html": [
       "<div>\n",
       "<style scoped>\n",
       "    .dataframe tbody tr th:only-of-type {\n",
       "        vertical-align: middle;\n",
       "    }\n",
       "\n",
       "    .dataframe tbody tr th {\n",
       "        vertical-align: top;\n",
       "    }\n",
       "\n",
       "    .dataframe thead th {\n",
       "        text-align: right;\n",
       "    }\n",
       "</style>\n",
       "<table border=\"1\" class=\"dataframe\">\n",
       "  <thead>\n",
       "    <tr style=\"text-align: right;\">\n",
       "      <th></th>\n",
       "      <th>acknow</th>\n",
       "      <th>pid</th>\n",
       "      <th>DisplayName</th>\n",
       "    </tr>\n",
       "  </thead>\n",
       "  <tbody>\n",
       "    <tr>\n",
       "      <th>4</th>\n",
       "      <td>Lena Nekludova</td>\n",
       "      <td>2145218186</td>\n",
       "      <td>{B. Marshall, Yosef Hochberg, Jeremy M Berg, G...</td>\n",
       "    </tr>\n",
       "    <tr>\n",
       "      <th>8</th>\n",
       "      <td>Yoseph Barash</td>\n",
       "      <td>2145218186</td>\n",
       "      <td>{B. Marshall, Yosef Hochberg, Jeremy M Berg, G...</td>\n",
       "    </tr>\n",
       "    <tr>\n",
       "      <th>27</th>\n",
       "      <td>Bruce Stillman</td>\n",
       "      <td>2088922607</td>\n",
       "      <td>{Luda S. Shlyakhtenko, Ting Chen, John J. Wyri...</td>\n",
       "    </tr>\n",
       "    <tr>\n",
       "      <th>30</th>\n",
       "      <td>M. K. Raghuraman</td>\n",
       "      <td>2088922607</td>\n",
       "      <td>{Luda S. Shlyakhtenko, Ting Chen, John J. Wyri...</td>\n",
       "    </tr>\n",
       "    <tr>\n",
       "      <th>40</th>\n",
       "      <td>Gustavo Stolovitzky</td>\n",
       "      <td>2034469541</td>\n",
       "      <td>{David Maxwell, J. P. M. Postma, Shaun B. Grim...</td>\n",
       "    </tr>\n",
       "  </tbody>\n",
       "</table>\n",
       "</div>"
      ],
      "text/plain": [
       "                 acknow         pid  \\\n",
       "4        Lena Nekludova  2145218186   \n",
       "8         Yoseph Barash  2145218186   \n",
       "27       Bruce Stillman  2088922607   \n",
       "30     M. K. Raghuraman  2088922607   \n",
       "40  Gustavo Stolovitzky  2034469541   \n",
       "\n",
       "                                          DisplayName  \n",
       "4   {B. Marshall, Yosef Hochberg, Jeremy M Berg, G...  \n",
       "8   {B. Marshall, Yosef Hochberg, Jeremy M Berg, G...  \n",
       "27  {Luda S. Shlyakhtenko, Ting Chen, John J. Wyri...  \n",
       "30  {Luda S. Shlyakhtenko, Ting Chen, John J. Wyri...  \n",
       "40  {David Maxwell, J. P. M. Postma, Shaun B. Grim...  "
      ]
     },
     "execution_count": 34,
     "metadata": {},
     "output_type": "execute_result"
    }
   ],
   "source": [
    "# acknowの名前がはいってるrowだけを抽出\n",
    "a = dfs_all_w_pid[dfs_all_w_pid['cited_as_same_name']][['acknow', 'pid', 'DisplayName']]\n",
    "df_referenced_acknow = a.drop_duplicates(subset=['acknow', 'pid'])\n",
    "df_referenced_acknow.head()"
   ]
  },
  {
   "cell_type": "code",
   "execution_count": null,
   "id": "6e20ee55-41ae-4cc9-8312-1a9050e1c68f",
   "metadata": {},
   "outputs": [],
   "source": []
  },
  {
   "cell_type": "markdown",
   "id": "860c0669-1f37-4819-96ed-5645abeeb226",
   "metadata": {},
   "source": [
    "# Identify the acknowledged scholarID"
   ]
  },
  {
   "cell_type": "markdown",
   "id": "5b869a51-a885-4058-99f9-f7c012b72c78",
   "metadata": {},
   "source": [
    "### make sure a name with different person are listed in the references\n",
    "If the case exists, we don't consider it. That is, we only consider the matched acknowledged scholar ID which appear in the references list once."
   ]
  },
  {
   "cell_type": "code",
   "execution_count": 35,
   "id": "5fc345db-2907-4d58-8d7a-30ab2676635c",
   "metadata": {},
   "outputs": [
    {
     "data": {
      "text/html": [
       "<div>\n",
       "<style scoped>\n",
       "    .dataframe tbody tr th:only-of-type {\n",
       "        vertical-align: middle;\n",
       "    }\n",
       "\n",
       "    .dataframe tbody tr th {\n",
       "        vertical-align: top;\n",
       "    }\n",
       "\n",
       "    .dataframe thead th {\n",
       "        text-align: right;\n",
       "    }\n",
       "</style>\n",
       "<table border=\"1\" class=\"dataframe\">\n",
       "  <thead>\n",
       "    <tr style=\"text-align: right;\">\n",
       "      <th></th>\n",
       "      <th>pid</th>\n",
       "      <th>ReferencedAuthorIds</th>\n",
       "      <th>AuthorId</th>\n",
       "      <th>DisplayName</th>\n",
       "    </tr>\n",
       "  </thead>\n",
       "  <tbody>\n",
       "    <tr>\n",
       "      <th>14</th>\n",
       "      <td>2052636440</td>\n",
       "      <td>2139784259</td>\n",
       "      <td>2139784259</td>\n",
       "      <td>Yulong Yin</td>\n",
       "    </tr>\n",
       "    <tr>\n",
       "      <th>24</th>\n",
       "      <td>2058112588</td>\n",
       "      <td>2139784259</td>\n",
       "      <td>2139784259</td>\n",
       "      <td>Yulong Yin</td>\n",
       "    </tr>\n",
       "    <tr>\n",
       "      <th>29</th>\n",
       "      <td>2966614822</td>\n",
       "      <td>2139784259</td>\n",
       "      <td>2139784259</td>\n",
       "      <td>Yulong Yin</td>\n",
       "    </tr>\n",
       "    <tr>\n",
       "      <th>31</th>\n",
       "      <td>3089897809</td>\n",
       "      <td>2139784259</td>\n",
       "      <td>2139784259</td>\n",
       "      <td>Yulong Yin</td>\n",
       "    </tr>\n",
       "    <tr>\n",
       "      <th>33</th>\n",
       "      <td>2730479429</td>\n",
       "      <td>2139784259</td>\n",
       "      <td>2139784259</td>\n",
       "      <td>Yulong Yin</td>\n",
       "    </tr>\n",
       "  </tbody>\n",
       "</table>\n",
       "</div>"
      ],
      "text/plain": [
       "           pid ReferencedAuthorIds    AuthorId DisplayName\n",
       "14  2052636440          2139784259  2139784259  Yulong Yin\n",
       "24  2058112588          2139784259  2139784259  Yulong Yin\n",
       "29  2966614822          2139784259  2139784259  Yulong Yin\n",
       "31  3089897809          2139784259  2139784259  Yulong Yin\n",
       "33  2730479429          2139784259  2139784259  Yulong Yin"
      ]
     },
     "execution_count": 35,
     "metadata": {},
     "output_type": "execute_result"
    }
   ],
   "source": [
    "df_merged_auth_refauth_tmp = df_merged_auth_refauth[df_merged_auth_refauth.pid.isin(set(df_referenced_acknow['pid'].tolist()))]\n",
    "df_merged_auth_refauth_tmp.head()"
   ]
  },
  {
   "cell_type": "code",
   "execution_count": 36,
   "id": "ac610e2b-3ad0-49d8-aad5-f737431f0e46",
   "metadata": {},
   "outputs": [
    {
     "data": {
      "text/html": [
       "<div>\n",
       "<style scoped>\n",
       "    .dataframe tbody tr th:only-of-type {\n",
       "        vertical-align: middle;\n",
       "    }\n",
       "\n",
       "    .dataframe tbody tr th {\n",
       "        vertical-align: top;\n",
       "    }\n",
       "\n",
       "    .dataframe thead th {\n",
       "        text-align: right;\n",
       "    }\n",
       "</style>\n",
       "<table border=\"1\" class=\"dataframe\">\n",
       "  <thead>\n",
       "    <tr style=\"text-align: right;\">\n",
       "      <th></th>\n",
       "      <th>pid</th>\n",
       "      <th>DisplayName</th>\n",
       "      <th>AuthorId</th>\n",
       "    </tr>\n",
       "  </thead>\n",
       "  <tbody>\n",
       "    <tr>\n",
       "      <th>0</th>\n",
       "      <td>27879997</td>\n",
       "      <td>A. Johansson</td>\n",
       "      <td>1</td>\n",
       "    </tr>\n",
       "    <tr>\n",
       "      <th>1</th>\n",
       "      <td>27879997</td>\n",
       "      <td>A. L. Efros</td>\n",
       "      <td>1</td>\n",
       "    </tr>\n",
       "    <tr>\n",
       "      <th>2</th>\n",
       "      <td>27879997</td>\n",
       "      <td>A. Satta</td>\n",
       "      <td>1</td>\n",
       "    </tr>\n",
       "    <tr>\n",
       "      <th>3</th>\n",
       "      <td>27879997</td>\n",
       "      <td>A. V. Shtyk</td>\n",
       "      <td>1</td>\n",
       "    </tr>\n",
       "    <tr>\n",
       "      <th>4</th>\n",
       "      <td>27879997</td>\n",
       "      <td>A. Yu. Mironov</td>\n",
       "      <td>1</td>\n",
       "    </tr>\n",
       "  </tbody>\n",
       "</table>\n",
       "</div>"
      ],
      "text/plain": [
       "        pid     DisplayName  AuthorId\n",
       "0  27879997    A. Johansson         1\n",
       "1  27879997     A. L. Efros         1\n",
       "2  27879997        A. Satta         1\n",
       "3  27879997     A. V. Shtyk         1\n",
       "4  27879997  A. Yu. Mironov         1"
      ]
     },
     "execution_count": 36,
     "metadata": {},
     "output_type": "execute_result"
    }
   ],
   "source": [
    "# Identify\n",
    "df_ref_author_ids = df_merged_auth_refauth_tmp.groupby(['pid', 'DisplayName'])['AuthorId']\n",
    "df_ref_author_ids_grouped = df_ref_author_ids.nunique().reset_index()\n",
    "\n",
    "# Those who have unique ID\n",
    "df_merged_auth_refauth_tmp2 = df_ref_author_ids_grouped[df_ref_author_ids_grouped['AuthorId'] == 1]\n",
    "df_merged_auth_refauth_tmp2.head()"
   ]
  },
  {
   "cell_type": "code",
   "execution_count": 37,
   "id": "8c91b69d-969a-4d81-9d4d-5e062191fbc6",
   "metadata": {
    "tags": []
   },
   "outputs": [],
   "source": [
    "df_merged_auth_refauth_tmp3 = pd.merge(df_merged_auth_refauth_tmp, df_merged_auth_refauth_tmp2,  \n",
    "          how='inner', on =['pid', 'DisplayName'])[['pid', 'ReferencedAuthorIds', 'DisplayName']]"
   ]
  },
  {
   "cell_type": "code",
   "execution_count": 38,
   "id": "169eb700-46f5-46e0-8797-29a559e6fc7f",
   "metadata": {},
   "outputs": [
    {
     "data": {
      "text/html": [
       "<div>\n",
       "<style scoped>\n",
       "    .dataframe tbody tr th:only-of-type {\n",
       "        vertical-align: middle;\n",
       "    }\n",
       "\n",
       "    .dataframe tbody tr th {\n",
       "        vertical-align: top;\n",
       "    }\n",
       "\n",
       "    .dataframe thead th {\n",
       "        text-align: right;\n",
       "    }\n",
       "</style>\n",
       "<table border=\"1\" class=\"dataframe\">\n",
       "  <thead>\n",
       "    <tr style=\"text-align: right;\">\n",
       "      <th></th>\n",
       "      <th>pid</th>\n",
       "      <th>ReferencedAuthorIds</th>\n",
       "      <th>DisplayName</th>\n",
       "    </tr>\n",
       "  </thead>\n",
       "  <tbody>\n",
       "    <tr>\n",
       "      <th>0</th>\n",
       "      <td>2052636440</td>\n",
       "      <td>2139784259</td>\n",
       "      <td>Yulong Yin</td>\n",
       "    </tr>\n",
       "    <tr>\n",
       "      <th>1</th>\n",
       "      <td>2058112588</td>\n",
       "      <td>2139784259</td>\n",
       "      <td>Yulong Yin</td>\n",
       "    </tr>\n",
       "    <tr>\n",
       "      <th>2</th>\n",
       "      <td>2058112588</td>\n",
       "      <td>2139784259</td>\n",
       "      <td>Yulong Yin</td>\n",
       "    </tr>\n",
       "    <tr>\n",
       "      <th>3</th>\n",
       "      <td>2966614822</td>\n",
       "      <td>2139784259</td>\n",
       "      <td>Yulong Yin</td>\n",
       "    </tr>\n",
       "    <tr>\n",
       "      <th>4</th>\n",
       "      <td>3089897809</td>\n",
       "      <td>2139784259</td>\n",
       "      <td>Yulong Yin</td>\n",
       "    </tr>\n",
       "  </tbody>\n",
       "</table>\n",
       "</div>"
      ],
      "text/plain": [
       "          pid ReferencedAuthorIds DisplayName\n",
       "0  2052636440          2139784259  Yulong Yin\n",
       "1  2058112588          2139784259  Yulong Yin\n",
       "2  2058112588          2139784259  Yulong Yin\n",
       "3  2966614822          2139784259  Yulong Yin\n",
       "4  3089897809          2139784259  Yulong Yin"
      ]
     },
     "execution_count": 38,
     "metadata": {},
     "output_type": "execute_result"
    }
   ],
   "source": [
    "df_merged_auth_refauth_tmp3.head()"
   ]
  },
  {
   "cell_type": "markdown",
   "id": "3508bfa2-03e3-4775-ab0e-fc7dbb302afc",
   "metadata": {},
   "source": [
    "### Finally identify the ID"
   ]
  },
  {
   "cell_type": "code",
   "execution_count": 39,
   "id": "b8516584-631c-44da-8ff9-7083046e7a40",
   "metadata": {},
   "outputs": [
    {
     "data": {
      "text/html": [
       "<div>\n",
       "<style scoped>\n",
       "    .dataframe tbody tr th:only-of-type {\n",
       "        vertical-align: middle;\n",
       "    }\n",
       "\n",
       "    .dataframe tbody tr th {\n",
       "        vertical-align: top;\n",
       "    }\n",
       "\n",
       "    .dataframe thead th {\n",
       "        text-align: right;\n",
       "    }\n",
       "</style>\n",
       "<table border=\"1\" class=\"dataframe\">\n",
       "  <thead>\n",
       "    <tr style=\"text-align: right;\">\n",
       "      <th></th>\n",
       "      <th>acknow</th>\n",
       "      <th>pid</th>\n",
       "      <th>DisplayName</th>\n",
       "    </tr>\n",
       "  </thead>\n",
       "  <tbody>\n",
       "    <tr>\n",
       "      <th>4</th>\n",
       "      <td>Lena Nekludova</td>\n",
       "      <td>2145218186</td>\n",
       "      <td>{B. Marshall, Yosef Hochberg, Jeremy M Berg, G...</td>\n",
       "    </tr>\n",
       "    <tr>\n",
       "      <th>8</th>\n",
       "      <td>Yoseph Barash</td>\n",
       "      <td>2145218186</td>\n",
       "      <td>{B. Marshall, Yosef Hochberg, Jeremy M Berg, G...</td>\n",
       "    </tr>\n",
       "    <tr>\n",
       "      <th>27</th>\n",
       "      <td>Bruce Stillman</td>\n",
       "      <td>2088922607</td>\n",
       "      <td>{Luda S. Shlyakhtenko, Ting Chen, John J. Wyri...</td>\n",
       "    </tr>\n",
       "    <tr>\n",
       "      <th>30</th>\n",
       "      <td>M. K. Raghuraman</td>\n",
       "      <td>2088922607</td>\n",
       "      <td>{Luda S. Shlyakhtenko, Ting Chen, John J. Wyri...</td>\n",
       "    </tr>\n",
       "    <tr>\n",
       "      <th>40</th>\n",
       "      <td>Gustavo Stolovitzky</td>\n",
       "      <td>2034469541</td>\n",
       "      <td>{David Maxwell, J. P. M. Postma, Shaun B. Grim...</td>\n",
       "    </tr>\n",
       "  </tbody>\n",
       "</table>\n",
       "</div>"
      ],
      "text/plain": [
       "                 acknow         pid  \\\n",
       "4        Lena Nekludova  2145218186   \n",
       "8         Yoseph Barash  2145218186   \n",
       "27       Bruce Stillman  2088922607   \n",
       "30     M. K. Raghuraman  2088922607   \n",
       "40  Gustavo Stolovitzky  2034469541   \n",
       "\n",
       "                                          DisplayName  \n",
       "4   {B. Marshall, Yosef Hochberg, Jeremy M Berg, G...  \n",
       "8   {B. Marshall, Yosef Hochberg, Jeremy M Berg, G...  \n",
       "27  {Luda S. Shlyakhtenko, Ting Chen, John J. Wyri...  \n",
       "30  {Luda S. Shlyakhtenko, Ting Chen, John J. Wyri...  \n",
       "40  {David Maxwell, J. P. M. Postma, Shaun B. Grim...  "
      ]
     },
     "execution_count": 39,
     "metadata": {},
     "output_type": "execute_result"
    }
   ],
   "source": [
    "df_referenced_acknow.head()"
   ]
  },
  {
   "cell_type": "code",
   "execution_count": 40,
   "id": "ad48ef3c-aa50-478d-b8fd-bbb2c3cbfa0a",
   "metadata": {
    "tags": []
   },
   "outputs": [
    {
     "name": "stdout",
     "output_type": "stream",
     "text": [
      "CPU times: user 4.78 s, sys: 1.13 s, total: 5.91 s\n",
      "Wall time: 6.26 s\n"
     ]
    }
   ],
   "source": [
    "%%time\n",
    "df_result1 = pd.merge(df_referenced_acknow, df_merged_auth_refauth_tmp3,  \n",
    "          how='inner',left_on =['pid', 'acknow'],right_on=['pid', 'DisplayName'])"
   ]
  },
  {
   "cell_type": "code",
   "execution_count": 41,
   "id": "f79396c7-8ab6-46a2-bfe7-82ae220ddb31",
   "metadata": {},
   "outputs": [
    {
     "data": {
      "text/html": [
       "<div>\n",
       "<style scoped>\n",
       "    .dataframe tbody tr th:only-of-type {\n",
       "        vertical-align: middle;\n",
       "    }\n",
       "\n",
       "    .dataframe tbody tr th {\n",
       "        vertical-align: top;\n",
       "    }\n",
       "\n",
       "    .dataframe thead th {\n",
       "        text-align: right;\n",
       "    }\n",
       "</style>\n",
       "<table border=\"1\" class=\"dataframe\">\n",
       "  <thead>\n",
       "    <tr style=\"text-align: right;\">\n",
       "      <th></th>\n",
       "      <th>acknow</th>\n",
       "      <th>pid</th>\n",
       "      <th>DisplayName_x</th>\n",
       "      <th>ReferencedAuthorIds</th>\n",
       "      <th>DisplayName_y</th>\n",
       "    </tr>\n",
       "  </thead>\n",
       "  <tbody>\n",
       "    <tr>\n",
       "      <th>0</th>\n",
       "      <td>Lena Nekludova</td>\n",
       "      <td>2145218186</td>\n",
       "      <td>{B. Marshall, Yosef Hochberg, Jeremy M Berg, G...</td>\n",
       "      <td>1991417625</td>\n",
       "      <td>Lena Nekludova</td>\n",
       "    </tr>\n",
       "    <tr>\n",
       "      <th>1</th>\n",
       "      <td>Yoseph Barash</td>\n",
       "      <td>2145218186</td>\n",
       "      <td>{B. Marshall, Yosef Hochberg, Jeremy M Berg, G...</td>\n",
       "      <td>2103482019</td>\n",
       "      <td>Yoseph Barash</td>\n",
       "    </tr>\n",
       "    <tr>\n",
       "      <th>2</th>\n",
       "      <td>Yoseph Barash</td>\n",
       "      <td>2145218186</td>\n",
       "      <td>{B. Marshall, Yosef Hochberg, Jeremy M Berg, G...</td>\n",
       "      <td>2103482019</td>\n",
       "      <td>Yoseph Barash</td>\n",
       "    </tr>\n",
       "    <tr>\n",
       "      <th>3</th>\n",
       "      <td>Bruce Stillman</td>\n",
       "      <td>2088922607</td>\n",
       "      <td>{Luda S. Shlyakhtenko, Ting Chen, John J. Wyri...</td>\n",
       "      <td>2160703791</td>\n",
       "      <td>Bruce Stillman</td>\n",
       "    </tr>\n",
       "    <tr>\n",
       "      <th>4</th>\n",
       "      <td>M. K. Raghuraman</td>\n",
       "      <td>2088922607</td>\n",
       "      <td>{Luda S. Shlyakhtenko, Ting Chen, John J. Wyri...</td>\n",
       "      <td>2063095141</td>\n",
       "      <td>M. K. Raghuraman</td>\n",
       "    </tr>\n",
       "  </tbody>\n",
       "</table>\n",
       "</div>"
      ],
      "text/plain": [
       "             acknow         pid  \\\n",
       "0    Lena Nekludova  2145218186   \n",
       "1     Yoseph Barash  2145218186   \n",
       "2     Yoseph Barash  2145218186   \n",
       "3    Bruce Stillman  2088922607   \n",
       "4  M. K. Raghuraman  2088922607   \n",
       "\n",
       "                                       DisplayName_x ReferencedAuthorIds  \\\n",
       "0  {B. Marshall, Yosef Hochberg, Jeremy M Berg, G...          1991417625   \n",
       "1  {B. Marshall, Yosef Hochberg, Jeremy M Berg, G...          2103482019   \n",
       "2  {B. Marshall, Yosef Hochberg, Jeremy M Berg, G...          2103482019   \n",
       "3  {Luda S. Shlyakhtenko, Ting Chen, John J. Wyri...          2160703791   \n",
       "4  {Luda S. Shlyakhtenko, Ting Chen, John J. Wyri...          2063095141   \n",
       "\n",
       "      DisplayName_y  \n",
       "0    Lena Nekludova  \n",
       "1     Yoseph Barash  \n",
       "2     Yoseph Barash  \n",
       "3    Bruce Stillman  \n",
       "4  M. K. Raghuraman  "
      ]
     },
     "execution_count": 41,
     "metadata": {},
     "output_type": "execute_result"
    }
   ],
   "source": [
    "df_result1.head()"
   ]
  },
  {
   "cell_type": "markdown",
   "id": "8035b484-89bd-404a-a9bc-52c189ae17fd",
   "metadata": {},
   "source": [
    "# Save"
   ]
  },
  {
   "cell_type": "code",
   "execution_count": 44,
   "id": "9bcc3352-76c8-4fa9-b201-6a79ff950d3f",
   "metadata": {},
   "outputs": [],
   "source": [
    "df_result1[['pid', 'acknow', 'ReferencedAuthorIds']].to_csv('../../data-computed-MAG/references_result.csv', index=False)"
   ]
  },
  {
   "cell_type": "code",
   "execution_count": null,
   "id": "6a7f5e05-cf4e-4bc8-8d67-31ddcc503143",
   "metadata": {},
   "outputs": [],
   "source": []
  }
 ],
 "metadata": {
  "kernelspec": {
   "display_name": "Python 3 (ipykernel)",
   "language": "python",
   "name": "python3"
  },
  "language_info": {
   "codemirror_mode": {
    "name": "ipython",
    "version": 3
   },
   "file_extension": ".py",
   "mimetype": "text/x-python",
   "name": "python",
   "nbconvert_exporter": "python",
   "pygments_lexer": "ipython3",
   "version": "3.9.6"
  }
 },
 "nbformat": 4,
 "nbformat_minor": 5
}
